{
 "cells": [
  {
   "cell_type": "code",
   "execution_count": 1,
   "id": "b9975512-24ce-4578-97fc-62fc521c3632",
   "metadata": {},
   "outputs": [
    {
     "name": "stdout",
     "output_type": "stream",
     "text": [
      "Marking org.apache.sedona:sedona-python-adapter-3.0_2.12:1.1.1-incubating for download\n",
      "Obtained 2 files\n",
      "Marking org.apache.sedona:sedona-python-adapter-3.0_2.12:1.1.1-incubating for download\n",
      "Obtained 2 files\n",
      "Marking org.apache.sedona:sedona-core-3.0_2.12:1.0.1-incubating for download\n",
      "Obtained 2 files\n",
      "Marking org.apache.sedona:sedona-core-3.0_2.12:1.0.1-incubating for download\n",
      "Obtained 2 files\n",
      "Marking org.apache.sedona:sedona-sql-3.0_2.12:1.0.1-incubating for download\n",
      "Obtained 2 files\n",
      "Marking org.apache.sedona:sedona-sql-3.0_2.12:1.0.1-incubating for download\n",
      "Obtained 2 files\n",
      "Marking org.datasyslab:geotools-wrapper:1.1.0-25.2 for download\n",
      "Obtained 2 files\n",
      "Marking org.datasyslab:geotools-wrapper:1.1.0-25.2 for download\n",
      "Obtained 2 files\n"
     ]
    }
   ],
   "source": [
    "%AddDeps org.apache.sedona sedona-python-adapter-3.0_2.12 1.1.1-incubating\n",
    "%AddDeps org.apache.sedona sedona-core-3.0_2.12 1.0.1-incubating\n",
    "%AddDeps org.apache.sedona sedona-sql-3.0_2.12 1.0.1-incubating\n",
    "%AddDeps org.datasyslab geotools-wrapper 1.1.0-25.2\n"
   ]
  },
  {
   "cell_type": "code",
   "execution_count": 2,
   "id": "52fa63e9-a9bc-4509-b8cf-6181d612bfa0",
   "metadata": {},
   "outputs": [],
   "source": [
    "import org.apache.spark.sql.{Dataset, Encoder, Encoders}\n",
    "import org.apache.spark.sql.functions._\n",
    "\n",
    "import org.apache.sedona.sql.utils.{Adapter, SedonaSQLRegistrator}\n",
    "import org.apache.sedona.core.serde.SedonaKryoRegistrator\n",
    "import org.apache.sedona.core.spatialRDD.SpatialRDD\n",
    "\n",
    "import org.locationtech.jts.geom.{PrecisionModel, GeometryFactory}\n",
    "\n",
    "import scala.util.Random"
   ]
  },
  {
   "cell_type": "code",
   "execution_count": 3,
   "id": "6214dc70-01fa-4578-906d-439768dc9b80",
   "metadata": {},
   "outputs": [],
   "source": [
    "import org.locationtech.jts.geom.{Geometry, Envelope, Coordinate}\n",
    "import org.locationtech.jts.geom.{Polygon, LineString, Point}"
   ]
  },
  {
   "cell_type": "code",
   "execution_count": 4,
   "id": "05474db0-c1ff-49be-87a8-759e86238299",
   "metadata": {},
   "outputs": [
    {
     "data": {
      "text/plain": [
       "PointEncoder = class[value[0]: binary]\n",
       "LineStringEncoder = class[value[0]: binary]\n",
       "PolygonEncoder = class[value[0]: binary]\n",
       "GeometryEncoder = class[value[0]: binary]\n",
       "EnvelopeEncoder = class[value[0]: binary]\n",
       "CoordinateEncoder = class[value[0]: binary]\n"
      ]
     },
     "metadata": {},
     "output_type": "display_data",
     "source": "user"
    },
    {
     "data": {
      "text/plain": [
       "class[value[0]: binary]"
      ]
     },
     "execution_count": 4,
     "metadata": {},
     "output_type": "execute_result"
    }
   ],
   "source": [
    "implicit val PointEncoder:      Encoder[Point]      = Encoders.kryo[Point]\n",
    "implicit val LineStringEncoder: Encoder[LineString] = Encoders.kryo[LineString]\n",
    "implicit val PolygonEncoder:    Encoder[Polygon]    = Encoders.kryo[Polygon]\n",
    "implicit val GeometryEncoder:   Encoder[Geometry]   = Encoders.kryo[Geometry]\n",
    "implicit val EnvelopeEncoder:   Encoder[Envelope]   = Encoders.kryo[Envelope]\n",
    "implicit val CoordinateEncoder: Encoder[Coordinate] = Encoders.kryo[Coordinate]"
   ]
  },
  {
   "cell_type": "code",
   "execution_count": 5,
   "id": "6f467851-463d-403f-b244-a1d0409b92b2",
   "metadata": {},
   "outputs": [],
   "source": [
    "SedonaSQLRegistrator.registerAll(spark)"
   ]
  },
  {
   "cell_type": "code",
   "execution_count": 6,
   "id": "501001de-5331-4b62-809f-a917adea3004",
   "metadata": {},
   "outputs": [
    {
     "data": {
      "text/plain": [
       "show: [T](ds: org.apache.spark.sql.Dataset[T])Unit\n"
      ]
     },
     "metadata": {},
     "output_type": "display_data",
     "source": "user"
    }
   ],
   "source": [
    "def show[T](ds: Dataset[T]): Unit = {\n",
    "    ds.map{_.toString}.show\n",
    "}"
   ]
  },
  {
   "cell_type": "code",
   "execution_count": 7,
   "id": "7e963cfd-e8a2-45d8-a9fc-d2e0107e35aa",
   "metadata": {},
   "outputs": [
    {
     "data": {
      "text/plain": [
       "model = Fixed (Scale=1000.0)\n",
       "geofactory = org.locationtech.jts.geom.GeometryFactory@1069c933\n"
      ]
     },
     "metadata": {},
     "output_type": "display_data",
     "source": "user"
    },
    {
     "data": {
      "text/plain": [
       "org.locationtech.jts.geom.GeometryFactory@1069c933"
      ]
     },
     "execution_count": 7,
     "metadata": {},
     "output_type": "execute_result"
    }
   ],
   "source": [
    "    implicit val model = new PrecisionModel(1000)\n",
    "    implicit val geofactory = new GeometryFactory(model)"
   ]
  },
  {
   "cell_type": "code",
   "execution_count": 8,
   "id": "e842fdd0-01b3-4acc-b0a3-bbc6071db7c5",
   "metadata": {},
   "outputs": [
    {
     "name": "stdout",
     "output_type": "stream",
     "text": [
      "+-------------+\n",
      "|        value|\n",
      "+-------------+\n",
      "|  POINT (0 0)|\n",
      "|  POINT (1 1)|\n",
      "|  POINT (2 2)|\n",
      "|  POINT (3 3)|\n",
      "|  POINT (4 4)|\n",
      "|  POINT (5 5)|\n",
      "|  POINT (6 6)|\n",
      "|  POINT (7 7)|\n",
      "|  POINT (8 8)|\n",
      "|  POINT (9 9)|\n",
      "|POINT (10 10)|\n",
      "|POINT (11 11)|\n",
      "|POINT (12 12)|\n",
      "|POINT (13 13)|\n",
      "|POINT (14 14)|\n",
      "|POINT (15 15)|\n",
      "|POINT (16 16)|\n",
      "|POINT (17 17)|\n",
      "|POINT (18 18)|\n",
      "|POINT (19 19)|\n",
      "+-------------+\n",
      "only showing top 20 rows\n",
      "\n"
     ]
    },
    {
     "data": {
      "text/plain": [
       "n = 10000\n",
       "spDS = [value: binary]\n"
      ]
     },
     "metadata": {},
     "output_type": "display_data",
     "source": "user"
    },
    {
     "data": {
      "text/plain": [
       "[value: binary]"
      ]
     },
     "execution_count": 8,
     "metadata": {},
     "output_type": "execute_result"
    }
   ],
   "source": [
    "    val n = 10000\n",
    "    val spDS = spark.createDataset{ (0 to n).map{ x =>\n",
    "      geofactory.createPoint(new Coordinate(x,x))}\n",
    "    }\n",
    "    show(spDS)"
   ]
  },
  {
   "cell_type": "code",
   "execution_count": 9,
   "id": "f9fd80a6-c702-487a-94e8-582738d6ce10",
   "metadata": {},
   "outputs": [
    {
     "name": "stdout",
     "output_type": "stream",
     "text": [
      "+--------------------+\n",
      "|               value|\n",
      "+--------------------+\n",
      "|POLYGON ((5 0, 4....|\n",
      "|POLYGON ((6 1, 5....|\n",
      "|POLYGON ((7 2, 6....|\n",
      "|POLYGON ((8 3, 7....|\n",
      "|POLYGON ((9 4, 8....|\n",
      "|POLYGON ((10 5, 9...|\n",
      "|POLYGON ((11 6, 1...|\n",
      "|POLYGON ((12 7, 1...|\n",
      "|POLYGON ((13 8, 1...|\n",
      "|POLYGON ((14 9, 1...|\n",
      "|POLYGON ((15 10, ...|\n",
      "|POLYGON ((16 11, ...|\n",
      "|POLYGON ((17 12, ...|\n",
      "|POLYGON ((18 13, ...|\n",
      "|POLYGON ((19 14, ...|\n",
      "|POLYGON ((20 15, ...|\n",
      "|POLYGON ((21 16, ...|\n",
      "|POLYGON ((22 17, ...|\n",
      "|POLYGON ((23 18, ...|\n",
      "|POLYGON ((24 19, ...|\n",
      "+--------------------+\n",
      "only showing top 20 rows\n",
      "\n"
     ]
    }
   ],
   "source": [
    "    spDS.map{_.buffer(5.0)}.map(_.toText).show"
   ]
  },
  {
   "cell_type": "code",
   "execution_count": 10,
   "id": "7734e374-2b0f-44f1-9df5-2ad053dfcb4d",
   "metadata": {},
   "outputs": [
    {
     "data": {
      "text/plain": [
       "r = scala.util.Random$@507d7ff9\n",
       "data = Vector(POINT (0.8374 0.6172), POINT (0.8618 0.3945), POINT (0.5053 0.1963), POINT (0.2139 0.7115), POINT (0.3452 0.5433), POINT (0.0576 0.2632), POINT (0.0893 0.812), POINT (0.9204 0.1229), POINT (0.6241 0.1748), POINT (0.101 0.964), POINT (0.6047 0.7866), POINT (0.6633 0.9373), POINT (0.9687 0.4095), POINT (0.2216 0.393), POINT (0.6084 0.5508), POINT (0.7616 0.9581), POINT (0.0617 0.7287), POINT (0.73 0.2633), POINT (0.7138 0.5338), POINT (0.1538 0.1754), POINT (0.6704 0.477), POINT (0.6044 0.7363), POINT (0.1554 0.2303), POINT (0.4097 0.1377), POINT (0.0174 0.756), POINT (0.6328 0.9639), POINT (0.6849 0.9916), POINT (0.9898 0.6276), POINT (0.7029 0.216...\n"
      ]
     },
     "metadata": {},
     "output_type": "display_data",
     "source": "user"
    },
    {
     "data": {
      "text/plain": [
       "Vector(POINT (0.8374 0.6172), POINT (0.8618 0.3945), POINT (0.5053 0.1963), POINT (0.2139 0.7115), POINT (0.3452 0.5433), POINT (0.0576 0.2632), POINT (0.0893 0.812), POINT (0.9204 0.1229), POINT (0.6241 0.1748), POINT (0.101 0.964), POINT (0.6047 0.7866), POINT (0.6633 0.9373), POINT (0.9687 0.4095), POINT (0.2216 0.393), POINT (0.6084 0.5508), POINT (0.7616 0.9581), POINT (0.0617 0.7287), POINT (0.73 0.2633), POINT (0.7138 0.5338), POINT (0.1538 0.1754), POINT (0.6704 0.477), POINT (0.6044 0.7363), POINT (0.1554 0.2303), POINT (0.4097 0.1377), POINT (0.0174 0.756), POINT (0.6328 0.9639), POINT (0.6849 0.9916), POINT (0.9898 0.6276), POINT (0.7029 0.216..."
      ]
     },
     "execution_count": 10,
     "metadata": {},
     "output_type": "execute_result"
    }
   ],
   "source": [
    "    val r = Random\n",
    "    val data = for{\n",
    "      i <- (0 to n)\n",
    "    } yield {\n",
    "      val x = r.nextDouble\n",
    "      val y = r.nextDouble\n",
    "\n",
    "      geofactory.createPoint(new Coordinate(x, y))\n",
    "    }"
   ]
  },
  {
   "cell_type": "code",
   "execution_count": 11,
   "id": "91ec9d15-7fb9-4d28-be7c-8cd815a5d2e3",
   "metadata": {},
   "outputs": [
    {
     "name": "stdout",
     "output_type": "stream",
     "text": [
      "+--------------------+\n",
      "|            geometry|\n",
      "+--------------------+\n",
      "|POINT (0.83744725...|\n",
      "|POINT (0.86184683...|\n",
      "|POINT (0.50526068...|\n",
      "|POINT (0.21392708...|\n",
      "|POINT (0.34522873...|\n",
      "|POINT (0.05755030...|\n",
      "|POINT (0.08925518...|\n",
      "|POINT (0.92035594...|\n",
      "|POINT (0.62408571...|\n",
      "|POINT (0.10104947...|\n",
      "|POINT (0.60473223...|\n",
      "|POINT (0.66328239...|\n",
      "|POINT (0.96870846...|\n",
      "|POINT (0.22159365...|\n",
      "|POINT (0.60843127...|\n",
      "|POINT (0.76163127...|\n",
      "|POINT (0.06168199...|\n",
      "|POINT (0.73003558...|\n",
      "|POINT (0.71381016...|\n",
      "|POINT (0.15378071...|\n",
      "+--------------------+\n",
      "only showing top 20 rows\n",
      "\n"
     ]
    },
    {
     "data": {
      "text/plain": [
       "rdd = ParallelCollectionRDD[6] at parallelize at <console>:108\n",
       "spRDD = org.apache.sedona.core.spatialRDD.SpatialRDD@d929fbb\n",
       "spDF = [geometry: geometry]\n"
      ]
     },
     "metadata": {},
     "output_type": "display_data",
     "source": "user"
    },
    {
     "data": {
      "text/plain": [
       "[geometry: geometry]"
      ]
     },
     "execution_count": 11,
     "metadata": {},
     "output_type": "execute_result"
    }
   ],
   "source": [
    "    val rdd = spark.sparkContext.parallelize(data)\n",
    "    val spRDD = new SpatialRDD[Point]\n",
    "    spRDD.setRawSpatialRDD(rdd)\n",
    "    spRDD.analyze\n",
    "    val spDF = Adapter.toDf(spRDD, spark)\n",
    "    spDF.show"
   ]
  },
  {
   "cell_type": "code",
   "execution_count": 12,
   "id": "c032b64a-0e68-4f49-8772-df6de6d6a70a",
   "metadata": {},
   "outputs": [
    {
     "data": {
      "text/plain": [
       "epsilon = 5.0\n",
       "j = [geometry: geometry, geometry: geometry]\n"
      ]
     },
     "metadata": {},
     "output_type": "display_data",
     "source": "user"
    },
    {
     "data": {
      "text/plain": [
       "[geometry: geometry, geometry: geometry]"
      ]
     },
     "execution_count": 12,
     "metadata": {},
     "output_type": "execute_result"
    }
   ],
   "source": [
    "    val epsilon = 5.0\n",
    "    val j = spDF.as(\"a\")\n",
    "      .join(spDF.as(\"b\"), expr(s\"ST_Distance(a.geometry, b.geometry) < $epsilon\"))"
   ]
  },
  {
   "cell_type": "code",
   "execution_count": 13,
   "id": "cabfd776-19ba-4027-9f1a-691ec5fe5696",
   "metadata": {},
   "outputs": [
    {
     "name": "stdout",
     "output_type": "stream",
     "text": [
      "+--------------------+\n",
      "|               value|\n",
      "+--------------------+\n",
      "|Env[-9.1625527414...|\n",
      "|Env[-9.1381531678...|\n",
      "|Env[-9.4947393124...|\n",
      "|Env[-9.7860729110...|\n",
      "|Env[-9.6547712622...|\n",
      "|Env[-9.9424496988...|\n",
      "|Env[-9.9107448121...|\n",
      "|Env[-9.0796440544...|\n",
      "|Env[-9.3759142843...|\n",
      "|Env[-9.8989505240...|\n",
      "|Env[-9.3952677675...|\n",
      "|Env[-9.3367176088...|\n",
      "|Env[-9.0312915313...|\n",
      "|Env[-9.7784063435...|\n",
      "|Env[-9.3915687215...|\n",
      "|Env[-9.2383687245...|\n",
      "|Env[-9.9383180094...|\n",
      "|Env[-9.2699644168...|\n",
      "|Env[-9.2861898307...|\n",
      "|Env[-9.8462192883...|\n",
      "+--------------------+\n",
      "only showing top 20 rows\n",
      "\n"
     ]
    },
    {
     "data": {
      "text/plain": [
       "envelopes = [value: binary]\n"
      ]
     },
     "metadata": {},
     "output_type": "display_data",
     "source": "user"
    },
    {
     "data": {
      "text/plain": [
       "[value: binary]"
      ]
     },
     "execution_count": 13,
     "metadata": {},
     "output_type": "execute_result"
    }
   ],
   "source": [
    "    val envelopes = spDF.map{ x =>\n",
    "      val p = x.getAs[Point](0)\n",
    "      val e = p.getEnvelopeInternal\n",
    "      e.expandBy(10.0)\n",
    "      e\n",
    "    }\n",
    "\n",
    "    show(envelopes)"
   ]
  },
  {
   "cell_type": "code",
   "execution_count": null,
   "id": "06cf761e-8cba-4a38-a7cd-4573a3c44fee",
   "metadata": {},
   "outputs": [],
   "source": []
  }
 ],
 "metadata": {
  "kernelspec": {
   "display_name": "Apache Toree - Scala",
   "language": "scala",
   "name": "apache_toree_scala"
  },
  "language_info": {
   "codemirror_mode": "text/x-scala",
   "file_extension": ".scala",
   "mimetype": "text/x-scala",
   "name": "scala",
   "pygments_lexer": "scala",
   "version": "2.12.15"
  }
 },
 "nbformat": 4,
 "nbformat_minor": 5
}
