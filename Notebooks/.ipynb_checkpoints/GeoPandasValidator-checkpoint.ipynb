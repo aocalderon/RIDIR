{
 "cells": [
  {
   "cell_type": "code",
   "execution_count": 86,
   "metadata": {},
   "outputs": [],
   "source": [
    "from shapely.geometry import Polygon\n",
    "from shapely import wkt\n",
    "import numpy as np\n",
    "import pandas as pd\n",
    "import geopandas as gpd\n",
    "from tobler import area_tables"
   ]
  },
  {
   "cell_type": "code",
   "execution_count": 87,
   "metadata": {},
   "outputs": [],
   "source": [
    "DATASET_PATH=\"/home/acald013/Datasets/ArealTests\"\n",
    "STATE=\"MD\""
   ]
  },
  {
   "cell_type": "code",
   "execution_count": 88,
   "metadata": {},
   "outputs": [
    {
     "data": {
      "text/html": [
       "<div>\n",
       "<style scoped>\n",
       "    .dataframe tbody tr th:only-of-type {\n",
       "        vertical-align: middle;\n",
       "    }\n",
       "\n",
       "    .dataframe tbody tr th {\n",
       "        vertical-align: top;\n",
       "    }\n",
       "\n",
       "    .dataframe thead th {\n",
       "        text-align: right;\n",
       "    }\n",
       "</style>\n",
       "<table border=\"1\" class=\"dataframe\">\n",
       "  <thead>\n",
       "    <tr style=\"text-align: right;\">\n",
       "      <th></th>\n",
       "      <th>geom</th>\n",
       "      <th>id</th>\n",
       "    </tr>\n",
       "  </thead>\n",
       "  <tbody>\n",
       "    <tr>\n",
       "      <th>0</th>\n",
       "      <td>POLYGON ((-76.00703900000001 39.438765, -76.01...</td>\n",
       "      <td>30252</td>\n",
       "    </tr>\n",
       "    <tr>\n",
       "      <th>1</th>\n",
       "      <td>POLYGON ((-76.656671 39.283309, -76.6577000000...</td>\n",
       "      <td>30927</td>\n",
       "    </tr>\n",
       "    <tr>\n",
       "      <th>2</th>\n",
       "      <td>POLYGON ((-76.6828 39.3719, -76.6828 39.3732, ...</td>\n",
       "      <td>29991</td>\n",
       "    </tr>\n",
       "    <tr>\n",
       "      <th>3</th>\n",
       "      <td>POLYGON ((-76.9986 39.4937, -77.002259 39.4892...</td>\n",
       "      <td>30048</td>\n",
       "    </tr>\n",
       "    <tr>\n",
       "      <th>4</th>\n",
       "      <td>POLYGON ((-76.4689 39.0364, -76.46816699999999...</td>\n",
       "      <td>29708</td>\n",
       "    </tr>\n",
       "  </tbody>\n",
       "</table>\n",
       "</div>"
      ],
      "text/plain": [
       "                                                geom     id\n",
       "0  POLYGON ((-76.00703900000001 39.438765, -76.01...  30252\n",
       "1  POLYGON ((-76.656671 39.283309, -76.6577000000...  30927\n",
       "2  POLYGON ((-76.6828 39.3719, -76.6828 39.3732, ...  29991\n",
       "3  POLYGON ((-76.9986 39.4937, -77.002259 39.4892...  30048\n",
       "4  POLYGON ((-76.4689 39.0364, -76.46816699999999...  29708"
      ]
     },
     "execution_count": 88,
     "metadata": {},
     "output_type": "execute_result"
    }
   ],
   "source": [
    "data = pd.read_csv(\"{}/{}_source.wkt\".format(DATASET_PATH, STATE), sep = '\\t', header = None, names = [\"geom\", \"id\"])\n",
    "data['geom'] = data['geom'].apply(wkt.loads)\n",
    "source = gpd.GeoDataFrame(data, geometry='geom')\n",
    "source.head()"
   ]
  },
  {
   "cell_type": "code",
   "execution_count": 89,
   "metadata": {},
   "outputs": [
    {
     "data": {
      "text/plain": [
       "geom    672\n",
       "id      672\n",
       "dtype: int64"
      ]
     },
     "execution_count": 89,
     "metadata": {},
     "output_type": "execute_result"
    }
   ],
   "source": [
    "source.count()"
   ]
  },
  {
   "cell_type": "code",
   "execution_count": 90,
   "metadata": {},
   "outputs": [
    {
     "data": {
      "text/html": [
       "<div>\n",
       "<style scoped>\n",
       "    .dataframe tbody tr th:only-of-type {\n",
       "        vertical-align: middle;\n",
       "    }\n",
       "\n",
       "    .dataframe tbody tr th {\n",
       "        vertical-align: top;\n",
       "    }\n",
       "\n",
       "    .dataframe thead th {\n",
       "        text-align: right;\n",
       "    }\n",
       "</style>\n",
       "<table border=\"1\" class=\"dataframe\">\n",
       "  <thead>\n",
       "    <tr style=\"text-align: right;\">\n",
       "      <th></th>\n",
       "      <th>geom</th>\n",
       "      <th>id</th>\n",
       "    </tr>\n",
       "  </thead>\n",
       "  <tbody>\n",
       "    <tr>\n",
       "      <th>0</th>\n",
       "      <td>POLYGON ((-76.43777 39.301037, -76.43901199999...</td>\n",
       "      <td>29894</td>\n",
       "    </tr>\n",
       "    <tr>\n",
       "      <th>1</th>\n",
       "      <td>POLYGON ((-76.63220099999999 39.198441, -76.63...</td>\n",
       "      <td>29737</td>\n",
       "    </tr>\n",
       "    <tr>\n",
       "      <th>2</th>\n",
       "      <td>POLYGON ((-76.03688 39.221225, -76.028221 39.2...</td>\n",
       "      <td>30746</td>\n",
       "    </tr>\n",
       "    <tr>\n",
       "      <th>3</th>\n",
       "      <td>POLYGON ((-76.81141099999999 39.390704, -76.81...</td>\n",
       "      <td>29948</td>\n",
       "    </tr>\n",
       "    <tr>\n",
       "      <th>4</th>\n",
       "      <td>POLYGON ((-76.46052399999999 39.355685, -76.46...</td>\n",
       "      <td>29999</td>\n",
       "    </tr>\n",
       "  </tbody>\n",
       "</table>\n",
       "</div>"
      ],
      "text/plain": [
       "                                                geom     id\n",
       "0  POLYGON ((-76.43777 39.301037, -76.43901199999...  29894\n",
       "1  POLYGON ((-76.63220099999999 39.198441, -76.63...  29737\n",
       "2  POLYGON ((-76.03688 39.221225, -76.028221 39.2...  30746\n",
       "3  POLYGON ((-76.81141099999999 39.390704, -76.81...  29948\n",
       "4  POLYGON ((-76.46052399999999 39.355685, -76.46...  29999"
      ]
     },
     "execution_count": 90,
     "metadata": {},
     "output_type": "execute_result"
    }
   ],
   "source": [
    "data = pd.read_csv(\"{}/{}_target.wkt\".format(DATASET_PATH, STATE), sep = '\\t', header = None, names = [\"geom\", \"id\"])\n",
    "data['geom'] = data['geom'].apply(wkt.loads)\n",
    "target = gpd.GeoDataFrame(data, geometry='geom')\n",
    "target.head()"
   ]
  },
  {
   "cell_type": "code",
   "execution_count": 91,
   "metadata": {},
   "outputs": [
    {
     "data": {
      "text/plain": [
       "geom    715\n",
       "id      715\n",
       "dtype: int64"
      ]
     },
     "execution_count": 91,
     "metadata": {},
     "output_type": "execute_result"
    }
   ],
   "source": [
    "target.count()"
   ]
  },
  {
   "cell_type": "code",
   "execution_count": 92,
   "metadata": {},
   "outputs": [],
   "source": [
    "(SU, UT) = area_tables(source, target)"
   ]
  },
  {
   "cell_type": "code",
   "execution_count": 93,
   "metadata": {},
   "outputs": [
    {
     "data": {
      "text/plain": [
       "(672, 4604)"
      ]
     },
     "execution_count": 93,
     "metadata": {},
     "output_type": "execute_result"
    }
   ],
   "source": [
    "SU.shape"
   ]
  },
  {
   "cell_type": "code",
   "execution_count": 94,
   "metadata": {},
   "outputs": [
    {
     "data": {
      "text/plain": [
       "(4604, 715)"
      ]
     },
     "execution_count": 94,
     "metadata": {},
     "output_type": "execute_result"
    }
   ],
   "source": [
    "UT.shape"
   ]
  },
  {
   "cell_type": "code",
   "execution_count": 95,
   "metadata": {},
   "outputs": [],
   "source": [
    "tobler = np.dot(SU, UT)"
   ]
  },
  {
   "cell_type": "code",
   "execution_count": 96,
   "metadata": {},
   "outputs": [
    {
     "data": {
      "text/plain": [
       "30252"
      ]
     },
     "execution_count": 96,
     "metadata": {},
     "output_type": "execute_result"
    }
   ],
   "source": [
    "source['id'][0]"
   ]
  },
  {
   "cell_type": "code",
   "execution_count": 100,
   "metadata": {},
   "outputs": [],
   "source": [
    "count = 1\n",
    "toblerFile = open(\"/tmp/geopandas_test.tsv\", \"w\")\n",
    "for i in range(tobler.shape[0]):\n",
    "    for j in range(tobler.shape[1]):\n",
    "        area = tobler[i,j]\n",
    "        if area > 0:\n",
    "            toblerFile.write(\"{}\\t{}\\t{}\\n\".format(target['id'][j], source['id'][i], area))\n",
    "            count = count + 1\n",
    "toblerFile.close()"
   ]
  }
 ],
 "metadata": {
  "kernelspec": {
   "display_name": "Python [conda env:tobler]",
   "language": "python",
   "name": "conda-env-tobler-py"
  },
  "language_info": {
   "codemirror_mode": {
    "name": "ipython",
    "version": 3
   },
   "file_extension": ".py",
   "mimetype": "text/x-python",
   "name": "python",
   "nbconvert_exporter": "python",
   "pygments_lexer": "ipython3",
   "version": "3.7.3"
  }
 },
 "nbformat": 4,
 "nbformat_minor": 2
}
