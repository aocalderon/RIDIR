{
 "cells": [
  {
   "cell_type": "code",
   "execution_count": 2,
   "metadata": {},
   "outputs": [],
   "source": [
    "library(ggplot2)"
   ]
  },
  {
   "cell_type": "code",
   "execution_count": 8,
   "metadata": {},
   "outputs": [
    {
     "data": {
      "text/html": [
       "<table>\n",
       "<thead><tr><th scope=col>tid</th><th scope=col>spark_intensive</th></tr></thead>\n",
       "<tbody>\n",
       "\t<tr><td>T42101000052</td><td>0.0007711345</td></tr>\n",
       "\t<tr><td>T42101000050</td><td>0.0018783934</td></tr>\n",
       "\t<tr><td>T42101000145</td><td>0.0086803036</td></tr>\n",
       "\t<tr><td>T42101000094</td><td>0.0090314341</td></tr>\n",
       "\t<tr><td>T42101000057</td><td>0.0101612361</td></tr>\n",
       "\t<tr><td>T42101000147</td><td>0.0114605902</td></tr>\n",
       "</tbody>\n",
       "</table>\n"
      ],
      "text/latex": [
       "\\begin{tabular}{r|ll}\n",
       " tid & spark\\_intensive\\\\\n",
       "\\hline\n",
       "\t T42101000052 & 0.0007711345\\\\\n",
       "\t T42101000050 & 0.0018783934\\\\\n",
       "\t T42101000145 & 0.0086803036\\\\\n",
       "\t T42101000094 & 0.0090314341\\\\\n",
       "\t T42101000057 & 0.0101612361\\\\\n",
       "\t T42101000147 & 0.0114605902\\\\\n",
       "\\end{tabular}\n"
      ],
      "text/markdown": [
       "\n",
       "| tid | spark_intensive |\n",
       "|---|---|\n",
       "| T42101000052 | 0.0007711345 |\n",
       "| T42101000050 | 0.0018783934 |\n",
       "| T42101000145 | 0.0086803036 |\n",
       "| T42101000094 | 0.0090314341 |\n",
       "| T42101000057 | 0.0101612361 |\n",
       "| T42101000147 | 0.0114605902 |\n",
       "\n"
      ],
      "text/plain": [
       "  tid          spark_intensive\n",
       "1 T42101000052 0.0007711345   \n",
       "2 T42101000050 0.0018783934   \n",
       "3 T42101000145 0.0086803036   \n",
       "4 T42101000094 0.0090314341   \n",
       "5 T42101000057 0.0101612361   \n",
       "6 T42101000147 0.0114605902   "
      ]
     },
     "metadata": {},
     "output_type": "display_data"
    }
   ],
   "source": [
    "path = \"/home/acald013/RIDIR/Code//Validation/Source2000/\"\n",
    "spark_intensive = read.table(paste0(path, \"geospark_intensive.tsv\"), header = F, sep = \"\\t\")\n",
    "names(spark_intensive) = c(\"tid\", \"spark_intensive\")\n",
    "head(spark_intensive)"
   ]
  },
  {
   "cell_type": "code",
   "execution_count": 9,
   "metadata": {},
   "outputs": [
    {
     "data": {
      "text/html": [
       "<table>\n",
       "<thead><tr><th scope=col>tid</th><th scope=col>pandas_intensive</th></tr></thead>\n",
       "<tbody>\n",
       "\t<tr><td>T42101000001</td><td>1.3166829   </td></tr>\n",
       "\t<tr><td>T42101000002</td><td>0.4605928   </td></tr>\n",
       "\t<tr><td>T42101000003</td><td>3.7713033   </td></tr>\n",
       "\t<tr><td>T42101000004</td><td>0.9411258   </td></tr>\n",
       "\t<tr><td>T42101000005</td><td>0.1346900   </td></tr>\n",
       "\t<tr><td>T42101000006</td><td>0.6088216   </td></tr>\n",
       "</tbody>\n",
       "</table>\n"
      ],
      "text/latex": [
       "\\begin{tabular}{r|ll}\n",
       " tid & pandas\\_intensive\\\\\n",
       "\\hline\n",
       "\t T42101000001 & 1.3166829   \\\\\n",
       "\t T42101000002 & 0.4605928   \\\\\n",
       "\t T42101000003 & 3.7713033   \\\\\n",
       "\t T42101000004 & 0.9411258   \\\\\n",
       "\t T42101000005 & 0.1346900   \\\\\n",
       "\t T42101000006 & 0.6088216   \\\\\n",
       "\\end{tabular}\n"
      ],
      "text/markdown": [
       "\n",
       "| tid | pandas_intensive |\n",
       "|---|---|\n",
       "| T42101000001 | 1.3166829    |\n",
       "| T42101000002 | 0.4605928    |\n",
       "| T42101000003 | 3.7713033    |\n",
       "| T42101000004 | 0.9411258    |\n",
       "| T42101000005 | 0.1346900    |\n",
       "| T42101000006 | 0.6088216    |\n",
       "\n"
      ],
      "text/plain": [
       "  tid          pandas_intensive\n",
       "1 T42101000001 1.3166829       \n",
       "2 T42101000002 0.4605928       \n",
       "3 T42101000003 3.7713033       \n",
       "4 T42101000004 0.9411258       \n",
       "5 T42101000005 0.1346900       \n",
       "6 T42101000006 0.6088216       "
      ]
     },
     "metadata": {},
     "output_type": "display_data"
    }
   ],
   "source": [
    "pandas_intensive = read.table(paste0(path, \"geopandas_intensive.tsv\"), header = F, sep = \"\\t\")\n",
    "names(pandas_intensive) = c(\"tid\", \"pandas_intensive\")\n",
    "head(pandas_intensive)"
   ]
  },
  {
   "cell_type": "code",
   "execution_count": 12,
   "metadata": {},
   "outputs": [
    {
     "data": {
      "text/html": [
       "<table>\n",
       "<thead><tr><th scope=col>tid</th><th scope=col>pandas_intensive</th><th scope=col>spark_intensive</th></tr></thead>\n",
       "<tbody>\n",
       "\t<tr><td>T42101000001</td><td>1.3166829   </td><td>1.3166829   </td></tr>\n",
       "\t<tr><td>T42101000002</td><td>0.4605928   </td><td>0.4605928   </td></tr>\n",
       "\t<tr><td>T42101000003</td><td>3.7713033   </td><td>3.7656054   </td></tr>\n",
       "\t<tr><td>T42101000004</td><td>0.9411258   </td><td>0.9385042   </td></tr>\n",
       "\t<tr><td>T42101000005</td><td>0.1346900   </td><td>0.1346900   </td></tr>\n",
       "\t<tr><td>T42101000006</td><td>0.6088216   </td><td>0.6088216   </td></tr>\n",
       "</tbody>\n",
       "</table>\n"
      ],
      "text/latex": [
       "\\begin{tabular}{r|lll}\n",
       " tid & pandas\\_intensive & spark\\_intensive\\\\\n",
       "\\hline\n",
       "\t T42101000001 & 1.3166829    & 1.3166829   \\\\\n",
       "\t T42101000002 & 0.4605928    & 0.4605928   \\\\\n",
       "\t T42101000003 & 3.7713033    & 3.7656054   \\\\\n",
       "\t T42101000004 & 0.9411258    & 0.9385042   \\\\\n",
       "\t T42101000005 & 0.1346900    & 0.1346900   \\\\\n",
       "\t T42101000006 & 0.6088216    & 0.6088216   \\\\\n",
       "\\end{tabular}\n"
      ],
      "text/markdown": [
       "\n",
       "| tid | pandas_intensive | spark_intensive |\n",
       "|---|---|---|\n",
       "| T42101000001 | 1.3166829    | 1.3166829    |\n",
       "| T42101000002 | 0.4605928    | 0.4605928    |\n",
       "| T42101000003 | 3.7713033    | 3.7656054    |\n",
       "| T42101000004 | 0.9411258    | 0.9385042    |\n",
       "| T42101000005 | 0.1346900    | 0.1346900    |\n",
       "| T42101000006 | 0.6088216    | 0.6088216    |\n",
       "\n"
      ],
      "text/plain": [
       "  tid          pandas_intensive spark_intensive\n",
       "1 T42101000001 1.3166829        1.3166829      \n",
       "2 T42101000002 0.4605928        0.4605928      \n",
       "3 T42101000003 3.7713033        3.7656054      \n",
       "4 T42101000004 0.9411258        0.9385042      \n",
       "5 T42101000005 0.1346900        0.1346900      \n",
       "6 T42101000006 0.6088216        0.6088216      "
      ]
     },
     "metadata": {},
     "output_type": "display_data"
    }
   ],
   "source": [
    "result = merge(pandas_intensive, spark_intensive, by=\"tid\")\n",
    "head(result)"
   ]
  },
  {
   "cell_type": "code",
   "execution_count": null,
   "metadata": {},
   "outputs": [],
   "source": [
    "ggplot(data = result, aes(x = pandas_intensive, y = spark_intensive)) + geom_point()"
   ]
  },
  {
   "cell_type": "code",
   "execution_count": null,
   "metadata": {},
   "outputs": [],
   "source": []
  }
 ],
 "metadata": {
  "kernelspec": {
   "display_name": "R",
   "language": "R",
   "name": "ir"
  },
  "language_info": {
   "codemirror_mode": "r",
   "file_extension": ".r",
   "mimetype": "text/x-r-source",
   "name": "R",
   "pygments_lexer": "r",
   "version": "3.5.2"
  }
 },
 "nbformat": 4,
 "nbformat_minor": 2
}
