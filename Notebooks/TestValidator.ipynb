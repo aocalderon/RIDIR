{
 "cells": [
  {
   "cell_type": "code",
   "execution_count": 1,
   "metadata": {},
   "outputs": [
    {
     "name": "stdout",
     "output_type": "stream",
     "text": [
      "Loading spark-stubs\n",
      "Creating SparkSession\n"
     ]
    },
    {
     "name": "stderr",
     "output_type": "stream",
     "text": [
      "Using Spark's default log4j profile: org/apache/spark/log4j-defaults.properties\n"
     ]
    },
    {
     "data": {
      "text/plain": [
       "\u001b[32mimport \u001b[39m\u001b[36m$ivy.$                                   // Or use any other 2.x version here\n",
       "\u001b[39m\n",
       "\u001b[32mimport \u001b[39m\u001b[36m$ivy.$                                    \n",
       "\u001b[39m\n",
       "\u001b[32mimport \u001b[39m\u001b[36m$ivy.$                                \n",
       "\u001b[39m\n",
       "\u001b[32mimport \u001b[39m\u001b[36m$ivy.$                              \n",
       "\n",
       "\u001b[39m\n",
       "\u001b[32mimport \u001b[39m\u001b[36morg.apache.spark.serializer.KryoSerializer\n",
       "\u001b[39m\n",
       "\u001b[32mimport \u001b[39m\u001b[36morg.apache.spark.storage.StorageLevel\n",
       "\u001b[39m\n",
       "\u001b[32mimport \u001b[39m\u001b[36morg.apache.spark.mllib.evaluation.RegressionMetrics\n",
       "\u001b[39m\n",
       "\u001b[32mimport \u001b[39m\u001b[36morg.apache.spark.rdd.RDD\n",
       "\u001b[39m\n",
       "\u001b[32mimport \u001b[39m\u001b[36morg.datasyslab.geospark.enums.{GridType, IndexType}\n",
       "\u001b[39m\n",
       "\u001b[32mimport \u001b[39m\u001b[36morg.datasyslab.geospark.spatialOperator.JoinQuery\n",
       "\u001b[39m\n",
       "\u001b[32mimport \u001b[39m\u001b[36morg.datasyslab.geospark.formatMapper.shapefileParser.ShapefileReader\n",
       "\u001b[39m\n",
       "\u001b[32mimport \u001b[39m\u001b[36mscala.collection.JavaConverters._\n",
       "\u001b[39m\n",
       "\u001b[32mimport \u001b[39m\u001b[36mjava.io._\n",
       "\u001b[39m\n",
       "\u001b[32mimport \u001b[39m\u001b[36morg.apache.log4j.{Level, Logger}\n",
       "\u001b[39m\n",
       "\u001b[32mimport \u001b[39m\u001b[36morg.apache.spark.sql._\n",
       "\n",
       "\u001b[39m\n",
       "\u001b[36mspark\u001b[39m: \u001b[32mSparkSession\u001b[39m = org.apache.spark.sql.SparkSession@1e73cbad\n",
       "\u001b[32mimport \u001b[39m\u001b[36mspark.implicits._\n",
       "\u001b[39m\n",
       "\u001b[36mappID\u001b[39m: \u001b[32mString\u001b[39m = \u001b[32m\"local-1556577504248\"\u001b[39m"
      ]
     },
     "execution_count": 1,
     "metadata": {},
     "output_type": "execute_result"
    }
   ],
   "source": [
    "import $ivy.`org.apache.spark::spark-sql:2.4.0` // Or use any other 2.x version here\n",
    "import $ivy.`org.apache.spark::spark-mllib:2.4.0`\n",
    "import $ivy.`sh.almond::ammonite-spark:0.4.0`\n",
    "import $ivy.`org.datasyslab:geospark:1.2.0`\n",
    "\n",
    "import org.apache.spark.serializer.KryoSerializer\n",
    "import org.apache.spark.storage.StorageLevel\n",
    "import org.apache.spark.mllib.evaluation.RegressionMetrics\n",
    "import org.apache.spark.rdd.RDD\n",
    "import org.datasyslab.geospark.enums.{GridType, IndexType}\n",
    "import org.datasyslab.geospark.spatialOperator.JoinQuery\n",
    "import org.datasyslab.geospark.formatMapper.shapefileParser.ShapefileReader\n",
    "import scala.collection.JavaConverters._\n",
    "import java.io._\n",
    "import org.apache.log4j.{Level, Logger}\n",
    "Logger.getLogger(\"org\").setLevel(Level.OFF)\n",
    "\n",
    "import org.apache.spark.sql._\n",
    "\n",
    "val spark = AmmoniteSparkSession.builder()\n",
    "    .master(\"local[*]\").appName(\"Validator\")\n",
    "    .getOrCreate()\n",
    "import spark.implicits._\n",
    "val appID = spark.sparkContext.applicationId"
   ]
  },
  {
   "cell_type": "markdown",
   "metadata": {},
   "source": [
    "### Collecting datasets...\n",
    "Polygons from 18 states were collected for both source and target in WKT format. They are available at: https://github.com/aocalderon/RIDIR/tree/master/Datasets/AreaTablesValidation."
   ]
  },
  {
   "cell_type": "code",
   "execution_count": 2,
   "metadata": {},
   "outputs": [
    {
     "name": "stdout",
     "output_type": "stream",
     "text": [
      "-rw-rw-r-- 1 acald013 acald013 7.3M Apr 19 09:29 AL_source.wkt\n",
      "-rw-rw-r-- 1 acald013 acald013 3.9M Apr 19 09:29 AL_target.wkt\n",
      "-rw-rw-r-- 1 acald013 acald013 5.4M Apr 19 09:29 AZ_source.wkt\n",
      "-rw-rw-r-- 1 acald013 acald013 3.4M Apr 19 09:29 AZ_target.wkt\n",
      "-rw-rw-r-- 1 acald013 acald013 5.0M Apr 19 09:29 CO_source.wkt\n",
      "-rw-rw-r-- 1 acald013 acald013 2.8M Apr 19 09:29 CO_target.wkt\n",
      "-rw-rw-r-- 1 acald013 acald013 1.5M Apr 19 09:29 CT_source.wkt\n",
      "-rw-rw-r-- 1 acald013 acald013 1.4M Apr 19 09:29 CT_target.wkt\n",
      "-rw-rw-r-- 1 acald013 acald013 9.0M Apr 19 09:29 GA_source.wkt\n",
      "-rw-rw-r-- 1 acald013 acald013 4.8M Apr 19 09:29 GA_target.wkt\n",
      "-rw-rw-r-- 1 acald013 acald013 3.2M Apr 19 09:29 IL_source.wkt\n",
      "-rw-rw-r-- 1 acald013 acald013 1.8M Apr 19 09:29 IL_target.wkt\n",
      "-rw-rw-r-- 1 acald013 acald013 3.3M Apr 19 09:29 IN_source.wkt\n",
      "-rw-rw-r-- 1 acald013 acald013 2.3M Apr 19 09:29 IN_target.wkt\n",
      "-rw-rw-r-- 1 acald013 acald013 6.9M Apr 19 09:29 LA_source.wkt\n",
      "-rw-rw-r-- 1 acald013 acald013 3.0M Apr 19 09:29 LA_target.wkt\n",
      "-rw-rw-r-- 1 acald013 acald013 1.5M Apr 19 09:29 MD_source.wkt\n",
      "-rw-rw-r-- 1 acald013 acald013 1.3M Apr 19 09:29 MD_target.wkt\n",
      "-rw-rw-r-- 1 acald013 acald013 9.3M Apr 19 09:29 NC_source.wkt\n",
      "-rw-rw-r-- 1 acald013 acald013 5.6M Apr 19 09:29 NC_target.wkt\n",
      "-rw-rw-r-- 1 acald013 acald013 2.7M Apr 19 09:29 NV_source.wkt\n",
      "-rw-rw-r-- 1 acald013 acald013 1.4M Apr 19 09:29 NV_target.wkt\n",
      "-rw-rw-r-- 1 acald013 acald013 4.4M Apr 19 09:29 NY_source.wkt\n",
      "-rw-rw-r-- 1 acald013 acald013 2.3M Apr 19 09:29 NY_target.wkt\n",
      "-rw-rw-r-- 1 acald013 acald013 4.5M Apr 19 09:29 OK_source.wkt\n",
      "-rw-rw-r-- 1 acald013 acald013 2.1M Apr 19 09:29 OK_target.wkt\n",
      "-rw-rw-r-- 1 acald013 acald013 7.3M Apr 19 09:29 PA_source.wkt\n",
      "-rw-rw-r-- 1 acald013 acald013 4.6M Apr 19 09:29 PA_target.wkt\n",
      "-rw-rw-r-- 1 acald013 acald013 5.5M Apr 19 09:29 SC_source.wkt\n",
      "-rw-rw-r-- 1 acald013 acald013 3.0M Apr 19 09:29 SC_target.wkt\n",
      "-rw-rw-r-- 1 acald013 acald013 7.2M Apr 19 09:29 TN_source.wkt\n",
      "-rw-rw-r-- 1 acald013 acald013 4.1M Apr 19 09:29 TN_target.wkt\n",
      "-rw-rw-r-- 1 acald013 acald013 6.1M Apr 19 09:29 WA_source.wkt\n",
      "-rw-rw-r-- 1 acald013 acald013 3.7M Apr 19 09:29 WA_target.wkt\n",
      "-rw-rw-r-- 1 acald013 acald013 3.3M Apr 19 09:29 WI_source.wkt\n",
      "-rw-rw-r-- 1 acald013 acald013 2.2M Apr 19 09:29 WI_target.wkt\n"
     ]
    },
    {
     "data": {
      "text/plain": [
       "\u001b[32mimport \u001b[39m\u001b[36msys.process._\n",
       "\n",
       "\u001b[39m\n",
       "\u001b[36mpath\u001b[39m: \u001b[32mString\u001b[39m = \u001b[32m\"/home/acald013/RIDIR/Datasets/AreaTablesValidation\"\u001b[39m\n",
       "\u001b[36mres1_2\u001b[39m: \u001b[32mInt\u001b[39m = \u001b[32m0\u001b[39m"
      ]
     },
     "execution_count": 2,
     "metadata": {},
     "output_type": "execute_result"
    }
   ],
   "source": [
    "import sys.process._\n",
    "\n",
    "val path = \"/home/acald013/RIDIR/Datasets/AreaTablesValidation\"\n",
    "s\"ls -lah ${path}\" #| \"grep wkt\" !"
   ]
  },
  {
   "cell_type": "markdown",
   "metadata": {},
   "source": [
    "For each set of source & target, we run the corresponding script:\n",
    "\n",
    "* For GeoPandas implementation: https://github.com/aocalderon/RIDIR/blob/master/Code/Validation/GeoPandas_area_table_tester.py\n",
    "* For GeoSpark implementation: https://github.com/aocalderon/RIDIR/blob/master/Code/Areal/src/main/scala/GeoSpark_area_table_tester.scala\n",
    "\n",
    "Each script save the results to disk for further analysis (files are also available in the same repo)."
   ]
  },
  {
   "cell_type": "code",
   "execution_count": 3,
   "metadata": {},
   "outputs": [
    {
     "name": "stdout",
     "output_type": "stream",
     "text": [
      "-rw-rw-r-- 1 acald013 acald013 162K Apr 19 09:29 AL_geopandas_test.tsv\n",
      "-rw-rw-r-- 1 acald013 acald013 157K Apr 19 09:29 AL_geospark_test.tsv\n",
      "-rw-rw-r-- 1 acald013 acald013 165K Apr 19 09:29 AZ_geopandas_test.tsv\n",
      "-rw-rw-r-- 1 acald013 acald013 161K Apr 19 09:29 AZ_geospark_test.tsv\n",
      "-rw-rw-r-- 1 acald013 acald013 169K Apr 19 09:29 CO_geopandas_test.tsv\n",
      "-rw-rw-r-- 1 acald013 acald013 164K Apr 19 09:29 CO_geospark_test.tsv\n",
      "-rw-rw-r-- 1 acald013 acald013 145K Apr 19 09:29 CT_geopandas_test.tsv\n",
      "-rw-rw-r-- 1 acald013 acald013 141K Apr 19 09:29 CT_geospark_test.tsv\n",
      "-rw-rw-r-- 1 acald013 acald013 257K Apr 19 09:29 GA_geopandas_test.tsv\n",
      "-rw-rw-r-- 1 acald013 acald013 251K Apr 19 09:29 GA_geospark_test.tsv\n",
      "-rw-rw-r-- 1 acald013 acald013 126K Apr 19 09:29 IL_geopandas_test.tsv\n",
      "-rw-rw-r-- 1 acald013 acald013 123K Apr 19 09:29 IL_geospark_test.tsv\n",
      "-rw-rw-r-- 1 acald013 acald013 186K Apr 19 09:29 IN_geopandas_test.tsv\n",
      "-rw-rw-r-- 1 acald013 acald013 181K Apr 19 09:29 IN_geospark_test.tsv\n",
      "-rw-rw-r-- 1 acald013 acald013 186K Apr 19 09:29 LA_geopandas_test.tsv\n",
      "-rw-rw-r-- 1 acald013 acald013 181K Apr 19 09:29 LA_geospark_test.tsv\n",
      "-rw-rw-r-- 1 acald013 acald013 120K Apr 19 09:29 MD_geopandas_test.tsv\n",
      "-rw-rw-r-- 1 acald013 acald013 116K Apr 19 09:29 MD_geospark_test.tsv\n",
      "-rw-rw-r-- 1 acald013 acald013 251K Apr 19 09:29 NC_geopandas_test.tsv\n",
      "-rw-rw-r-- 1 acald013 acald013 244K Apr 19 09:29 NC_geospark_test.tsv\n",
      "-rw-rw-r-- 1 acald013 acald013  66K Apr 19 09:29 NV_geopandas_test.tsv\n",
      "-rw-rw-r-- 1 acald013 acald013  64K Apr 19 09:29 NV_geospark_test.tsv\n",
      "-rw-rw-r-- 1 acald013 acald013 273K Apr 19 09:29 NY_geopandas_test.tsv\n",
      "-rw-rw-r-- 1 acald013 acald013 266K Apr 19 09:29 NY_geospark_test.tsv\n",
      "-rw-rw-r-- 1 acald013 acald013 142K Apr 19 09:29 OK_geopandas_test.tsv\n",
      "-rw-rw-r-- 1 acald013 acald013 138K Apr 19 09:29 OK_geospark_test.tsv\n",
      "-rw-rw-r-- 1 acald013 acald013 369K Apr 19 09:29 PA_geopandas_test.tsv\n",
      "-rw-rw-r-- 1 acald013 acald013 359K Apr 19 09:29 PA_geospark_test.tsv\n",
      "-rw-rw-r-- 1 acald013 acald013 141K Apr 19 09:29 SC_geopandas_test.tsv\n",
      "-rw-rw-r-- 1 acald013 acald013 138K Apr 19 09:29 SC_geospark_test.tsv\n",
      "-rw-rw-r-- 1 acald013 acald013 162K Apr 19 09:29 TN_geopandas_test.tsv\n",
      "-rw-rw-r-- 1 acald013 acald013 157K Apr 19 09:29 TN_geospark_test.tsv\n",
      "-rw-rw-r-- 1 acald013 acald013 199K Apr 19 09:29 WA_geopandas_test.tsv\n",
      "-rw-rw-r-- 1 acald013 acald013 194K Apr 19 09:29 WA_geospark_test.tsv\n",
      "-rw-rw-r-- 1 acald013 acald013 197K Apr 19 09:29 WI_geopandas_test.tsv\n",
      "-rw-rw-r-- 1 acald013 acald013 191K Apr 19 09:29 WI_geospark_test.tsv\n"
     ]
    },
    {
     "data": {
      "text/plain": [
       "\u001b[36mpath\u001b[39m: \u001b[32mString\u001b[39m = \u001b[32m\"/home/acald013/RIDIR/Datasets/AreaTablesValidation\"\u001b[39m\n",
       "\u001b[36mres2_1\u001b[39m: \u001b[32mInt\u001b[39m = \u001b[32m0\u001b[39m"
      ]
     },
     "execution_count": 3,
     "metadata": {},
     "output_type": "execute_result"
    }
   ],
   "source": [
    "val path = \"/home/acald013/RIDIR/Datasets/AreaTablesValidation\"\n",
    "s\"ls -lah ${path}\" #| \"grep tsv\" !"
   ]
  },
  {
   "cell_type": "markdown",
   "metadata": {},
   "source": [
    "### Set a particular state to run the validation..."
   ]
  },
  {
   "cell_type": "code",
   "execution_count": 4,
   "metadata": {},
   "outputs": [
    {
     "data": {
      "text/plain": [
       "\u001b[36mstate\u001b[39m: \u001b[32mString\u001b[39m = \u001b[32m\"NY\"\u001b[39m"
      ]
     },
     "execution_count": 4,
     "metadata": {},
     "output_type": "execute_result"
    }
   ],
   "source": [
    "val state = \"NY\""
   ]
  },
  {
   "cell_type": "markdown",
   "metadata": {},
   "source": [
    "### Reading results from geopandas implementation..."
   ]
  },
  {
   "cell_type": "code",
   "execution_count": 5,
   "metadata": {},
   "outputs": [
    {
     "data": {
      "text/plain": [
       "\u001b[36mgeopandas\u001b[39m: \u001b[32mDataset\u001b[39m[\u001b[32mRow\u001b[39m] = [_c0: string, _c1: string ... 1 more field]\n",
       "\u001b[36mres4_1\u001b[39m: \u001b[32mLong\u001b[39m = \u001b[32m8151L\u001b[39m"
      ]
     },
     "execution_count": 5,
     "metadata": {},
     "output_type": "execute_result"
    }
   ],
   "source": [
    "val geopandas = spark.read.option(\"header\", \"false\").option(\"delimiter\", \"\\t\").csv(s\"${path}/${state}_geopandas_test.tsv\").distinct()\n",
    "geopandas.count()"
   ]
  },
  {
   "cell_type": "markdown",
   "metadata": {},
   "source": [
    "### Reading results from geospark implementation..."
   ]
  },
  {
   "cell_type": "code",
   "execution_count": 6,
   "metadata": {},
   "outputs": [
    {
     "data": {
      "text/plain": [
       "\u001b[36mgeospark\u001b[39m: \u001b[32mDataset\u001b[39m[\u001b[32mRow\u001b[39m] = [_c0: string, _c1: string ... 1 more field]\n",
       "\u001b[36mres5_1\u001b[39m: \u001b[32mLong\u001b[39m = \u001b[32m8151L\u001b[39m"
      ]
     },
     "execution_count": 6,
     "metadata": {},
     "output_type": "execute_result"
    }
   ],
   "source": [
    "val geospark = spark.read.option(\"header\", \"false\").option(\"delimiter\", \"\\t\").csv(s\"${path}/${state}_geospark_test.tsv\").distinct()\n",
    "geospark.count()"
   ]
  },
  {
   "cell_type": "markdown",
   "metadata": {},
   "source": [
    "### Merging both result sets..."
   ]
  },
  {
   "cell_type": "code",
   "execution_count": 11,
   "metadata": {},
   "outputs": [
    {
     "name": "stdout",
     "output_type": "stream",
     "text": [
      "+--------------------+--------------------+----------------------+\n",
      "|area1               |area2               |diff                  |\n",
      "+--------------------+--------------------+----------------------+\n",
      "|0.21474816601292318 |0.214748166012923   |1.942890293094024E-16 |\n",
      "|0.07069038363573048 |0.07069038363573035 |1.249000902703301E-16 |\n",
      "|0.18519004434188985 |0.18519004434188993 |8.326672684688674E-17 |\n",
      "|0.07393575238555604 |0.07393575238555612 |8.326672684688674E-17 |\n",
      "|0.037766819259512495|0.03776681925951242 |7.632783294297951E-17 |\n",
      "|0.10603694505979426 |0.10603694505979419 |6.938893903907228E-17 |\n",
      "|0.048450198642946175|0.048450198642946245|6.938893903907228E-17 |\n",
      "|0.053347082567511424|0.05334708256751136 |6.245004513516506E-17 |\n",
      "|0.050611341426051386|0.05061134142605132 |6.245004513516506E-17 |\n",
      "|0.06135773394539139 |0.06135773394539144 |5.551115123125783E-17 |\n",
      "|0.0755830793106025  |0.07558307931060244 |5.551115123125783E-17 |\n",
      "|0.041509659577737716|0.041509659577737765|4.85722573273506E-17  |\n",
      "|0.038930094600261804|0.038930094600261755|4.85722573273506E-17  |\n",
      "|0.024598428377747245|0.024598428377747294|4.85722573273506E-17  |\n",
      "|0.02664948153320575 |0.026649481533205708|4.163336342344337E-17 |\n",
      "|0.03741849857264285 |0.03741849857264281 |4.163336342344337E-17 |\n",
      "|0.04202538714365064 |0.04202538714365068 |4.163336342344337E-17 |\n",
      "|0.03198795201087015 |0.031987952010870194|4.163336342344337E-17 |\n",
      "|0.048850746939061114|0.048850746939061156|4.163336342344337E-17 |\n",
      "|0.03811024604558377 |0.038110246045583815|4.163336342344337E-17 |\n",
      "|0.026313355151927627|0.026313355151927665|3.8163916471489756E-17|\n",
      "|0.031219022751152122|0.031219022751152084|3.8163916471489756E-17|\n",
      "|0.036011946678107074|0.03601194667810711 |3.469446951953614E-17 |\n",
      "|0.03135809537346384 |0.03135809537346387 |3.469446951953614E-17 |\n",
      "|0.04097990463366217 |0.040979904633662134|3.469446951953614E-17 |\n",
      "|0.03781569719220736 |0.0378156971922074  |3.469446951953614E-17 |\n",
      "|0.026016455207448556|0.026016455207448524|3.122502256758253E-17 |\n",
      "|0.029202334158070956|0.029202334158070924|3.122502256758253E-17 |\n",
      "|0.030636193760562324|0.030636193760562355|3.122502256758253E-17 |\n",
      "|0.0238245376805107  |0.023824537680510727|2.7755575615628914E-17|\n",
      "|0.031201264265304667|0.03120126426530464 |2.7755575615628914E-17|\n",
      "|0.059614042858659684|0.059614042858659656|2.7755575615628914E-17|\n",
      "|0.033950058145975175|0.03395005814597515 |2.7755575615628914E-17|\n",
      "|0.0306764636861763  |0.030676463686176273|2.7755575615628914E-17|\n",
      "|0.02066305547244588 |0.020663055472445853|2.7755575615628914E-17|\n",
      "|0.020449241145517875|0.020449241145517903|2.7755575615628914E-17|\n",
      "|0.025477427145107184|0.02547742714510721 |2.7755575615628914E-17|\n",
      "|0.018028059417674127|0.018028059417674155|2.7755575615628914E-17|\n",
      "|0.027548580981066047|0.027548580981066023|2.42861286636753E-17  |\n",
      "|0.018442712623502444|0.01844271262350242 |2.42861286636753E-17  |\n",
      "|0.03214305006003825 |0.03214305006003827 |2.0816681711721685E-17|\n",
      "|0.01629623910148733 |0.01629623910148731 |2.0816681711721685E-17|\n",
      "|0.033356677959966254|0.03335667795996623 |2.0816681711721685E-17|\n",
      "|0.0382937147687296  |0.03829371476872962 |2.0816681711721685E-17|\n",
      "|0.020331287529287305|0.020331287529287284|2.0816681711721685E-17|\n",
      "|0.03363159002412913 |0.03363159002412915 |2.0816681711721685E-17|\n",
      "|0.02818193688197545 |0.028181936881975428|2.0816681711721685E-17|\n",
      "|0.018066494017555442|0.018066494017555463|2.0816681711721685E-17|\n",
      "|0.032294316720660556|0.032294316720660535|2.0816681711721685E-17|\n",
      "|0.03576137981038503 |0.035761379810385054|2.0816681711721685E-17|\n",
      "+--------------------+--------------------+----------------------+\n",
      "only showing top 50 rows\n",
      "\n"
     ]
    },
    {
     "data": {
      "text/plain": [
       "\u001b[36mp\u001b[39m: \u001b[32mRDD\u001b[39m[\u001b[32mDouble\u001b[39m] = MapPartitionsRDD[177] at map at cmd10.sc:2\n",
       "\u001b[36ms\u001b[39m: \u001b[32mRDD\u001b[39m[\u001b[32mDouble\u001b[39m] = MapPartitionsRDD[191] at map at cmd10.sc:4\n",
       "\u001b[36mareas\u001b[39m: \u001b[32mRDD\u001b[39m[(\u001b[32mDouble\u001b[39m, \u001b[32mDouble\u001b[39m)] = ZippedPartitionsRDD2[192] at zip at cmd10.sc:5\n",
       "\u001b[32mimport \u001b[39m\u001b[36morg.apache.spark.sql.functions._\n",
       "\u001b[39m"
      ]
     },
     "execution_count": 11,
     "metadata": {},
     "output_type": "execute_result"
    }
   ],
   "source": [
    "val p = geopandas.map(p => (p.getString(0).toInt, p.getString(1).toInt, p.getString(2).toDouble)).rdd\n",
    "            .sortBy(p => (p._1, p._2, p._3)).map(_._3)\n",
    "val s = geospark.map(s => (s.getString(0).toInt, s.getString(1).toInt, s.getString(2).toDouble)).rdd\n",
    "            .sortBy(p => (p._1, p._2, p._3)).map(_._3)\n",
    "val areas = p.zip(s)\n",
    "\n",
    "import org.apache.spark.sql.functions._\n",
    "areas.toDF(\"area1\", \"area2\").withColumn(\"diff\", abs($\"area1\" - $\"area2\")).orderBy(desc(\"diff\")).show(50, truncate = false)"
   ]
  },
  {
   "cell_type": "markdown",
   "metadata": {},
   "source": [
    "### Running some metrics to test similarity..."
   ]
  },
  {
   "cell_type": "code",
   "execution_count": 12,
   "metadata": {},
   "outputs": [
    {
     "data": {
      "text/plain": [
       "\u001b[36mreg\u001b[39m: \u001b[32mRegressionMetrics\u001b[39m = org.apache.spark.mllib.evaluation.RegressionMetrics@596bd53b\n",
       "\u001b[36mres11_1\u001b[39m: \u001b[32mDouble\u001b[39m = \u001b[32m1.0\u001b[39m\n",
       "\u001b[36mres11_2\u001b[39m: \u001b[32mDouble\u001b[39m = \u001b[32m5.888702431505328E-19\u001b[39m\n",
       "\u001b[36mres11_3\u001b[39m: \u001b[32mDouble\u001b[39m = \u001b[32m1.9481015695749527E-35\u001b[39m\n",
       "\u001b[36mres11_4\u001b[39m: \u001b[32mDouble\u001b[39m = \u001b[32m4.4137303605623134E-18\u001b[39m"
      ]
     },
     "execution_count": 12,
     "metadata": {},
     "output_type": "execute_result"
    }
   ],
   "source": [
    "val reg = new RegressionMetrics(areas)\n",
    "reg.r2\n",
    "reg.meanAbsoluteError\n",
    "reg.meanSquaredError\n",
    "reg.rootMeanSquaredError"
   ]
  },
  {
   "cell_type": "code",
   "execution_count": null,
   "metadata": {},
   "outputs": [],
   "source": []
  }
 ],
 "metadata": {
  "kernelspec": {
   "display_name": "Scala",
   "language": "scala",
   "name": "scala"
  },
  "language_info": {
   "codemirror_mode": "text/x-scala",
   "file_extension": ".scala",
   "mimetype": "text/x-scala",
   "name": "scala",
   "nbconvert_exporter": "script",
   "version": "2.11.12"
  }
 },
 "nbformat": 4,
 "nbformat_minor": 2
}
