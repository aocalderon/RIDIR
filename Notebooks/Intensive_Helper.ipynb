{
 "cells": [
  {
   "cell_type": "code",
   "execution_count": 1,
   "metadata": {},
   "outputs": [
    {
     "name": "stdout",
     "output_type": "stream",
     "text": [
      "Loading spark-stubs\n",
      "Creating SparkSession\n"
     ]
    },
    {
     "name": "stderr",
     "output_type": "stream",
     "text": [
      "Using Spark's default log4j profile: org/apache/spark/log4j-defaults.properties\n"
     ]
    },
    {
     "data": {
      "text/plain": [
       "\u001b[32mimport \u001b[39m\u001b[36m$ivy.$                                   // Or use any other 2.x version here\n",
       "\u001b[39m\n",
       "\u001b[32mimport \u001b[39m\u001b[36m$ivy.$                                    \n",
       "\u001b[39m\n",
       "\u001b[32mimport \u001b[39m\u001b[36m$ivy.$                                \n",
       "\u001b[39m\n",
       "\u001b[32mimport \u001b[39m\u001b[36m$ivy.$                              \n",
       "\n",
       "\u001b[39m\n",
       "\u001b[32mimport \u001b[39m\u001b[36morg.apache.spark.serializer.KryoSerializer\n",
       "\u001b[39m\n",
       "\u001b[32mimport \u001b[39m\u001b[36morg.apache.spark.storage.StorageLevel\n",
       "\u001b[39m\n",
       "\u001b[32mimport \u001b[39m\u001b[36morg.apache.spark.mllib.evaluation.RegressionMetrics\n",
       "\u001b[39m\n",
       "\u001b[32mimport \u001b[39m\u001b[36morg.apache.spark.rdd.RDD\n",
       "\u001b[39m\n",
       "\u001b[32mimport \u001b[39m\u001b[36morg.datasyslab.geospark.enums.{GridType, IndexType}\n",
       "\u001b[39m\n",
       "\u001b[32mimport \u001b[39m\u001b[36morg.datasyslab.geospark.spatialOperator.JoinQuery\n",
       "\u001b[39m\n",
       "\u001b[32mimport \u001b[39m\u001b[36morg.datasyslab.geospark.formatMapper.shapefileParser.ShapefileReader\n",
       "\u001b[39m\n",
       "\u001b[32mimport \u001b[39m\u001b[36mscala.collection.JavaConverters._\n",
       "\u001b[39m\n",
       "\u001b[32mimport \u001b[39m\u001b[36mjava.io._\n",
       "\u001b[39m\n",
       "\u001b[32mimport \u001b[39m\u001b[36morg.apache.log4j.{Level, Logger}\n",
       "\u001b[39m\n",
       "\u001b[32mimport \u001b[39m\u001b[36morg.apache.spark.sql._\n",
       "\n",
       "\u001b[39m\n",
       "\u001b[36mspark\u001b[39m: \u001b[32mSparkSession\u001b[39m = org.apache.spark.sql.SparkSession@58bc7093\n",
       "\u001b[32mimport \u001b[39m\u001b[36mspark.implicits._\n",
       "\u001b[39m\n",
       "\u001b[36mappID\u001b[39m: \u001b[32mString\u001b[39m = \u001b[32m\"local-1557884378542\"\u001b[39m"
      ]
     },
     "execution_count": 1,
     "metadata": {},
     "output_type": "execute_result"
    }
   ],
   "source": [
    "import $ivy.`org.apache.spark::spark-sql:2.4.0` // Or use any other 2.x version here\n",
    "import $ivy.`org.apache.spark::spark-mllib:2.4.0`\n",
    "import $ivy.`sh.almond::ammonite-spark:0.4.0`\n",
    "import $ivy.`org.datasyslab:geospark:1.2.0`\n",
    "\n",
    "import org.apache.spark.serializer.KryoSerializer\n",
    "import org.apache.spark.storage.StorageLevel\n",
    "import org.apache.spark.mllib.evaluation.RegressionMetrics\n",
    "import org.apache.spark.rdd.RDD\n",
    "import org.datasyslab.geospark.enums.{GridType, IndexType}\n",
    "import org.datasyslab.geospark.spatialOperator.JoinQuery\n",
    "import org.datasyslab.geospark.formatMapper.shapefileParser.ShapefileReader\n",
    "import scala.collection.JavaConverters._\n",
    "import java.io._\n",
    "import org.apache.log4j.{Level, Logger}\n",
    "Logger.getLogger(\"org\").setLevel(Level.OFF)\n",
    "\n",
    "import org.apache.spark.sql._\n",
    "\n",
    "val spark = AmmoniteSparkSession.builder()\n",
    "    .master(\"local[*]\").appName(\"Validator\")\n",
    "    .getOrCreate()\n",
    "import spark.implicits._\n",
    "val appID = spark.sparkContext.applicationId"
   ]
  },
  {
   "cell_type": "code",
   "execution_count": 3,
   "metadata": {},
   "outputs": [
    {
     "name": "stdout",
     "output_type": "stream",
     "text": [
      "+-----------+-----------+----------------+----------------+\n",
      "|      geoid|n_total_pop|n_white_under_15|p_white_under_15|\n",
      "+-----------+-----------+----------------+----------------+\n",
      "|42101000100|       2650|              34|            1.28|\n",
      "|42101000200|       1362|               5|            0.37|\n",
      "|42101000300|       2570|             102|            3.97|\n",
      "|42101000400|       4313|              40|            0.93|\n",
      "|42101000500|       1126|               1|            0.09|\n",
      "|42101000600|       1315|               7|            0.53|\n",
      "|42101000700|       2564|              32|            1.25|\n",
      "|42101000800|       8461|             188|            2.22|\n",
      "|42101000900|       4969|              50|            1.01|\n",
      "|42101001000|       5808|             278|            4.79|\n",
      "|42101001100|       5925|             124|            2.09|\n",
      "|42101001200|       8148|             418|            5.13|\n",
      "|42101001300|       4353|              75|            1.72|\n",
      "|42101001400|       3585|              49|            1.37|\n",
      "|42101001500|       2179|              79|            3.63|\n",
      "|42101001600|       1981|             105|             5.3|\n",
      "|42101001700|       2415|             150|            6.21|\n",
      "|42101001800|       2398|             114|            4.75|\n",
      "|42101001900|       2686|               4|            0.15|\n",
      "|42101002000|       2334|               4|            0.17|\n",
      "+-----------+-----------+----------------+----------------+\n",
      "only showing top 20 rows\n",
      "\n"
     ]
    },
    {
     "data": {
      "text/plain": [
       "\u001b[36mdf_phili_2000_path\u001b[39m: \u001b[32mString\u001b[39m = \u001b[32m\"/home/acald013/RIDIR/Datasets/df_phili_2000.csv\"\u001b[39m\n",
       "\u001b[36mdf_phili_2000\u001b[39m: \u001b[32mDataFrame\u001b[39m = [geoid: string, n_total_pop: string ... 2 more fields]"
      ]
     },
     "execution_count": 3,
     "metadata": {},
     "output_type": "execute_result"
    }
   ],
   "source": [
    "val df_phili_2000_path = \"/home/acald013/RIDIR/Datasets/df_phili_2000.csv\"\n",
    "val df_phili_2000 = spark.read.option(\"header\", \"true\").option(\"delimiter\", \"\\t\").csv(df_phili_2000_path)\n",
    "df_phili_2000.show()"
   ]
  },
  {
   "cell_type": "code",
   "execution_count": 4,
   "metadata": {},
   "outputs": [
    {
     "name": "stdout",
     "output_type": "stream",
     "text": [
      "+-----------+-----------+----------------+------------------+\n",
      "|      geoid|n_total_pop|n_white_under_15|  p_white_under_15|\n",
      "+-----------+-----------+----------------+------------------+\n",
      "|42101000100|     3183.0|            16.0|0.5026704366949418|\n",
      "|42101000200|     2009.0|             0.0|               0.0|\n",
      "|42101000300|     3509.0|           143.0| 4.075235109717868|\n",
      "|42101000401|     2287.0|            20.0| 0.874508089199825|\n",
      "|42101000402|     3021.0|            19.0| 0.628930817610063|\n",
      "|42101000500|     2194.0|            13.0|0.5925250683682771|\n",
      "|42101000600|     1565.0|             5.0|0.3194888178913738|\n",
      "|42101000700|     2650.0|             0.0|               0.0|\n",
      "|42101000801|     1713.0|            49.0| 2.860478692352598|\n",
      "|42101000803|     3680.0|           134.0| 3.641304347826087|\n",
      "|42101000804|     3224.0|            35.0|  1.08560794044665|\n",
      "|42101000901|     1910.0|             0.0|               0.0|\n",
      "|42101000902|     2367.0|            86.0| 3.633291085762569|\n",
      "|42101001001|     2392.0|           220.0| 9.197324414715718|\n",
      "|42101001002|     3311.0|           283.0|  8.54726668680157|\n",
      "|42101001101|     3123.0|            59.0|1.8892090938200448|\n",
      "|42101001102|     2483.0|           129.0| 5.195328231977447|\n",
      "|42101001201|     3636.0|           220.0| 6.050605060506051|\n",
      "|42101001202|     5050.0|           175.0|3.4653465346534658|\n",
      "|42101001300|     5413.0|           423.0|7.8145205985590245|\n",
      "+-----------+-----------+----------------+------------------+\n",
      "only showing top 20 rows\n",
      "\n"
     ]
    },
    {
     "data": {
      "text/plain": [
       "\u001b[36mdf_phili_2010_path\u001b[39m: \u001b[32mString\u001b[39m = \u001b[32m\"/home/acald013/RIDIR/Datasets/df_phili_2010.csv\"\u001b[39m\n",
       "\u001b[36mdf_phili_2010\u001b[39m: \u001b[32mDataFrame\u001b[39m = [geoid: string, n_total_pop: string ... 2 more fields]"
      ]
     },
     "execution_count": 4,
     "metadata": {},
     "output_type": "execute_result"
    }
   ],
   "source": [
    "val df_phili_2010_path = \"/home/acald013/RIDIR/Datasets/df_phili_2010.csv\"\n",
    "val df_phili_2010 = spark.read.option(\"header\", \"true\").option(\"delimiter\", \"\\t\").csv(df_phili_2010_path)\n",
    "df_phili_2010.show()"
   ]
  },
  {
   "cell_type": "code",
   "execution_count": 5,
   "metadata": {},
   "outputs": [
    {
     "name": "stdout",
     "output_type": "stream",
     "text": [
      "+-----------+----+--------------------+\n",
      "|      geoid|year|            geometry|\n",
      "+-----------+----+--------------------+\n",
      "|42101000001|1990|POLYGON ((-75.147...|\n",
      "|42101000002|1990|POLYGON ((-75.159...|\n",
      "|42101000003|1990|POLYGON ((-75.177...|\n",
      "|42101000004|1990|POLYGON ((-75.178...|\n",
      "|42101000005|1990|POLYGON ((-75.151...|\n",
      "|42101000006|1990|POLYGON ((-75.153...|\n",
      "|42101000007|1990|POLYGON ((-75.164...|\n",
      "|42101000008|1990|POLYGON ((-75.178...|\n",
      "|42101000009|1990|POLYGON ((-75.153...|\n",
      "|42101000010|1990|POLYGON ((-75.144...|\n",
      "|42101000011|1990|POLYGON ((-75.158...|\n",
      "|42101000012|1990|POLYGON ((-75.180...|\n",
      "|42101000013|1990|POLYGON ((-75.178...|\n",
      "|42101000014|1990|POLYGON ((-75.175...|\n",
      "|42101000015|1990|POLYGON ((-75.152...|\n",
      "|42101000016|1990|POLYGON ((-75.144...|\n",
      "|42101000017|1990|POLYGON ((-75.146...|\n",
      "|42101000018|1990|POLYGON ((-75.153...|\n",
      "|42101000019|1990|POLYGON ((-75.175...|\n",
      "|42101000020|1990|POLYGON ((-75.180...|\n",
      "+-----------+----+--------------------+\n",
      "only showing top 20 rows\n",
      "\n"
     ]
    },
    {
     "data": {
      "text/plain": [
       "\u001b[36mpolys_1990_path\u001b[39m: \u001b[32mString\u001b[39m = \u001b[32m\"/home/acald013/RIDIR/Datasets/polys_1990.csv\"\u001b[39m\n",
       "\u001b[36mpolys_1990\u001b[39m: \u001b[32mDataFrame\u001b[39m = [geoid: string, year: string ... 1 more field]"
      ]
     },
     "execution_count": 5,
     "metadata": {},
     "output_type": "execute_result"
    }
   ],
   "source": [
    "val polys_1990_path = \"/home/acald013/RIDIR/Datasets/polys_1990.csv\"\n",
    "val polys_1990 = spark.read.option(\"header\", \"true\").option(\"delimiter\", \"\\t\").csv(polys_1990_path)\n",
    "polys_1990.show()"
   ]
  },
  {
   "cell_type": "code",
   "execution_count": 8,
   "metadata": {},
   "outputs": [
    {
     "name": "stdout",
     "output_type": "stream",
     "text": [
      "+-----------+----+--------------------+\n",
      "|      geoid|year|            geometry|\n",
      "+-----------+----+--------------------+\n",
      "|42101000100|2000|POLYGON ((-75.147...|\n",
      "|42101000200|2000|POLYGON ((-75.159...|\n",
      "|42101000300|2000|POLYGON ((-75.177...|\n",
      "|42101000400|2000|POLYGON ((-75.177...|\n",
      "|42101000500|2000|POLYGON ((-75.152...|\n",
      "|42101000600|2000|POLYGON ((-75.152...|\n",
      "|42101000700|2000|POLYGON ((-75.163...|\n",
      "|42101000800|2000|POLYGON ((-75.177...|\n",
      "|42101000900|2000|POLYGON ((-75.152...|\n",
      "|42101001000|2000|POLYGON ((-75.143...|\n",
      "|42101001100|2000|POLYGON ((-75.157...|\n",
      "|42101001200|2000|POLYGON ((-75.165...|\n",
      "|42101001300|2000|POLYGON ((-75.177...|\n",
      "|42101001400|2000|POLYGON ((-75.175...|\n",
      "|42101001500|2000|POLYGON ((-75.152...|\n",
      "|42101001600|2000|POLYGON ((-75.143...|\n",
      "|42101001700|2000|POLYGON ((-75.146...|\n",
      "|42101001800|2000|POLYGON ((-75.153...|\n",
      "|42101001900|2000|POLYGON ((-75.174...|\n",
      "|42101002000|2000|POLYGON ((-75.180...|\n",
      "+-----------+----+--------------------+\n",
      "only showing top 20 rows\n",
      "\n"
     ]
    },
    {
     "data": {
      "text/plain": [
       "\u001b[36mpolys_2000_path\u001b[39m: \u001b[32mString\u001b[39m = \u001b[32m\"/home/acald013/RIDIR/Datasets/polys_2000.csv\"\u001b[39m\n",
       "\u001b[36mpolys_2000\u001b[39m: \u001b[32mDataFrame\u001b[39m = [geoid: string, year: string ... 1 more field]"
      ]
     },
     "execution_count": 8,
     "metadata": {},
     "output_type": "execute_result"
    }
   ],
   "source": [
    "val polys_2000_path = \"/home/acald013/RIDIR/Datasets/polys_2000.csv\"\n",
    "val polys_2000 = spark.read.option(\"header\", \"true\").option(\"delimiter\", \"\\t\").csv(polys_2000_path)\n",
    "polys_2000.show()"
   ]
  },
  {
   "cell_type": "code",
   "execution_count": 9,
   "metadata": {},
   "outputs": [
    {
     "name": "stdout",
     "output_type": "stream",
     "text": [
      "+-----------+----+--------------------+\n",
      "|      geoid|year|            geometry|\n",
      "+-----------+----+--------------------+\n",
      "|42101014500|2010|POLYGON ((-75.151...|\n",
      "|42101031200|2010|POLYGON ((-75.084...|\n",
      "|42101021800|2010|POLYGON ((-75.238...|\n",
      "|42101009100|2010|POLYGON ((-75.202...|\n",
      "|42101033600|2010|POLYGON ((-75.068...|\n",
      "|42101004202|2010|POLYGON ((-75.156...|\n",
      "|42101016800|2010|POLYGON ((-75.173...|\n",
      "|42101007000|2010|POLYGON ((-75.226...|\n",
      "|42101029100|2010|POLYGON ((-75.114...|\n",
      "|42101980100|2010|POLYGON ((-75.232...|\n",
      "|42101021300|2010|POLYGON ((-75.225...|\n",
      "|42101030000|2010|POLYGON ((-75.085...|\n",
      "|42101013300|2010|POLYGON ((-75.166...|\n",
      "|42101012204|2010|POLYGON ((-75.220...|\n",
      "|42101012203|2010|POLYGON ((-75.213...|\n",
      "|42101013602|2010|POLYGON ((-75.185...|\n",
      "|42101034502|2010|POLYGON ((-75.047...|\n",
      "|42101000902|2010|POLYGON ((-75.160...|\n",
      "|42101000804|2010|POLYGON ((-75.171...|\n",
      "|42101001202|2010|POLYGON ((-75.174...|\n",
      "+-----------+----+--------------------+\n",
      "only showing top 20 rows\n",
      "\n"
     ]
    },
    {
     "data": {
      "text/plain": [
       "\u001b[36mpolys_2010_path\u001b[39m: \u001b[32mString\u001b[39m = \u001b[32m\"/home/acald013/RIDIR/Datasets/polys_2010.csv\"\u001b[39m\n",
       "\u001b[36mpolys_2010\u001b[39m: \u001b[32mDataFrame\u001b[39m = [geoid: string, year: string ... 1 more field]"
      ]
     },
     "execution_count": 9,
     "metadata": {},
     "output_type": "execute_result"
    }
   ],
   "source": [
    "val polys_2010_path = \"/home/acald013/RIDIR/Datasets/polys_2010.csv\"\n",
    "val polys_2010 = spark.read.option(\"header\", \"true\").option(\"delimiter\", \"\\t\").csv(polys_2010_path)\n",
    "polys_2010.show()"
   ]
  },
  {
   "cell_type": "code",
   "execution_count": 13,
   "metadata": {},
   "outputs": [
    {
     "name": "stdout",
     "output_type": "stream",
     "text": [
      "381\n",
      "384\n",
      "\n",
      "367\n",
      "381\n",
      "384\n"
     ]
    }
   ],
   "source": [
    "println(df_phili_2000.count())\n",
    "println(df_phili_2010.count())\n",
    "println()\n",
    "println(polys_1990.count())\n",
    "println(polys_2000.count())\n",
    "println(polys_2010.count())\n"
   ]
  },
  {
   "cell_type": "code",
   "execution_count": 31,
   "metadata": {},
   "outputs": [
    {
     "name": "stdout",
     "output_type": "stream",
     "text": [
      "+--------------------+-----------+-----------+----------------+\n",
      "|            geometry|      geoid|n_total_pop|p_white_under_15|\n",
      "+--------------------+-----------+-----------+----------------+\n",
      "|POLYGON ((-75.147...|42101000100|       2650|            1.28|\n",
      "|POLYGON ((-75.159...|42101000200|       1362|            0.37|\n",
      "|POLYGON ((-75.177...|42101000300|       2570|            3.97|\n",
      "|POLYGON ((-75.177...|42101000400|       4313|            0.93|\n",
      "|POLYGON ((-75.152...|42101000500|       1126|            0.09|\n",
      "|POLYGON ((-75.152...|42101000600|       1315|            0.53|\n",
      "|POLYGON ((-75.163...|42101000700|       2564|            1.25|\n",
      "|POLYGON ((-75.177...|42101000800|       8461|            2.22|\n",
      "|POLYGON ((-75.152...|42101000900|       4969|            1.01|\n",
      "|POLYGON ((-75.143...|42101001000|       5808|            4.79|\n",
      "|POLYGON ((-75.157...|42101001100|       5925|            2.09|\n",
      "|POLYGON ((-75.165...|42101001200|       8148|            5.13|\n",
      "|POLYGON ((-75.177...|42101001300|       4353|            1.72|\n",
      "|POLYGON ((-75.175...|42101001400|       3585|            1.37|\n",
      "|POLYGON ((-75.152...|42101001500|       2179|            3.63|\n",
      "|POLYGON ((-75.143...|42101001600|       1981|             5.3|\n",
      "|POLYGON ((-75.146...|42101001700|       2415|            6.21|\n",
      "|POLYGON ((-75.153...|42101001800|       2398|            4.75|\n",
      "|POLYGON ((-75.174...|42101001900|       2686|            0.15|\n",
      "|POLYGON ((-75.180...|42101002000|       2334|            0.17|\n",
      "+--------------------+-----------+-----------+----------------+\n",
      "only showing top 20 rows\n",
      "\n"
     ]
    },
    {
     "data": {
      "text/plain": [
       "\u001b[36mphili_2000\u001b[39m: \u001b[32mDataFrame\u001b[39m = [geometry: string, geoid: string ... 2 more fields]\n",
       "\u001b[36mres30_2\u001b[39m: \u001b[32mLong\u001b[39m = \u001b[32m381L\u001b[39m"
      ]
     },
     "execution_count": 31,
     "metadata": {},
     "output_type": "execute_result"
    }
   ],
   "source": [
    "val phili_2000 = df_phili_2000.join(polys_2000, \"geoid\")\n",
    "    .select(\"geometry\", \"geoid\", \"n_total_pop\", \"p_white_under_15\")\n",
    "phili_2000.orderBy(\"geoid\").show\n",
    "phili_2000.count()"
   ]
  },
  {
   "cell_type": "code",
   "execution_count": 32,
   "metadata": {},
   "outputs": [
    {
     "name": "stdout",
     "output_type": "stream",
     "text": [
      "+--------------------+-----------+-----------+------------------+\n",
      "|            geometry|      geoid|n_total_pop|  p_white_under_15|\n",
      "+--------------------+-----------+-----------+------------------+\n",
      "|POLYGON ((-75.152...|42101000100|     3183.0|0.5026704366949418|\n",
      "|POLYGON ((-75.162...|42101000200|     2009.0|               0.0|\n",
      "|POLYGON ((-75.179...|42101000300|     3509.0| 4.075235109717868|\n",
      "|POLYGON ((-75.180...|42101000401|     2287.0| 0.874508089199825|\n",
      "|POLYGON ((-75.173...|42101000402|     3021.0| 0.628930817610063|\n",
      "|POLYGON ((-75.165...|42101000500|     2194.0|0.5925250683682771|\n",
      "|POLYGON ((-75.164...|42101000600|     1565.0|0.3194888178913738|\n",
      "|POLYGON ((-75.181...|42101000700|     2650.0|               0.0|\n",
      "|POLYGON ((-75.183...|42101000801|     1713.0| 2.860478692352598|\n",
      "|POLYGON ((-75.177...|42101000803|     3680.0| 3.641304347826087|\n",
      "|POLYGON ((-75.171...|42101000804|     3224.0|  1.08560794044665|\n",
      "|POLYGON ((-75.164...|42101000901|     1910.0|               0.0|\n",
      "|POLYGON ((-75.160...|42101000902|     2367.0| 3.633291085762569|\n",
      "|POLYGON ((-75.153...|42101001001|     2392.0| 9.197324414715718|\n",
      "|POLYGON ((-75.150...|42101001002|     3311.0|  8.54726668680157|\n",
      "|POLYGON ((-75.165...|42101001101|     3123.0|1.8892090938200448|\n",
      "|POLYGON ((-75.160...|42101001102|     2483.0| 5.195328231977447|\n",
      "|POLYGON ((-75.187...|42101001201|     3636.0| 6.050605060506051|\n",
      "|POLYGON ((-75.174...|42101001202|     5050.0|3.4653465346534658|\n",
      "|POLYGON ((-75.193...|42101001300|     5413.0|7.8145205985590245|\n",
      "+--------------------+-----------+-----------+------------------+\n",
      "only showing top 20 rows\n",
      "\n"
     ]
    },
    {
     "data": {
      "text/plain": [
       "\u001b[36mphili_2010\u001b[39m: \u001b[32mDataFrame\u001b[39m = [geometry: string, geoid: string ... 2 more fields]\n",
       "\u001b[36mres31_2\u001b[39m: \u001b[32mLong\u001b[39m = \u001b[32m384L\u001b[39m"
      ]
     },
     "execution_count": 32,
     "metadata": {},
     "output_type": "execute_result"
    }
   ],
   "source": [
    "val phili_2010 = df_phili_2010.join(polys_2010, \"geoid\")\n",
    "    .select(\"geometry\", \"geoid\", \"n_total_pop\", \"p_white_under_15\")\n",
    "phili_2010.orderBy(\"geoid\").show\n",
    "phili_2010.count()"
   ]
  },
  {
   "cell_type": "code",
   "execution_count": 33,
   "metadata": {},
   "outputs": [
    {
     "name": "stdout",
     "output_type": "stream",
     "text": [
      "+--------------------+-----------+\n",
      "|            geometry|      geoid|\n",
      "+--------------------+-----------+\n",
      "|POLYGON ((-75.147...|42101000001|\n",
      "|POLYGON ((-75.159...|42101000002|\n",
      "|POLYGON ((-75.177...|42101000003|\n",
      "|POLYGON ((-75.178...|42101000004|\n",
      "|POLYGON ((-75.151...|42101000005|\n",
      "|POLYGON ((-75.153...|42101000006|\n",
      "|POLYGON ((-75.164...|42101000007|\n",
      "|POLYGON ((-75.178...|42101000008|\n",
      "|POLYGON ((-75.153...|42101000009|\n",
      "|POLYGON ((-75.144...|42101000010|\n",
      "|POLYGON ((-75.158...|42101000011|\n",
      "|POLYGON ((-75.180...|42101000012|\n",
      "|POLYGON ((-75.178...|42101000013|\n",
      "|POLYGON ((-75.175...|42101000014|\n",
      "|POLYGON ((-75.152...|42101000015|\n",
      "|POLYGON ((-75.144...|42101000016|\n",
      "|POLYGON ((-75.146...|42101000017|\n",
      "|POLYGON ((-75.153...|42101000018|\n",
      "|POLYGON ((-75.175...|42101000019|\n",
      "|POLYGON ((-75.180...|42101000020|\n",
      "+--------------------+-----------+\n",
      "only showing top 20 rows\n",
      "\n"
     ]
    },
    {
     "data": {
      "text/plain": [
       "\u001b[36mphili_1990\u001b[39m: \u001b[32mDataFrame\u001b[39m = [geometry: string, geoid: string]\n",
       "\u001b[36mres32_2\u001b[39m: \u001b[32mLong\u001b[39m = \u001b[32m367L\u001b[39m"
      ]
     },
     "execution_count": 33,
     "metadata": {},
     "output_type": "execute_result"
    }
   ],
   "source": [
    "val phili_1990 = polys_1990.select(\"geometry\", \"geoid\")\n",
    "phili_1990.orderBy(\"geoid\").show\n",
    "phili_1990.count()"
   ]
  },
  {
   "cell_type": "code",
   "execution_count": 38,
   "metadata": {},
   "outputs": [
    {
     "data": {
      "text/plain": [
       "defined \u001b[32mfunction\u001b[39m \u001b[36msaveWKT\u001b[39m"
      ]
     },
     "execution_count": 38,
     "metadata": {},
     "output_type": "execute_result"
    }
   ],
   "source": [
    "def saveWKT(wkt: Dataset[String], filename: String): Unit = {\n",
    "    val pw = new java.io.PrintWriter(filename)\n",
    "    pw.write(wkt.collect().mkString(\"\"))\n",
    "    pw.close()\n",
    "}"
   ]
  },
  {
   "cell_type": "code",
   "execution_count": 40,
   "metadata": {},
   "outputs": [],
   "source": [
    "saveWKT(phili_1990.map(p => s\"${p.getString(0)}\\t${p.getString(1)}\\n\"), \"/home/acald013/RIDIR/Datasets/phili_1990.wkt\")\n",
    "saveWKT(phili_2000.map(p => s\"${p.getString(0)}\\t${p.getString(1)}\\t${p.getString(2)}\\t${p.getString(3)}\\n\"), \"/home/acald013/RIDIR/Datasets/phili_2000.wkt\")\n",
    "saveWKT(phili_2010.map(p => s\"${p.getString(0)}\\t${p.getString(1)}\\t${p.getString(2)}\\t${p.getString(3)}\\n\"), \"/home/acald013/RIDIR/Datasets/phili_2010.wkt\")\n"
   ]
  },
  {
   "cell_type": "code",
   "execution_count": null,
   "metadata": {},
   "outputs": [],
   "source": []
  }
 ],
 "metadata": {
  "kernelspec": {
   "display_name": "Scala",
   "language": "scala",
   "name": "scala"
  },
  "language_info": {
   "codemirror_mode": "text/x-scala",
   "file_extension": ".scala",
   "mimetype": "text/x-scala",
   "name": "scala",
   "nbconvert_exporter": "script",
   "version": "2.11.12"
  }
 },
 "nbformat": 4,
 "nbformat_minor": 2
}
