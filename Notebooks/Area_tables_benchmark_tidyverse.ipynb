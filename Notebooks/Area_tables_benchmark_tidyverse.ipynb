{
 "cells": [
  {
   "cell_type": "code",
   "execution_count": 1,
   "metadata": {},
   "outputs": [
    {
     "name": "stderr",
     "output_type": "stream",
     "text": [
      "Loading required package: tidyverse\n",
      "── Attaching packages ─────────────────────────────────────── tidyverse 1.2.1 ──\n",
      "✔ ggplot2 3.1.0       ✔ purrr   0.3.2  \n",
      "✔ tibble  2.1.1       ✔ dplyr   0.8.0.1\n",
      "✔ tidyr   0.8.3       ✔ stringr 1.4.0  \n",
      "✔ readr   1.3.1       ✔ forcats 0.4.0  \n",
      "── Conflicts ────────────────────────────────────────── tidyverse_conflicts() ──\n",
      "✖ dplyr::filter() masks stats::filter()\n",
      "✖ dplyr::lag()    masks stats::lag()\n"
     ]
    }
   ],
   "source": [
    "require(tidyverse)"
   ]
  },
  {
   "cell_type": "code",
   "execution_count": 2,
   "metadata": {},
   "outputs": [
    {
     "data": {
      "text/html": [
       "<table>\n",
       "<thead><tr><th scope=col>Timestamp</th><th scope=col>Method</th><th scope=col>Size</th><th scope=col>TotalTime</th><th scope=col>AreaTablesTime</th></tr></thead>\n",
       "<tbody>\n",
       "\t<tr><td>2019-04-23 21:42:41,899</td><td>GeoPandas              </td><td>10%                    </td><td> 1.97                  </td><td> 1.81                  </td></tr>\n",
       "\t<tr><td>2019-04-23 21:42:48,264</td><td>GeoPandas              </td><td>20%                    </td><td> 5.58                  </td><td> 5.30                  </td></tr>\n",
       "\t<tr><td>2019-04-23 21:43:00,281</td><td>GeoPandas              </td><td>30%                    </td><td>11.23                  </td><td>10.83                  </td></tr>\n",
       "\t<tr><td>2019-04-23 21:43:22,517</td><td>GeoPandas              </td><td>40%                    </td><td>21.44                  </td><td>20.89                  </td></tr>\n",
       "\t<tr><td>2019-04-23 21:43:58,617</td><td>GeoPandas              </td><td>50%                    </td><td>35.31                  </td><td>34.63                  </td></tr>\n",
       "\t<tr><td>2019-04-23 21:44:52,760</td><td>GeoPandas              </td><td>60%                    </td><td>53.35                  </td><td>52.53                  </td></tr>\n",
       "</tbody>\n",
       "</table>\n"
      ],
      "text/latex": [
       "\\begin{tabular}{r|lllll}\n",
       " Timestamp & Method & Size & TotalTime & AreaTablesTime\\\\\n",
       "\\hline\n",
       "\t 2019-04-23 21:42:41,899 & GeoPandas               & 10\\%                   &  1.97                   &  1.81                  \\\\\n",
       "\t 2019-04-23 21:42:48,264 & GeoPandas               & 20\\%                   &  5.58                   &  5.30                  \\\\\n",
       "\t 2019-04-23 21:43:00,281 & GeoPandas               & 30\\%                   & 11.23                   & 10.83                  \\\\\n",
       "\t 2019-04-23 21:43:22,517 & GeoPandas               & 40\\%                   & 21.44                   & 20.89                  \\\\\n",
       "\t 2019-04-23 21:43:58,617 & GeoPandas               & 50\\%                   & 35.31                   & 34.63                  \\\\\n",
       "\t 2019-04-23 21:44:52,760 & GeoPandas               & 60\\%                   & 53.35                   & 52.53                  \\\\\n",
       "\\end{tabular}\n"
      ],
      "text/markdown": [
       "\n",
       "Timestamp | Method | Size | TotalTime | AreaTablesTime | \n",
       "|---|---|---|---|---|---|\n",
       "| 2019-04-23 21:42:41,899 | GeoPandas               | 10%                     |  1.97                   |  1.81                   | \n",
       "| 2019-04-23 21:42:48,264 | GeoPandas               | 20%                     |  5.58                   |  5.30                   | \n",
       "| 2019-04-23 21:43:00,281 | GeoPandas               | 30%                     | 11.23                   | 10.83                   | \n",
       "| 2019-04-23 21:43:22,517 | GeoPandas               | 40%                     | 21.44                   | 20.89                   | \n",
       "| 2019-04-23 21:43:58,617 | GeoPandas               | 50%                     | 35.31                   | 34.63                   | \n",
       "| 2019-04-23 21:44:52,760 | GeoPandas               | 60%                     | 53.35                   | 52.53                   | \n",
       "\n",
       "\n"
      ],
      "text/plain": [
       "  Timestamp               Method    Size TotalTime AreaTablesTime\n",
       "1 2019-04-23 21:42:41,899 GeoPandas 10%   1.97      1.81         \n",
       "2 2019-04-23 21:42:48,264 GeoPandas 20%   5.58      5.30         \n",
       "3 2019-04-23 21:43:00,281 GeoPandas 30%  11.23     10.83         \n",
       "4 2019-04-23 21:43:22,517 GeoPandas 40%  21.44     20.89         \n",
       "5 2019-04-23 21:43:58,617 GeoPandas 50%  35.31     34.63         \n",
       "6 2019-04-23 21:44:52,760 GeoPandas 60%  53.35     52.53         "
      ]
     },
     "metadata": {},
     "output_type": "display_data"
    }
   ],
   "source": [
    "geopandas = read.table(\"~/RIDIR/Code/Validation/GeoPandasBenchmark.tsv\", header = F, sep = \"|\")\n",
    "names(geopandas) = c(\"Timestamp\", \"Method\", \"Size\", \"TotalTime\", \"AreaTablesTime\")\n",
    "head(geopandas)"
   ]
  },
  {
   "cell_type": "code",
   "execution_count": 3,
   "metadata": {},
   "outputs": [
    {
     "data": {
      "text/html": [
       "<table>\n",
       "<thead><tr><th scope=col>Timestamp</th><th scope=col>Method</th><th scope=col>Size</th><th scope=col>TotalTime</th><th scope=col>AreaTablesTime</th></tr></thead>\n",
       "<tbody>\n",
       "\t<tr><td>2019-04-23 23:40:47,266</td><td>GeoSpark               </td><td>10%                    </td><td>23.66                  </td><td> 8.35                  </td></tr>\n",
       "\t<tr><td>2019-04-23 23:41:17,700</td><td>GeoSpark               </td><td>20%                    </td><td>27.30                  </td><td>12.84                  </td></tr>\n",
       "\t<tr><td>2019-04-23 23:41:49,609</td><td>GeoSpark               </td><td>30%                    </td><td>28.76                  </td><td>15.10                  </td></tr>\n",
       "\t<tr><td>2019-04-23 23:42:17,571</td><td>GeoSpark               </td><td>40%                    </td><td>24.77                  </td><td> 9.17                  </td></tr>\n",
       "\t<tr><td>2019-04-23 23:42:44,353</td><td>GeoSpark               </td><td>50%                    </td><td>23.65                  </td><td>10.15                  </td></tr>\n",
       "\t<tr><td>2019-04-23 23:43:12,160</td><td>GeoSpark               </td><td>60%                    </td><td>24.68                  </td><td>10.91                  </td></tr>\n",
       "</tbody>\n",
       "</table>\n"
      ],
      "text/latex": [
       "\\begin{tabular}{r|lllll}\n",
       " Timestamp & Method & Size & TotalTime & AreaTablesTime\\\\\n",
       "\\hline\n",
       "\t 2019-04-23 23:40:47,266 & GeoSpark                & 10\\%                   & 23.66                   &  8.35                  \\\\\n",
       "\t 2019-04-23 23:41:17,700 & GeoSpark                & 20\\%                   & 27.30                   & 12.84                  \\\\\n",
       "\t 2019-04-23 23:41:49,609 & GeoSpark                & 30\\%                   & 28.76                   & 15.10                  \\\\\n",
       "\t 2019-04-23 23:42:17,571 & GeoSpark                & 40\\%                   & 24.77                   &  9.17                  \\\\\n",
       "\t 2019-04-23 23:42:44,353 & GeoSpark                & 50\\%                   & 23.65                   & 10.15                  \\\\\n",
       "\t 2019-04-23 23:43:12,160 & GeoSpark                & 60\\%                   & 24.68                   & 10.91                  \\\\\n",
       "\\end{tabular}\n"
      ],
      "text/markdown": [
       "\n",
       "Timestamp | Method | Size | TotalTime | AreaTablesTime | \n",
       "|---|---|---|---|---|---|\n",
       "| 2019-04-23 23:40:47,266 | GeoSpark                | 10%                     | 23.66                   |  8.35                   | \n",
       "| 2019-04-23 23:41:17,700 | GeoSpark                | 20%                     | 27.30                   | 12.84                   | \n",
       "| 2019-04-23 23:41:49,609 | GeoSpark                | 30%                     | 28.76                   | 15.10                   | \n",
       "| 2019-04-23 23:42:17,571 | GeoSpark                | 40%                     | 24.77                   |  9.17                   | \n",
       "| 2019-04-23 23:42:44,353 | GeoSpark                | 50%                     | 23.65                   | 10.15                   | \n",
       "| 2019-04-23 23:43:12,160 | GeoSpark                | 60%                     | 24.68                   | 10.91                   | \n",
       "\n",
       "\n"
      ],
      "text/plain": [
       "  Timestamp               Method   Size TotalTime AreaTablesTime\n",
       "1 2019-04-23 23:40:47,266 GeoSpark 10%  23.66      8.35         \n",
       "2 2019-04-23 23:41:17,700 GeoSpark 20%  27.30     12.84         \n",
       "3 2019-04-23 23:41:49,609 GeoSpark 30%  28.76     15.10         \n",
       "4 2019-04-23 23:42:17,571 GeoSpark 40%  24.77      9.17         \n",
       "5 2019-04-23 23:42:44,353 GeoSpark 50%  23.65     10.15         \n",
       "6 2019-04-23 23:43:12,160 GeoSpark 60%  24.68     10.91         "
      ]
     },
     "metadata": {},
     "output_type": "display_data"
    }
   ],
   "source": [
    "geospark = read.table(\"~/RIDIR/Code/Validation/GeoSparkBenchmark.tsv\", header = F, sep = \"|\")\n",
    "names(geospark) = c(\"Timestamp\", \"Method\", \"Size\", \"TotalTime\", \"AreaTablesTime\")\n",
    "head(geospark)"
   ]
  },
  {
   "cell_type": "code",
   "execution_count": 15,
   "metadata": {},
   "outputs": [
    {
     "data": {
      "text/html": [
       "<table>\n",
       "<thead><tr><th scope=col>Method</th><th scope=col>Size</th><th scope=col>TotalTime</th><th scope=col>AreaTablesTime</th></tr></thead>\n",
       "<tbody>\n",
       "\t<tr><td>GeoPandas</td><td>10%      </td><td>  1.972  </td><td>  1.812  </td></tr>\n",
       "\t<tr><td>GeoPandas</td><td>100%     </td><td>147.968  </td><td>146.644  </td></tr>\n",
       "\t<tr><td>GeoPandas</td><td>20%      </td><td>  5.566  </td><td>  5.286  </td></tr>\n",
       "\t<tr><td>GeoPandas</td><td>30%      </td><td> 11.298  </td><td> 10.892  </td></tr>\n",
       "\t<tr><td>GeoPandas</td><td>40%      </td><td> 21.406  </td><td> 20.854  </td></tr>\n",
       "\t<tr><td>GeoPandas</td><td>50%      </td><td> 35.368  </td><td> 34.696  </td></tr>\n",
       "</tbody>\n",
       "</table>\n"
      ],
      "text/latex": [
       "\\begin{tabular}{r|llll}\n",
       " Method & Size & TotalTime & AreaTablesTime\\\\\n",
       "\\hline\n",
       "\t GeoPandas & 10\\%     &   1.972   &   1.812  \\\\\n",
       "\t GeoPandas & 100\\%    & 147.968   & 146.644  \\\\\n",
       "\t GeoPandas & 20\\%     &   5.566   &   5.286  \\\\\n",
       "\t GeoPandas & 30\\%     &  11.298   &  10.892  \\\\\n",
       "\t GeoPandas & 40\\%     &  21.406   &  20.854  \\\\\n",
       "\t GeoPandas & 50\\%     &  35.368   &  34.696  \\\\\n",
       "\\end{tabular}\n"
      ],
      "text/markdown": [
       "\n",
       "Method | Size | TotalTime | AreaTablesTime | \n",
       "|---|---|---|---|---|---|\n",
       "| GeoPandas | 10%       |   1.972   |   1.812   | \n",
       "| GeoPandas | 100%      | 147.968   | 146.644   | \n",
       "| GeoPandas | 20%       |   5.566   |   5.286   | \n",
       "| GeoPandas | 30%       |  11.298   |  10.892   | \n",
       "| GeoPandas | 40%       |  21.406   |  20.854   | \n",
       "| GeoPandas | 50%       |  35.368   |  34.696   | \n",
       "\n",
       "\n"
      ],
      "text/plain": [
       "  Method    Size TotalTime AreaTablesTime\n",
       "1 GeoPandas 10%    1.972     1.812       \n",
       "2 GeoPandas 100% 147.968   146.644       \n",
       "3 GeoPandas 20%    5.566     5.286       \n",
       "4 GeoPandas 30%   11.298    10.892       \n",
       "5 GeoPandas 40%   21.406    20.854       \n",
       "6 GeoPandas 50%   35.368    34.696       "
      ]
     },
     "metadata": {},
     "output_type": "display_data"
    }
   ],
   "source": [
    "benchmark = as_tibble(rbind(geopandas, geospark)) %>%\n",
    "                select(\"Method\", \"Size\", \"TotalTime\", \"AreaTablesTime\") %>%\n",
    "                mutate(TotalTime = as.numeric(TotalTime), AreaTablesTime = as.numeric(AreaTablesTime)) %>%\n",
    "                group_by(Method, Size) %>% summarise(TotalTime = mean(TotalTime), AreaTablesTime = mean(AreaTablesTime)) \n",
    "benchmark$Size <- factor(benchmark$Size, levels = c(\"10%\", \"20%\", \"30%\", \"40%\", \"50%\", \"60%\", \"70%\", \"80%\", \"90%\", \"100%\"))\n",
    "head(benchmark)"
   ]
  },
  {
   "cell_type": "code",
   "execution_count": 20,
   "metadata": {},
   "outputs": [
    {
     "data": {
      "image/png": "[encoded data removed]",
      "text/plain": [
       "plot without title"
      ]
     },
     "metadata": {},
     "output_type": "display_data"
    }
   ],
   "source": [
    "g = ggplot(data=benchmark, aes(x=Size, y=AreaTablesTime, fill=Method)) +\n",
    "    geom_bar(stat=\"identity\", position=position_dodge(width = 0.75), width = 0.7) +\n",
    "    labs(title=\"Benchmark area_tables using CA dataset\", y=\"Time(s)\", x=\"Size of CA dataset\")\n",
    "plot(g)"
   ]
  },
  {
   "cell_type": "code",
   "execution_count": null,
   "metadata": {},
   "outputs": [],
   "source": []
  }
 ],
 "metadata": {
  "kernelspec": {
   "display_name": "R",
   "language": "R",
   "name": "ir"
  },
  "language_info": {
   "codemirror_mode": "r",
   "file_extension": ".r",
   "mimetype": "text/x-r-source",
   "name": "R",
   "pygments_lexer": "r",
   "version": "3.5.3"
  }
 },
 "nbformat": 4,
 "nbformat_minor": 2
}
