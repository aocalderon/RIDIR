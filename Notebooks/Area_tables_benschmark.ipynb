{
 "cells": [
  {
   "cell_type": "code",
   "execution_count": null,
   "metadata": {},
   "outputs": [],
   "source": [
    "require(tidyverse)"
   ]
  },
  {
   "cell_type": "code",
   "execution_count": null,
   "metadata": {},
   "outputs": [],
   "source": [
    "geopandas = read.table(\"~/RIDIR/Code/Validation/GeoPandasBenchmark.tsv\", header = F, sep = \"|\")\n",
    "names(geopandas) = c(\"Timestamp\", \"Method\", \"Size\", \"TotalTime\", \"AreaTablesTime\")\n",
    "head(geopandas)"
   ]
  },
  {
   "cell_type": "code",
   "execution_count": 16,
   "metadata": {},
   "outputs": [
    {
     "data": {
      "text/html": [
       "<table>\n",
       "<thead><tr><th scope=col>Timestamp</th><th scope=col>Method</th><th scope=col>Size</th><th scope=col>TotalTime</th><th scope=col>AreaTablesTime</th></tr></thead>\n",
       "<tbody>\n",
       "\t<tr><td>2019-04-23 23:40:47,266</td><td>GeoSpark               </td><td>10%                    </td><td>23.66                  </td><td> 8.35                  </td></tr>\n",
       "\t<tr><td>2019-04-23 23:41:17,700</td><td>GeoSpark               </td><td>20%                    </td><td>27.30                  </td><td>12.84                  </td></tr>\n",
       "\t<tr><td>2019-04-23 23:41:49,609</td><td>GeoSpark               </td><td>30%                    </td><td>28.76                  </td><td>15.10                  </td></tr>\n",
       "\t<tr><td>2019-04-23 23:42:17,571</td><td>GeoSpark               </td><td>40%                    </td><td>24.77                  </td><td> 9.17                  </td></tr>\n",
       "\t<tr><td>2019-04-23 23:42:44,353</td><td>GeoSpark               </td><td>50%                    </td><td>23.65                  </td><td>10.15                  </td></tr>\n",
       "\t<tr><td>2019-04-23 23:43:12,160</td><td>GeoSpark               </td><td>60%                    </td><td>24.68                  </td><td>10.91                  </td></tr>\n",
       "</tbody>\n",
       "</table>\n"
      ],
      "text/latex": [
       "\\begin{tabular}{r|lllll}\n",
       " Timestamp & Method & Size & TotalTime & AreaTablesTime\\\\\n",
       "\\hline\n",
       "\t 2019-04-23 23:40:47,266 & GeoSpark                & 10\\%                   & 23.66                   &  8.35                  \\\\\n",
       "\t 2019-04-23 23:41:17,700 & GeoSpark                & 20\\%                   & 27.30                   & 12.84                  \\\\\n",
       "\t 2019-04-23 23:41:49,609 & GeoSpark                & 30\\%                   & 28.76                   & 15.10                  \\\\\n",
       "\t 2019-04-23 23:42:17,571 & GeoSpark                & 40\\%                   & 24.77                   &  9.17                  \\\\\n",
       "\t 2019-04-23 23:42:44,353 & GeoSpark                & 50\\%                   & 23.65                   & 10.15                  \\\\\n",
       "\t 2019-04-23 23:43:12,160 & GeoSpark                & 60\\%                   & 24.68                   & 10.91                  \\\\\n",
       "\\end{tabular}\n"
      ],
      "text/markdown": [
       "\n",
       "| Timestamp | Method | Size | TotalTime | AreaTablesTime |\n",
       "|---|---|---|---|---|\n",
       "| 2019-04-23 23:40:47,266 | GeoSpark                | 10%                     | 23.66                   |  8.35                   |\n",
       "| 2019-04-23 23:41:17,700 | GeoSpark                | 20%                     | 27.30                   | 12.84                   |\n",
       "| 2019-04-23 23:41:49,609 | GeoSpark                | 30%                     | 28.76                   | 15.10                   |\n",
       "| 2019-04-23 23:42:17,571 | GeoSpark                | 40%                     | 24.77                   |  9.17                   |\n",
       "| 2019-04-23 23:42:44,353 | GeoSpark                | 50%                     | 23.65                   | 10.15                   |\n",
       "| 2019-04-23 23:43:12,160 | GeoSpark                | 60%                     | 24.68                   | 10.91                   |\n",
       "\n"
      ],
      "text/plain": [
       "  Timestamp               Method   Size TotalTime AreaTablesTime\n",
       "1 2019-04-23 23:40:47,266 GeoSpark 10%  23.66      8.35         \n",
       "2 2019-04-23 23:41:17,700 GeoSpark 20%  27.30     12.84         \n",
       "3 2019-04-23 23:41:49,609 GeoSpark 30%  28.76     15.10         \n",
       "4 2019-04-23 23:42:17,571 GeoSpark 40%  24.77      9.17         \n",
       "5 2019-04-23 23:42:44,353 GeoSpark 50%  23.65     10.15         \n",
       "6 2019-04-23 23:43:12,160 GeoSpark 60%  24.68     10.91         "
      ]
     },
     "metadata": {},
     "output_type": "display_data"
    }
   ],
   "source": [
    "geospark = read.table(\"~/RIDIR/Code/Validation/GeoSparkBenchmark.tsv\", header = F, sep = \"|\")\n",
    "names(geospark) = c(\"Timestamp\", \"Method\", \"Size\", \"TotalTime\", \"AreaTablesTime\")\n",
    "head(geospark)"
   ]
  },
  {
   "cell_type": "code",
   "execution_count": 6,
   "metadata": {},
   "outputs": [
    {
     "data": {
      "text/html": [
       "<table>\n",
       "<thead><tr><th scope=col>V1</th></tr></thead>\n",
       "<tbody>\n",
       "\t<tr><td>2019-04-23 21:42:41,899|GeoPandas|10%|1.97|1.81  </td></tr>\n",
       "\t<tr><td>2019-04-23 21:42:48,264|GeoPandas|20%|5.58|5.30  </td></tr>\n",
       "\t<tr><td>2019-04-23 21:43:00,281|GeoPandas|30%|11.23|10.83</td></tr>\n",
       "\t<tr><td>2019-04-23 21:43:22,517|GeoPandas|40%|21.44|20.89</td></tr>\n",
       "\t<tr><td>2019-04-23 21:43:58,617|GeoPandas|50%|35.31|34.63</td></tr>\n",
       "\t<tr><td>2019-04-23 21:44:52,760|GeoPandas|60%|53.35|52.53</td></tr>\n",
       "</tbody>\n",
       "</table>\n"
      ],
      "text/latex": [
       "\\begin{tabular}{r|l}\n",
       " V1\\\\\n",
       "\\hline\n",
       "\t 2019-04-23 21:42:41,899\\textbar{}GeoPandas\\textbar{}10\\%\\textbar{}1.97\\textbar{}1.81  \\\\\n",
       "\t 2019-04-23 21:42:48,264\\textbar{}GeoPandas\\textbar{}20\\%\\textbar{}5.58\\textbar{}5.30  \\\\\n",
       "\t 2019-04-23 21:43:00,281\\textbar{}GeoPandas\\textbar{}30\\%\\textbar{}11.23\\textbar{}10.83\\\\\n",
       "\t 2019-04-23 21:43:22,517\\textbar{}GeoPandas\\textbar{}40\\%\\textbar{}21.44\\textbar{}20.89\\\\\n",
       "\t 2019-04-23 21:43:58,617\\textbar{}GeoPandas\\textbar{}50\\%\\textbar{}35.31\\textbar{}34.63\\\\\n",
       "\t 2019-04-23 21:44:52,760\\textbar{}GeoPandas\\textbar{}60\\%\\textbar{}53.35\\textbar{}52.53\\\\\n",
       "\\end{tabular}\n"
      ],
      "text/markdown": [
       "\n",
       "| V1 |\n",
       "|---|\n",
       "| 2019-04-23 21:42:41,899|GeoPandas|10%|1.97|1.81   |\n",
       "| 2019-04-23 21:42:48,264|GeoPandas|20%|5.58|5.30   |\n",
       "| 2019-04-23 21:43:00,281|GeoPandas|30%|11.23|10.83 |\n",
       "| 2019-04-23 21:43:22,517|GeoPandas|40%|21.44|20.89 |\n",
       "| 2019-04-23 21:43:58,617|GeoPandas|50%|35.31|34.63 |\n",
       "| 2019-04-23 21:44:52,760|GeoPandas|60%|53.35|52.53 |\n",
       "\n"
      ],
      "text/plain": [
       "  V1                                               \n",
       "1 2019-04-23 21:42:41,899|GeoPandas|10%|1.97|1.81  \n",
       "2 2019-04-23 21:42:48,264|GeoPandas|20%|5.58|5.30  \n",
       "3 2019-04-23 21:43:00,281|GeoPandas|30%|11.23|10.83\n",
       "4 2019-04-23 21:43:22,517|GeoPandas|40%|21.44|20.89\n",
       "5 2019-04-23 21:43:58,617|GeoPandas|50%|35.31|34.63\n",
       "6 2019-04-23 21:44:52,760|GeoPandas|60%|53.35|52.53"
      ]
     },
     "metadata": {},
     "output_type": "display_data"
    }
   ],
   "source": [
    "head(geopandas)"
   ]
  },
  {
   "cell_type": "code",
   "execution_count": null,
   "metadata": {},
   "outputs": [],
   "source": []
  }
 ],
 "metadata": {
  "kernelspec": {
   "display_name": "R",
   "language": "R",
   "name": "ir"
  },
  "language_info": {
   "codemirror_mode": "r",
   "file_extension": ".r",
   "mimetype": "text/x-r-source",
   "name": "R",
   "pygments_lexer": "r",
   "version": "3.5.3"
  }
 },
 "nbformat": 4,
 "nbformat_minor": 2
}
