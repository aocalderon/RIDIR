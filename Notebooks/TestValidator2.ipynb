{
 "cells": [
  {
   "cell_type": "code",
   "execution_count": 1,
   "metadata": {},
   "outputs": [
    {
     "name": "stdout",
     "output_type": "stream",
     "text": [
      "Loading spark-stubs\n",
      "Creating SparkSession\n"
     ]
    },
    {
     "name": "stderr",
     "output_type": "stream",
     "text": [
      "Using Spark's default log4j profile: org/apache/spark/log4j-defaults.properties\n"
     ]
    },
    {
     "data": {
      "text/plain": [
       "\u001b[32mimport \u001b[39m\u001b[36m$ivy.$                                   // Or use any other 2.x version here\n",
       "\u001b[39m\n",
       "\u001b[32mimport \u001b[39m\u001b[36m$ivy.$                                    \n",
       "\u001b[39m\n",
       "\u001b[32mimport \u001b[39m\u001b[36m$ivy.$                                \n",
       "\u001b[39m\n",
       "\u001b[32mimport \u001b[39m\u001b[36m$ivy.$                              \n",
       "\n",
       "\u001b[39m\n",
       "\u001b[32mimport \u001b[39m\u001b[36morg.apache.spark.serializer.KryoSerializer\n",
       "\u001b[39m\n",
       "\u001b[32mimport \u001b[39m\u001b[36morg.apache.spark.storage.StorageLevel\n",
       "\u001b[39m\n",
       "\u001b[32mimport \u001b[39m\u001b[36morg.apache.spark.mllib.evaluation.RegressionMetrics\n",
       "\u001b[39m\n",
       "\u001b[32mimport \u001b[39m\u001b[36morg.apache.spark.rdd.RDD\n",
       "\u001b[39m\n",
       "\u001b[32mimport \u001b[39m\u001b[36morg.datasyslab.geospark.enums.{GridType, IndexType}\n",
       "\u001b[39m\n",
       "\u001b[32mimport \u001b[39m\u001b[36morg.datasyslab.geospark.spatialOperator.JoinQuery\n",
       "\u001b[39m\n",
       "\u001b[32mimport \u001b[39m\u001b[36morg.datasyslab.geospark.formatMapper.shapefileParser.ShapefileReader\n",
       "\u001b[39m\n",
       "\u001b[32mimport \u001b[39m\u001b[36mscala.collection.JavaConverters._\n",
       "\u001b[39m\n",
       "\u001b[32mimport \u001b[39m\u001b[36mjava.io._\n",
       "\u001b[39m\n",
       "\u001b[32mimport \u001b[39m\u001b[36morg.apache.log4j.{Level, Logger}\n",
       "\u001b[39m\n",
       "\u001b[32mimport \u001b[39m\u001b[36morg.apache.spark.sql._\n",
       "\n",
       "\u001b[39m\n",
       "\u001b[36mspark\u001b[39m: \u001b[32mSparkSession\u001b[39m = org.apache.spark.sql.SparkSession@5f9476d7\n",
       "\u001b[32mimport \u001b[39m\u001b[36mspark.implicits._\n",
       "\u001b[39m\n",
       "\u001b[36mappID\u001b[39m: \u001b[32mString\u001b[39m = \u001b[32m\"local-1557626873550\"\u001b[39m"
      ]
     },
     "execution_count": 1,
     "metadata": {},
     "output_type": "execute_result"
    }
   ],
   "source": [
    "import $ivy.`org.apache.spark::spark-sql:2.4.0` // Or use any other 2.x version here\n",
    "import $ivy.`org.apache.spark::spark-mllib:2.4.0`\n",
    "import $ivy.`sh.almond::ammonite-spark:0.4.0`\n",
    "import $ivy.`org.datasyslab:geospark:1.2.0`\n",
    "\n",
    "import org.apache.spark.serializer.KryoSerializer\n",
    "import org.apache.spark.storage.StorageLevel\n",
    "import org.apache.spark.mllib.evaluation.RegressionMetrics\n",
    "import org.apache.spark.rdd.RDD\n",
    "import org.datasyslab.geospark.enums.{GridType, IndexType}\n",
    "import org.datasyslab.geospark.spatialOperator.JoinQuery\n",
    "import org.datasyslab.geospark.formatMapper.shapefileParser.ShapefileReader\n",
    "import scala.collection.JavaConverters._\n",
    "import java.io._\n",
    "import org.apache.log4j.{Level, Logger}\n",
    "Logger.getLogger(\"org\").setLevel(Level.OFF)\n",
    "\n",
    "import org.apache.spark.sql._\n",
    "\n",
    "val spark = AmmoniteSparkSession.builder()\n",
    "    .master(\"local[*]\").appName(\"Validator\")\n",
    "    .getOrCreate()\n",
    "import spark.implicits._\n",
    "val appID = spark.sparkContext.applicationId"
   ]
  },
  {
   "cell_type": "markdown",
   "metadata": {},
   "source": [
    "### Collecting datasets...\n",
    "Polygons from 18 states were collected for both source and target in WKT format. They are available at: https://github.com/aocalderon/RIDIR/tree/master/Datasets/AreaTablesValidation."
   ]
  },
  {
   "cell_type": "code",
   "execution_count": 2,
   "metadata": {},
   "outputs": [
    {
     "name": "stdout",
     "output_type": "stream",
     "text": [
      "-rw-rw-r-- 1 acald013 acald013 7.3M Apr 19 09:29 AL_source.wkt\n",
      "-rw-rw-r-- 1 acald013 acald013 3.9M Apr 19 09:29 AL_target.wkt\n",
      "-rw-rw-r-- 1 acald013 acald013 5.4M Apr 19 09:29 AZ_source.wkt\n",
      "-rw-rw-r-- 1 acald013 acald013 3.4M Apr 19 09:29 AZ_target.wkt\n",
      "-rw-rw-r-- 1 acald013 acald013 5.0M Apr 19 09:29 CO_source.wkt\n",
      "-rw-rw-r-- 1 acald013 acald013 2.8M Apr 19 09:29 CO_target.wkt\n",
      "-rw-rw-r-- 1 acald013 acald013 1.5M Apr 19 09:29 CT_source.wkt\n",
      "-rw-rw-r-- 1 acald013 acald013 1.4M Apr 19 09:29 CT_target.wkt\n",
      "-rw-rw-r-- 1 acald013 acald013 9.0M Apr 19 09:29 GA_source.wkt\n",
      "-rw-rw-r-- 1 acald013 acald013 4.8M Apr 19 09:29 GA_target.wkt\n",
      "-rw-rw-r-- 1 acald013 acald013 3.2M Apr 19 09:29 IL_source.wkt\n",
      "-rw-rw-r-- 1 acald013 acald013 1.8M Apr 19 09:29 IL_target.wkt\n",
      "-rw-rw-r-- 1 acald013 acald013 3.3M Apr 19 09:29 IN_source.wkt\n",
      "-rw-rw-r-- 1 acald013 acald013 2.3M Apr 19 09:29 IN_target.wkt\n",
      "-rw-rw-r-- 1 acald013 acald013 6.9M Apr 19 09:29 LA_source.wkt\n",
      "-rw-rw-r-- 1 acald013 acald013 3.0M Apr 19 09:29 LA_target.wkt\n",
      "-rw-rw-r-- 1 acald013 acald013 1.5M Apr 19 09:29 MD_source.wkt\n",
      "-rw-rw-r-- 1 acald013 acald013 1.3M Apr 19 09:29 MD_target.wkt\n",
      "-rw-rw-r-- 1 acald013 acald013 9.3M Apr 19 09:29 NC_source.wkt\n",
      "-rw-rw-r-- 1 acald013 acald013 5.6M Apr 19 09:29 NC_target.wkt\n",
      "-rw-rw-r-- 1 acald013 acald013 2.7M Apr 19 09:29 NV_source.wkt\n",
      "-rw-rw-r-- 1 acald013 acald013 1.4M Apr 19 09:29 NV_target.wkt\n",
      "-rw-rw-r-- 1 acald013 acald013 2.3M May 11 18:12 NY_source.wkt\n",
      "-rw-rw-r-- 1 acald013 acald013 4.5M May 11 18:12 NY_target.wkt\n",
      "-rw-rw-r-- 1 acald013 acald013 4.5M Apr 19 09:29 OK_source.wkt\n",
      "-rw-rw-r-- 1 acald013 acald013 2.1M Apr 19 09:29 OK_target.wkt\n",
      "-rw-rw-r-- 1 acald013 acald013 7.3M Apr 19 09:29 PA_source.wkt\n",
      "-rw-rw-r-- 1 acald013 acald013 4.6M Apr 19 09:29 PA_target.wkt\n",
      "-rw-rw-r-- 1 acald013 acald013 5.5M Apr 19 09:29 SC_source.wkt\n",
      "-rw-rw-r-- 1 acald013 acald013 3.0M Apr 19 09:29 SC_target.wkt\n",
      "-rw-rw-r-- 1 acald013 acald013 7.2M Apr 19 09:29 TN_source.wkt\n",
      "-rw-rw-r-- 1 acald013 acald013 4.1M Apr 19 09:29 TN_target.wkt\n",
      "-rw-rw-r-- 1 acald013 acald013  12M May  8 19:33 TX_source.wkt\n",
      "-rw-rw-r-- 1 acald013 acald013  20M May  8 19:33 TX_target.wkt\n",
      "-rw-rw-r-- 1 acald013 acald013 6.1M Apr 19 09:29 WA_source.wkt\n",
      "-rw-rw-r-- 1 acald013 acald013 3.7M Apr 19 09:29 WA_target.wkt\n",
      "-rw-rw-r-- 1 acald013 acald013 3.3M Apr 19 09:29 WI_source.wkt\n",
      "-rw-rw-r-- 1 acald013 acald013 2.2M Apr 19 09:29 WI_target.wkt\n"
     ]
    },
    {
     "data": {
      "text/plain": [
       "\u001b[32mimport \u001b[39m\u001b[36msys.process._\n",
       "\n",
       "\u001b[39m\n",
       "\u001b[36mpath\u001b[39m: \u001b[32mString\u001b[39m = \u001b[32m\"/home/acald013/RIDIR/Datasets/AreaTablesValidation\"\u001b[39m\n",
       "\u001b[36mres1_2\u001b[39m: \u001b[32mInt\u001b[39m = \u001b[32m0\u001b[39m"
      ]
     },
     "execution_count": 2,
     "metadata": {},
     "output_type": "execute_result"
    }
   ],
   "source": [
    "import sys.process._\n",
    "\n",
    "val path = \"/home/acald013/RIDIR/Datasets/AreaTablesValidation\"\n",
    "s\"ls -lah ${path}\" #| \"grep wkt\" !"
   ]
  },
  {
   "cell_type": "markdown",
   "metadata": {},
   "source": [
    "For each set of source & target, we run the corresponding script:\n",
    "\n",
    "* For GeoPandas implementation: https://github.com/aocalderon/RIDIR/blob/master/Code/Validation/GeoPandas_area_table_tester.py\n",
    "* For GeoSpark implementation: https://github.com/aocalderon/RIDIR/blob/master/Code/Areal/src/main/scala/GeoSpark_area_table_tester.scala\n",
    "\n",
    "Each script save the results to disk for further analysis (files are also available in the same repo)."
   ]
  },
  {
   "cell_type": "code",
   "execution_count": 3,
   "metadata": {},
   "outputs": [
    {
     "name": "stdout",
     "output_type": "stream",
     "text": [
      "-rw-rw-r-- 1 acald013 acald013 162K Apr 19 09:29 AL_geopandas_test.tsv\n",
      "-rw-rw-r-- 1 acald013 acald013 157K Apr 19 09:29 AL_geospark_test.tsv\n",
      "-rw-rw-r-- 1 acald013 acald013 165K Apr 19 09:29 AZ_geopandas_test.tsv\n",
      "-rw-rw-r-- 1 acald013 acald013 161K Apr 19 09:29 AZ_geospark_test.tsv\n",
      "-rw-rw-r-- 1 acald013 acald013 169K Apr 19 09:29 CO_geopandas_test.tsv\n",
      "-rw-rw-r-- 1 acald013 acald013 164K Apr 19 09:29 CO_geospark_test.tsv\n",
      "-rw-rw-r-- 1 acald013 acald013 145K Apr 19 09:29 CT_geopandas_test.tsv\n",
      "-rw-rw-r-- 1 acald013 acald013 141K Apr 19 09:29 CT_geospark_test.tsv\n",
      "-rw-rw-r-- 1 acald013 acald013 257K Apr 19 09:29 GA_geopandas_test.tsv\n",
      "-rw-rw-r-- 1 acald013 acald013 251K Apr 19 09:29 GA_geospark_test.tsv\n",
      "-rw-rw-r-- 1 acald013 acald013 126K Apr 19 09:29 IL_geopandas_test.tsv\n",
      "-rw-rw-r-- 1 acald013 acald013 123K Apr 19 09:29 IL_geospark_test.tsv\n",
      "-rw-rw-r-- 1 acald013 acald013 186K Apr 19 09:29 IN_geopandas_test.tsv\n",
      "-rw-rw-r-- 1 acald013 acald013 181K Apr 19 09:29 IN_geospark_test.tsv\n",
      "-rw-rw-r-- 1 acald013 acald013 186K Apr 19 09:29 LA_geopandas_test.tsv\n",
      "-rw-rw-r-- 1 acald013 acald013 181K Apr 19 09:29 LA_geospark_test.tsv\n",
      "-rw-rw-r-- 1 acald013 acald013 120K Apr 19 09:29 MD_geopandas_test.tsv\n",
      "-rw-rw-r-- 1 acald013 acald013 116K Apr 19 09:29 MD_geospark_test.tsv\n",
      "-rw-rw-r-- 1 acald013 acald013 251K Apr 19 09:29 NC_geopandas_test.tsv\n",
      "-rw-rw-r-- 1 acald013 acald013 244K Apr 19 09:29 NC_geospark_test.tsv\n",
      "-rw-rw-r-- 1 acald013 acald013  66K Apr 19 09:29 NV_geopandas_test.tsv\n",
      "-rw-rw-r-- 1 acald013 acald013  64K Apr 19 09:29 NV_geospark_test.tsv\n",
      "-rw-rw-r-- 1 acald013 acald013 290K May 11 18:16 NY_geopandas_test.tsv\n",
      "-rw-rw-r-- 1 acald013 acald013 283K May 11 18:16 NY_geospark_test.tsv\n",
      "-rw-rw-r-- 1 acald013 acald013 142K Apr 19 09:29 OK_geopandas_test.tsv\n",
      "-rw-rw-r-- 1 acald013 acald013 138K Apr 19 09:29 OK_geospark_test.tsv\n",
      "-rw-rw-r-- 1 acald013 acald013 369K Apr 19 09:29 PA_geopandas_test.tsv\n",
      "-rw-rw-r-- 1 acald013 acald013 359K Apr 19 09:29 PA_geospark_test.tsv\n",
      "-rw-rw-r-- 1 acald013 acald013 141K Apr 19 09:29 SC_geopandas_test.tsv\n",
      "-rw-rw-r-- 1 acald013 acald013 138K Apr 19 09:29 SC_geospark_test.tsv\n",
      "-rw-rw-r-- 1 acald013 acald013 162K Apr 19 09:29 TN_geopandas_test.tsv\n",
      "-rw-rw-r-- 1 acald013 acald013 157K Apr 19 09:29 TN_geospark_test.tsv\n",
      "-rw-rw-r-- 1 acald013 acald013 759K May 11 18:01 TX_geopandas_test.tsv\n",
      "-rw-rw-r-- 1 acald013 acald013 739K May 11 19:04 TX_geospark_test.tsv\n",
      "-rw-rw-r-- 1 acald013 acald013 199K Apr 19 09:29 WA_geopandas_test.tsv\n",
      "-rw-rw-r-- 1 acald013 acald013 194K Apr 19 09:29 WA_geospark_test.tsv\n",
      "-rw-rw-r-- 1 acald013 acald013 197K Apr 19 09:29 WI_geopandas_test.tsv\n",
      "-rw-rw-r-- 1 acald013 acald013 191K Apr 19 09:29 WI_geospark_test.tsv\n"
     ]
    },
    {
     "data": {
      "text/plain": [
       "\u001b[36mpath\u001b[39m: \u001b[32mString\u001b[39m = \u001b[32m\"/home/acald013/RIDIR/Datasets/AreaTablesValidation\"\u001b[39m\n",
       "\u001b[36mres2_1\u001b[39m: \u001b[32mInt\u001b[39m = \u001b[32m0\u001b[39m"
      ]
     },
     "execution_count": 3,
     "metadata": {},
     "output_type": "execute_result"
    }
   ],
   "source": [
    "val path = \"/home/acald013/RIDIR/Datasets/AreaTablesValidation\"\n",
    "s\"ls -lah ${path}\" #| \"grep tsv\" !"
   ]
  },
  {
   "cell_type": "markdown",
   "metadata": {},
   "source": [
    "### Set a particular state to run the validation..."
   ]
  },
  {
   "cell_type": "code",
   "execution_count": 4,
   "metadata": {},
   "outputs": [
    {
     "data": {
      "text/plain": [
       "\u001b[36mstate\u001b[39m: \u001b[32mString\u001b[39m = \u001b[32m\"TX\"\u001b[39m"
      ]
     },
     "execution_count": 4,
     "metadata": {},
     "output_type": "execute_result"
    }
   ],
   "source": [
    "val state = \"TX\""
   ]
  },
  {
   "cell_type": "markdown",
   "metadata": {},
   "source": [
    "### Reading results from geopandas implementation..."
   ]
  },
  {
   "cell_type": "code",
   "execution_count": 5,
   "metadata": {},
   "outputs": [
    {
     "data": {
      "text/plain": [
       "\u001b[36mgeopandas\u001b[39m: \u001b[32mDataset\u001b[39m[\u001b[32mRow\u001b[39m] = [_c0: string, _c1: string ... 1 more field]\n",
       "\u001b[36mres4_1\u001b[39m: \u001b[32mLong\u001b[39m = \u001b[32m21410L\u001b[39m"
      ]
     },
     "execution_count": 5,
     "metadata": {},
     "output_type": "execute_result"
    }
   ],
   "source": [
    "val geopandas = spark.read.option(\"header\", \"false\").option(\"delimiter\", \"\\t\").csv(s\"${path}/${state}_geopandas_test.tsv\").distinct()\n",
    "geopandas.count()"
   ]
  },
  {
   "cell_type": "markdown",
   "metadata": {},
   "source": [
    "### Reading results from geospark implementation..."
   ]
  },
  {
   "cell_type": "code",
   "execution_count": 6,
   "metadata": {},
   "outputs": [
    {
     "data": {
      "text/plain": [
       "\u001b[36mgeospark\u001b[39m: \u001b[32mDataset\u001b[39m[\u001b[32mRow\u001b[39m] = [_c0: string, _c1: string ... 1 more field]\n",
       "\u001b[36mres5_1\u001b[39m: \u001b[32mLong\u001b[39m = \u001b[32m21410L\u001b[39m"
      ]
     },
     "execution_count": 6,
     "metadata": {},
     "output_type": "execute_result"
    }
   ],
   "source": [
    "val geospark = spark.read.option(\"header\", \"false\").option(\"delimiter\", \"\\t\").csv(s\"${path}/${state}_geospark_test.tsv\").distinct()\n",
    "geospark.count()"
   ]
  },
  {
   "cell_type": "markdown",
   "metadata": {},
   "source": [
    "### Merging both result sets..."
   ]
  },
  {
   "cell_type": "code",
   "execution_count": 7,
   "metadata": {},
   "outputs": [
    {
     "name": "stdout",
     "output_type": "stream",
     "text": [
      "+------+------+---------------------+\n",
      "|_1    |_2    |_3                   |\n",
      "+------+------+---------------------+\n",
      "|T54482|S61320|1.4856713197347244E-5|\n",
      "|T54483|S61320|1.3428845503735151E-5|\n",
      "|T54488|S61320|1.5692278894226508E-5|\n",
      "|T54490|S61320|2.015843729787822E-5 |\n",
      "|T54894|S61320|6.340132701726107E-5 |\n",
      "|T54915|S61320|1.010519144095369E-6 |\n",
      "|T54916|S61320|0.047360737737180074 |\n",
      "|T54917|S61320|0.027117068771871727 |\n",
      "|T54918|S61320|2.556941751028444E-5 |\n",
      "|T54923|S61320|1.2113117883442573E-5|\n",
      "|T54916|S61321|2.3144935039285635E-6|\n",
      "|T54918|S61321|0.0015869187196737413|\n",
      "|T54923|S61321|1.481265382233853E-5 |\n",
      "|T54894|S61322|1.3310058456443617E-5|\n",
      "|T54900|S61322|2.6295495066915202E-5|\n",
      "|T54916|S61322|8.33440464527646E-6  |\n",
      "|T54917|S61322|2.510670359317722E-5 |\n",
      "|T54918|S61322|0.0070110029427875534|\n",
      "|T54923|S61322|6.754176895075E-5    |\n",
      "|T54354|S61323|6.167120075582282E-6 |\n",
      "+------+------+---------------------+\n",
      "only showing top 20 rows\n",
      "\n"
     ]
    },
    {
     "data": {
      "text/plain": [
       "\u001b[36mp\u001b[39m: \u001b[32mRDD\u001b[39m[(\u001b[32mString\u001b[39m, \u001b[32mString\u001b[39m, \u001b[32mDouble\u001b[39m)] = MapPartitionsRDD[52] at repartition at cmd6.sc:2\n",
       "\u001b[36mres6_2\u001b[39m: \u001b[32mLong\u001b[39m = \u001b[32m21410L\u001b[39m"
      ]
     },
     "execution_count": 7,
     "metadata": {},
     "output_type": "execute_result"
    }
   ],
   "source": [
    "val p = geopandas.map(p => (p.getString(0), p.getString(1), p.getString(2).toDouble)).rdd\n",
    "            .sortBy(p => (p._2, p._1, p._3)).repartition(1)\n",
    "p.toDF().show(false)\n",
    "p.count()"
   ]
  },
  {
   "cell_type": "code",
   "execution_count": 8,
   "metadata": {},
   "outputs": [
    {
     "name": "stdout",
     "output_type": "stream",
     "text": [
      "+------+------+---------------------+\n",
      "|_1    |_2    |_3                   |\n",
      "+------+------+---------------------+\n",
      "|S61320|T54482|1.4856713197347244E-5|\n",
      "|S61320|T54483|1.3428845503735151E-5|\n",
      "|S61320|T54488|1.5692278894226508E-5|\n",
      "|S61320|T54490|2.015843729787822E-5 |\n",
      "|S61320|T54894|6.34013270172611E-5  |\n",
      "|S61320|T54915|1.010519144095369E-6 |\n",
      "|S61320|T54916|0.047360737737180074 |\n",
      "|S61320|T54917|0.027117068771871727 |\n",
      "|S61320|T54918|2.5569417510284444E-5|\n",
      "|S61320|T54923|1.2113117883442573E-5|\n",
      "|S61321|T54916|2.3144935039285635E-6|\n",
      "|S61321|T54918|0.0015869187196737413|\n",
      "|S61321|T54923|1.481265382233853E-5 |\n",
      "|S61322|T54894|1.3310058456443617E-5|\n",
      "|S61322|T54900|2.6295495066915202E-5|\n",
      "|S61322|T54916|8.33440464527646E-6  |\n",
      "|S61322|T54917|2.5106703593177223E-5|\n",
      "|S61322|T54918|0.0070110029427875534|\n",
      "|S61322|T54923|6.754176895075E-5    |\n",
      "|S61323|T54354|6.167120075582282E-6 |\n",
      "+------+------+---------------------+\n",
      "only showing top 20 rows\n",
      "\n"
     ]
    },
    {
     "data": {
      "text/plain": [
       "\u001b[36ms\u001b[39m: \u001b[32mRDD\u001b[39m[(\u001b[32mString\u001b[39m, \u001b[32mString\u001b[39m, \u001b[32mDouble\u001b[39m)] = MapPartitionsRDD[73] at repartition at cmd7.sc:2\n",
       "\u001b[36mres7_2\u001b[39m: \u001b[32mLong\u001b[39m = \u001b[32m21410L\u001b[39m"
      ]
     },
     "execution_count": 8,
     "metadata": {},
     "output_type": "execute_result"
    }
   ],
   "source": [
    "val s = geospark.map(s => (s.getString(0), s.getString(1), s.getString(2).toDouble)).rdd\n",
    "            .sortBy(p => (p._1, p._2, p._3)).repartition(1)\n",
    "s.toDF().show(false)\n",
    "s.count()"
   ]
  },
  {
   "cell_type": "code",
   "execution_count": 9,
   "metadata": {},
   "outputs": [
    {
     "name": "stdout",
     "output_type": "stream",
     "text": [
      "+---------------------------------------+---------------------------------------+\n",
      "|_1                                     |_2                                     |\n",
      "+---------------------------------------+---------------------------------------+\n",
      "|[T54482, S61320, 1.4856713197347244E-5]|[S61320, T54482, 1.4856713197347244E-5]|\n",
      "|[T54483, S61320, 1.3428845503735151E-5]|[S61320, T54483, 1.3428845503735151E-5]|\n",
      "|[T54488, S61320, 1.5692278894226508E-5]|[S61320, T54488, 1.5692278894226508E-5]|\n",
      "|[T54490, S61320, 2.015843729787822E-5] |[S61320, T54490, 2.015843729787822E-5] |\n",
      "|[T54894, S61320, 6.340132701726107E-5] |[S61320, T54894, 6.34013270172611E-5]  |\n",
      "|[T54915, S61320, 1.010519144095369E-6] |[S61320, T54915, 1.010519144095369E-6] |\n",
      "|[T54916, S61320, 0.047360737737180074] |[S61320, T54916, 0.047360737737180074] |\n",
      "|[T54917, S61320, 0.027117068771871727] |[S61320, T54917, 0.027117068771871727] |\n",
      "|[T54918, S61320, 2.556941751028444E-5] |[S61320, T54918, 2.5569417510284444E-5]|\n",
      "|[T54923, S61320, 1.2113117883442573E-5]|[S61320, T54923, 1.2113117883442573E-5]|\n",
      "|[T54916, S61321, 2.3144935039285635E-6]|[S61321, T54916, 2.3144935039285635E-6]|\n",
      "|[T54918, S61321, 0.0015869187196737413]|[S61321, T54918, 0.0015869187196737413]|\n",
      "|[T54923, S61321, 1.481265382233853E-5] |[S61321, T54923, 1.481265382233853E-5] |\n",
      "|[T54894, S61322, 1.3310058456443617E-5]|[S61322, T54894, 1.3310058456443617E-5]|\n",
      "|[T54900, S61322, 2.6295495066915202E-5]|[S61322, T54900, 2.6295495066915202E-5]|\n",
      "|[T54916, S61322, 8.33440464527646E-6]  |[S61322, T54916, 8.33440464527646E-6]  |\n",
      "|[T54917, S61322, 2.510670359317722E-5] |[S61322, T54917, 2.5106703593177223E-5]|\n",
      "|[T54918, S61322, 0.0070110029427875534]|[S61322, T54918, 0.0070110029427875534]|\n",
      "|[T54923, S61322, 6.754176895075E-5]    |[S61322, T54923, 6.754176895075E-5]    |\n",
      "|[T54354, S61323, 6.167120075582282E-6] |[S61323, T54354, 6.167120075582282E-6] |\n",
      "+---------------------------------------+---------------------------------------+\n",
      "only showing top 20 rows\n",
      "\n"
     ]
    },
    {
     "data": {
      "text/plain": [
       "\u001b[36mareas\u001b[39m: \u001b[32mRDD\u001b[39m[((\u001b[32mString\u001b[39m, \u001b[32mString\u001b[39m, \u001b[32mDouble\u001b[39m), (\u001b[32mString\u001b[39m, \u001b[32mString\u001b[39m, \u001b[32mDouble\u001b[39m))] = ZippedPartitionsRDD2[78] at zip at cmd8.sc:1"
      ]
     },
     "execution_count": 9,
     "metadata": {},
     "output_type": "execute_result"
    }
   ],
   "source": [
    "val areas = p.zip(s)\n",
    "areas.toDF().show(false)"
   ]
  },
  {
   "cell_type": "code",
   "execution_count": 10,
   "metadata": {},
   "outputs": [
    {
     "name": "stdout",
     "output_type": "stream",
     "text": [
      "+---------------------+---------------------+----------------------+\n",
      "|area1                |area2                |diff                  |\n",
      "+---------------------+---------------------+----------------------+\n",
      "|0.0014175904472804926|0.0014175904472804907|1.951563910473908E-18 |\n",
      "|0.0010438371736246278|0.0010438371736246276|2.1684043449710089E-19|\n",
      "|0.001723702869320858 |0.0017237028693208583|2.1684043449710089E-19|\n",
      "|0.0015346975919289106|0.0015346975919289104|2.1684043449710089E-19|\n",
      "|2.8575885729881326E-4|2.857588572988131E-4 |1.6263032587282567E-19|\n",
      "|8.516409768940811E-4 |8.516409768940812E-4 |1.0842021724855044E-19|\n",
      "|5.778733057945471E-4 |5.77873305794547E-4  |1.0842021724855044E-19|\n",
      "|3.0489059025834317E-4|3.048905902583433E-4 |1.0842021724855044E-19|\n",
      "|6.334366241623034E-4 |6.334366241623035E-4 |1.0842021724855044E-19|\n",
      "|9.02660620372196E-4  |9.026606203721961E-4 |1.0842021724855044E-19|\n",
      "|3.572639985071235E-5 |3.572639985071246E-5 |1.0842021724855044E-19|\n",
      "|3.108097415731932E-4 |3.108097415731933E-4 |1.0842021724855044E-19|\n",
      "|5.970683763391791E-4 |5.97068376339179E-4  |1.0842021724855044E-19|\n",
      "|5.754476311345246E-4 |5.754476311345247E-4 |1.0842021724855044E-19|\n",
      "|1.9394227328521293E-4|1.9394227328521285E-4|8.131516293641283E-20 |\n",
      "|3.205630850034627E-4 |3.2056308500346266E-4|5.421010862427522E-20 |\n",
      "|1.2446566160007282E-5|1.2446566160007337E-5|5.421010862427522E-20 |\n",
      "|6.270350750621705E-5 |6.2703507506217E-5   |5.421010862427522E-20 |\n",
      "|1.366683200433505E-4 |1.3666832004335044E-4|5.421010862427522E-20 |\n",
      "|2.049665992239561E-4 |2.0496659922395616E-4|5.421010862427522E-20 |\n",
      "|1.8821784775650905E-4|1.88217847756509E-4  |5.421010862427522E-20 |\n",
      "|1.6442847017663316E-4|1.644284701766331E-4 |5.421010862427522E-20 |\n",
      "|3.497301312459191E-4 |3.4973013124591905E-4|5.421010862427522E-20 |\n",
      "|3.05887823999891E-4  |3.0588782399989107E-4|5.421010862427522E-20 |\n",
      "|1.3840462125527288E-4|1.3840462125527293E-4|5.421010862427522E-20 |\n",
      "|6.537196303689336E-6 |6.537196303689282E-6 |5.421010862427522E-20 |\n",
      "|3.176694426687443E-4 |3.1766944266874435E-4|5.421010862427522E-20 |\n",
      "|2.626231140552663E-5 |2.6262311405526684E-5|5.421010862427522E-20 |\n",
      "|1.5508612474785405E-4|1.55086124747854E-4  |5.421010862427522E-20 |\n",
      "|1.4918556969235354E-4|1.491855696923536E-4 |5.421010862427522E-20 |\n",
      "|2.927724722940866E-4 |2.9277247229408655E-4|5.421010862427522E-20 |\n",
      "|1.2469068049999826E-4|1.246906804999983E-4 |5.421010862427522E-20 |\n",
      "|4.595986085297208E-4 |4.595986085297207E-4 |5.421010862427522E-20 |\n",
      "|1.0380477495264756E-4|1.038047749526475E-4 |5.421010862427522E-20 |\n",
      "|1.2160615778380897E-4|1.2160615778380901E-4|4.0657581468206416E-20|\n",
      "|1.1276199517385917E-4|1.1276199517385921E-4|4.0657581468206416E-20|\n",
      "|8.902434662458672E-5 |8.902434662458676E-5 |4.0657581468206416E-20|\n",
      "|1.1092858422373464E-4|1.109285842237346E-4 |4.0657581468206416E-20|\n",
      "|7.884433808412719E-5 |7.884433808412715E-5 |4.0657581468206416E-20|\n",
      "|1.0717977072757808E-4|1.0717977072757804E-4|4.0657581468206416E-20|\n",
      "|1.1668978899898269E-4|1.1668978899898273E-4|4.0657581468206416E-20|\n",
      "|1.0521016778389091E-4|1.0521016778389087E-4|4.0657581468206416E-20|\n",
      "|8.481589489547017E-5 |8.481589489547013E-5 |4.0657581468206416E-20|\n",
      "|9.925989546549759E-5 |9.925989546549763E-5 |4.0657581468206416E-20|\n",
      "|5.130293470137183E-5 |5.130293470137186E-5 |3.3881317890172014E-20|\n",
      "|1.6348871908364197E-5|1.6348871908364166E-5|3.049318610115481E-20 |\n",
      "|1.3591669681927554E-4|1.3591669681927552E-4|2.710505431213761E-20 |\n",
      "|2.288342175035166E-5 |2.2883421750351634E-5|2.710505431213761E-20 |\n",
      "|1.0569024914647447E-4|1.0569024914647445E-4|2.710505431213761E-20 |\n",
      "|1.5568720488325934E-4|1.556872048832593E-4 |2.710505431213761E-20 |\n",
      "+---------------------+---------------------+----------------------+\n",
      "only showing top 50 rows\n",
      "\n"
     ]
    },
    {
     "data": {
      "text/plain": [
       "\u001b[32mimport \u001b[39m\u001b[36morg.apache.spark.sql.functions._\n",
       "\u001b[39m"
      ]
     },
     "execution_count": 10,
     "metadata": {},
     "output_type": "execute_result"
    }
   ],
   "source": [
    "import org.apache.spark.sql.functions._\n",
    "areas.map(a => (a._1._3, a._2._3)).toDF(\"area1\", \"area2\").withColumn(\"diff\", abs($\"area1\" - $\"area2\")).orderBy(desc(\"diff\")).show(50, truncate = false)"
   ]
  },
  {
   "cell_type": "markdown",
   "metadata": {},
   "source": [
    "### Running some metrics to test similarity..."
   ]
  },
  {
   "cell_type": "code",
   "execution_count": 11,
   "metadata": {},
   "outputs": [
    {
     "data": {
      "text/plain": [
       "\u001b[36mreg\u001b[39m: \u001b[32mRegressionMetrics\u001b[39m = org.apache.spark.mllib.evaluation.RegressionMetrics@4cb72a64\n",
       "\u001b[36mres10_1\u001b[39m: \u001b[32mDouble\u001b[39m = \u001b[32m1.0\u001b[39m\n",
       "\u001b[36mres10_2\u001b[39m: \u001b[32mDouble\u001b[39m = \u001b[32m5.262230073287982E-22\u001b[39m\n",
       "\u001b[36mres10_3\u001b[39m: \u001b[32mDouble\u001b[39m = \u001b[32m1.9782160357652242E-40\u001b[39m\n",
       "\u001b[36mres10_4\u001b[39m: \u001b[32mDouble\u001b[39m = \u001b[32m1.4064906810090225E-20\u001b[39m"
      ]
     },
     "execution_count": 11,
     "metadata": {},
     "output_type": "execute_result"
    }
   ],
   "source": [
    "val reg = new RegressionMetrics(areas.map(a => (a._1._3, a._2._3)))\n",
    "reg.r2\n",
    "reg.meanAbsoluteError\n",
    "reg.meanSquaredError\n",
    "reg.rootMeanSquaredError"
   ]
  },
  {
   "cell_type": "code",
   "execution_count": null,
   "metadata": {},
   "outputs": [],
   "source": []
  }
 ],
 "metadata": {
  "kernelspec": {
   "display_name": "Scala",
   "language": "scala",
   "name": "scala"
  },
  "language_info": {
   "codemirror_mode": "text/x-scala",
   "file_extension": ".scala",
   "mimetype": "text/x-scala",
   "name": "scala",
   "nbconvert_exporter": "script",
   "version": "2.11.12"
  }
 },
 "nbformat": 4,
 "nbformat_minor": 2
}
