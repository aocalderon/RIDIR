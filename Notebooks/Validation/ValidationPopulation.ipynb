{
 "cells": [
  {
   "cell_type": "code",
   "execution_count": 1,
   "metadata": {},
   "outputs": [
    {
     "name": "stdout",
     "output_type": "stream",
     "text": [
      "Loading spark-stubs\n",
      "Creating SparkSession\n"
     ]
    },
    {
     "name": "stderr",
     "output_type": "stream",
     "text": [
      "Using Spark's default log4j profile: org/apache/spark/log4j-defaults.properties\n"
     ]
    },
    {
     "data": {
      "text/plain": [
       "\u001b[32mimport \u001b[39m\u001b[36m$ivy.$                                   // Or use any other 2.x version here\n",
       "\u001b[39m\n",
       "\u001b[32mimport \u001b[39m\u001b[36m$ivy.$                                    \n",
       "\u001b[39m\n",
       "\u001b[32mimport \u001b[39m\u001b[36m$ivy.$                                \n",
       "\u001b[39m\n",
       "\u001b[32mimport \u001b[39m\u001b[36m$ivy.$                              \n",
       "\n",
       "\u001b[39m\n",
       "\u001b[32mimport \u001b[39m\u001b[36morg.apache.spark.serializer.KryoSerializer\n",
       "\u001b[39m\n",
       "\u001b[32mimport \u001b[39m\u001b[36morg.apache.spark.storage.StorageLevel\n",
       "\u001b[39m\n",
       "\u001b[32mimport \u001b[39m\u001b[36morg.apache.spark.mllib.evaluation.RegressionMetrics\n",
       "\u001b[39m\n",
       "\u001b[32mimport \u001b[39m\u001b[36morg.apache.spark.rdd.RDD\n",
       "\u001b[39m\n",
       "\u001b[32mimport \u001b[39m\u001b[36morg.datasyslab.geospark.enums.{GridType, IndexType}\n",
       "\u001b[39m\n",
       "\u001b[32mimport \u001b[39m\u001b[36morg.datasyslab.geospark.spatialOperator.JoinQuery\n",
       "\u001b[39m\n",
       "\u001b[32mimport \u001b[39m\u001b[36morg.datasyslab.geospark.formatMapper.shapefileParser.ShapefileReader\n",
       "\u001b[39m\n",
       "\u001b[32mimport \u001b[39m\u001b[36mscala.collection.JavaConverters._\n",
       "\u001b[39m\n",
       "\u001b[32mimport \u001b[39m\u001b[36mjava.io._\n",
       "\u001b[39m\n",
       "\u001b[32mimport \u001b[39m\u001b[36morg.apache.log4j.{Level, Logger}\n",
       "\u001b[39m\n",
       "\u001b[32mimport \u001b[39m\u001b[36morg.apache.spark.sql._\n",
       "\n",
       "\u001b[39m\n",
       "\u001b[36mspark\u001b[39m: \u001b[32mSparkSession\u001b[39m = org.apache.spark.sql.SparkSession@21f44971\n",
       "\u001b[32mimport \u001b[39m\u001b[36mspark.implicits._\n",
       "\u001b[39m\n",
       "\u001b[36mappID\u001b[39m: \u001b[32mString\u001b[39m = \u001b[32m\"local-1557944794618\"\u001b[39m"
      ]
     },
     "execution_count": 1,
     "metadata": {},
     "output_type": "execute_result"
    }
   ],
   "source": [
    "import $ivy.`org.apache.spark::spark-sql:2.4.0` // Or use any other 2.x version here\n",
    "import $ivy.`org.apache.spark::spark-mllib:2.4.0`\n",
    "import $ivy.`sh.almond::ammonite-spark:0.4.0`\n",
    "import $ivy.`org.datasyslab:geospark:1.2.0`\n",
    "\n",
    "import org.apache.spark.serializer.KryoSerializer\n",
    "import org.apache.spark.storage.StorageLevel\n",
    "import org.apache.spark.mllib.evaluation.RegressionMetrics\n",
    "import org.apache.spark.rdd.RDD\n",
    "import org.datasyslab.geospark.enums.{GridType, IndexType}\n",
    "import org.datasyslab.geospark.spatialOperator.JoinQuery\n",
    "import org.datasyslab.geospark.formatMapper.shapefileParser.ShapefileReader\n",
    "import scala.collection.JavaConverters._\n",
    "import java.io._\n",
    "import org.apache.log4j.{Level, Logger}\n",
    "Logger.getLogger(\"org\").setLevel(Level.OFF)\n",
    "\n",
    "import org.apache.spark.sql._\n",
    "\n",
    "val spark = AmmoniteSparkSession.builder()\n",
    "    .master(\"local[*]\").appName(\"Validator\")\n",
    "    .getOrCreate()\n",
    "import spark.implicits._\n",
    "val appID = spark.sparkContext.applicationId"
   ]
  },
  {
   "cell_type": "markdown",
   "metadata": {},
   "source": [
    "### Collecting datasets...\n",
    "Polygons from several states were collected for both source and target in WKT format. They are available at: https://github.com/aocalderon/RIDIR/tree/master/Datasets/AreaInterpolateValidation."
   ]
  },
  {
   "cell_type": "code",
   "execution_count": 2,
   "metadata": {},
   "outputs": [
    {
     "name": "stdout",
     "output_type": "stream",
     "text": [
      "-rw-rw-r-- 1 acald013 acald013  14M May  8 18:47 CA_source.wkt\n",
      "-rw-rw-r-- 1 acald013 acald013  18M May  8 18:47 CA_target.wkt\n",
      "-rw-rw-r-- 1 acald013 acald013 1.3M May  8 12:00 MD_source.wkt\n",
      "-rw-rw-r-- 1 acald013 acald013 1.6M May  8 12:00 MD_target.wkt\n",
      "-rw-rw-r-- 1 acald013 acald013 2.3M May  8 18:34 NY_source.wkt\n",
      "-rw-rw-r-- 1 acald013 acald013 4.5M May  8 18:34 NY_target.wkt\n",
      "-rw-rw-r-- 1 acald013 acald013 4.6M May  8 19:24 PA_source.wkt\n",
      "-rw-rw-r-- 1 acald013 acald013 7.4M May  8 19:24 PA_target.wkt\n",
      "-rw-rw-r-- 1 acald013 acald013  12M May 11 19:17 TX_source.wkt\n",
      "-rw-rw-r-- 1 acald013 acald013  20M May 11 19:17 TX_target.wkt\n"
     ]
    },
    {
     "data": {
      "text/plain": [
       "\u001b[32mimport \u001b[39m\u001b[36msys.process._\n",
       "\n",
       "\u001b[39m\n",
       "\u001b[36mpath\u001b[39m: \u001b[32mString\u001b[39m = \u001b[32m\"/home/acald013/RIDIR/Datasets/AreaInterpolateValidation\"\u001b[39m\n",
       "\u001b[36mres1_2\u001b[39m: \u001b[32mInt\u001b[39m = \u001b[32m0\u001b[39m"
      ]
     },
     "execution_count": 2,
     "metadata": {},
     "output_type": "execute_result"
    }
   ],
   "source": [
    "import sys.process._\n",
    "\n",
    "val path = \"/home/acald013/RIDIR/Datasets/AreaInterpolateValidation\"\n",
    "s\"ls -lah ${path}\" #| \"grep wkt\" !"
   ]
  },
  {
   "cell_type": "markdown",
   "metadata": {},
   "source": [
    "For each set of source & target, we run the corresponding script:\n",
    "\n",
    "* For GeoPandas implementation: https://github.com/aocalderon/RIDIR/blob/master/Code/Validation/GeoPandas_interpolate_table_tester.py\n",
    "* For GeoSpark implementation: https://github.com/aocalderon/RIDIR/blob/master/Code/Areal/src/main/scala/GeoSpark_area_interpolate_tester.scala\n",
    "\n",
    "Each script save the results to disk for further analysis (files are also available in the same repo)."
   ]
  },
  {
   "cell_type": "code",
   "execution_count": 3,
   "metadata": {},
   "outputs": [
    {
     "name": "stdout",
     "output_type": "stream",
     "text": [
      "-rw-rw-r-- 1 acald013 acald013 105K May  8 19:01 CA_geopandas_test.tsv\n",
      "-rw-rw-r-- 1 acald013 acald013 105K May  8 18:49 CA_geospark_test.tsv\n",
      "-rw-rw-r-- 1 acald013 acald013  13K May  8 17:13 MD_geopandas_test.tsv\n",
      "-rw-rw-r-- 1 acald013 acald013  13K May  8 17:05 MD_geospark_test.tsv\n",
      "-rw-rw-r-- 1 acald013 acald013 290K May 11 18:15 NY_geopandas_test.tsv\n",
      "-rw-rw-r-- 1 acald013 acald013 283K May 11 18:14 NY_geospark_test.tsv\n",
      "-rw-rw-r-- 1 acald013 acald013  37K May  8 19:30 PA_geopandas_test.tsv\n",
      "-rw-rw-r-- 1 acald013 acald013  37K May  8 19:26 PA_geospark_test.tsv\n"
     ]
    },
    {
     "data": {
      "text/plain": [
       "\u001b[36mpath\u001b[39m: \u001b[32mString\u001b[39m = \u001b[32m\"/home/acald013/RIDIR/Datasets/AreaInterpolateValidation\"\u001b[39m\n",
       "\u001b[36mres2_1\u001b[39m: \u001b[32mInt\u001b[39m = \u001b[32m0\u001b[39m"
      ]
     },
     "execution_count": 3,
     "metadata": {},
     "output_type": "execute_result"
    }
   ],
   "source": [
    "val path = \"/home/acald013/RIDIR/Datasets/AreaInterpolateValidation\"\n",
    "s\"ls -lah ${path}\" #| \"grep tsv\" !"
   ]
  },
  {
   "cell_type": "markdown",
   "metadata": {},
   "source": [
    "### Set a particular state to run the validation..."
   ]
  },
  {
   "cell_type": "code",
   "execution_count": 4,
   "metadata": {},
   "outputs": [
    {
     "data": {
      "text/plain": [
       "\u001b[36mstate\u001b[39m: \u001b[32mString\u001b[39m = \u001b[32m\"TX\"\u001b[39m"
      ]
     },
     "execution_count": 4,
     "metadata": {},
     "output_type": "execute_result"
    }
   ],
   "source": [
    "val state = \"TX\""
   ]
  },
  {
   "cell_type": "markdown",
   "metadata": {},
   "source": [
    "### Reading results from geopandas implementation..."
   ]
  },
  {
   "cell_type": "code",
   "execution_count": 6,
   "metadata": {},
   "outputs": [
    {
     "ename": "",
     "evalue": "",
     "output_type": "error",
     "traceback": [
      "\u001b[31morg.apache.spark.SparkException: Job aborted due to stage failure: Task 0 in stage 0.0 failed 1 times, most recent failure: Lost task 0.0 in stage 0.0 (TID 0, localhost, executor driver): java.io.IOException: No space left on device\n\tat java.io.FileOutputStream.writeBytes(Native Method)\n\tat java.io.FileOutputStream.write(FileOutputStream.java:326)\n\tat org.apache.spark.util.Utils$$anonfun$copyStream$1.apply$mcJ$sp(Utils.scala:363)\n\tat org.apache.spark.util.Utils$$anonfun$copyStream$1.apply(Utils.scala:348)\n\tat org.apache.spark.util.Utils$$anonfun$copyStream$1.apply(Utils.scala:348)\n\tat org.apache.spark.util.Utils$.tryWithSafeFinally(Utils.scala:1360)\n\tat org.apache.spark.util.Utils$.copyStream(Utils.scala:369)\n\tat org.apache.spark.util.Utils$.downloadFile(Utils.scala:565)\n\tat org.apache.spark.util.Utils$.doFetchFile(Utils.scala:695)\n\tat org.apache.spark.util.Utils$.fetchFile(Utils.scala:509)\n\tat org.apache.spark.executor.Executor$$anonfun$org$apache$spark$executor$Executor$$updateDependencies$5.apply(Executor.scala:805)\n\tat org.apache.spark.executor.Executor$$anonfun$org$apache$spark$executor$Executor$$updateDependencies$5.apply(Executor.scala:797)\n\tat scala.collection.TraversableLike$WithFilter$$anonfun$foreach$1.apply(TraversableLike.scala:733)\n\tat scala.collection.mutable.HashMap$$anonfun$foreach$1.apply(HashMap.scala:130)\n\tat scala.collection.mutable.HashMap$$anonfun$foreach$1.apply(HashMap.scala:130)\n\tat scala.collection.mutable.HashTable$class.foreachEntry(HashTable.scala:236)\n\tat scala.collection.mutable.HashMap.foreachEntry(HashMap.scala:40)\n\tat scala.collection.mutable.HashMap.foreach(HashMap.scala:130)\n\tat scala.collection.TraversableLike$WithFilter.foreach(TraversableLike.scala:732)\n\tat org.apache.spark.executor.Executor.org$apache$spark$executor$Executor$$updateDependencies(Executor.scala:797)\n\tat org.apache.spark.executor.Executor$TaskRunner.run(Executor.scala:369)\n\tat java.util.concurrent.ThreadPoolExecutor.runWorker(ThreadPoolExecutor.java:1149)\n\tat java.util.concurrent.ThreadPoolExecutor$Worker.run(ThreadPoolExecutor.java:624)\n\tat java.lang.Thread.run(Thread.java:748)\n\nDriver stacktrace:\u001b[39m\n  org.apache.spark.scheduler.DAGScheduler.org$apache$spark$scheduler$DAGScheduler$$failJobAndIndependentStages(\u001b[32mDAGScheduler.scala\u001b[39m:\u001b[32m1887\u001b[39m)\n  org.apache.spark.scheduler.DAGScheduler$$anonfun$abortStage$1.apply(\u001b[32mDAGScheduler.scala\u001b[39m:\u001b[32m1875\u001b[39m)\n  org.apache.spark.scheduler.DAGScheduler$$anonfun$abortStage$1.apply(\u001b[32mDAGScheduler.scala\u001b[39m:\u001b[32m1874\u001b[39m)\n  scala.collection.mutable.ResizableArray$class.foreach(\u001b[32mResizableArray.scala\u001b[39m:\u001b[32m59\u001b[39m)\n  scala.collection.mutable.ArrayBuffer.foreach(\u001b[32mArrayBuffer.scala\u001b[39m:\u001b[32m48\u001b[39m)\n  org.apache.spark.scheduler.DAGScheduler.abortStage(\u001b[32mDAGScheduler.scala\u001b[39m:\u001b[32m1874\u001b[39m)\n  org.apache.spark.scheduler.DAGScheduler$$anonfun$handleTaskSetFailed$1.apply(\u001b[32mDAGScheduler.scala\u001b[39m:\u001b[32m926\u001b[39m)\n  org.apache.spark.scheduler.DAGScheduler$$anonfun$handleTaskSetFailed$1.apply(\u001b[32mDAGScheduler.scala\u001b[39m:\u001b[32m926\u001b[39m)\n  scala.Option.foreach(\u001b[32mOption.scala\u001b[39m:\u001b[32m257\u001b[39m)\n  org.apache.spark.scheduler.DAGScheduler.handleTaskSetFailed(\u001b[32mDAGScheduler.scala\u001b[39m:\u001b[32m926\u001b[39m)\n  org.apache.spark.scheduler.DAGSchedulerEventProcessLoop.doOnReceive(\u001b[32mDAGScheduler.scala\u001b[39m:\u001b[32m2108\u001b[39m)\n  org.apache.spark.scheduler.DAGSchedulerEventProcessLoop.onReceive(\u001b[32mDAGScheduler.scala\u001b[39m:\u001b[32m2057\u001b[39m)\n  org.apache.spark.scheduler.DAGSchedulerEventProcessLoop.onReceive(\u001b[32mDAGScheduler.scala\u001b[39m:\u001b[32m2046\u001b[39m)\n  org.apache.spark.util.EventLoop$$anon$1.run(\u001b[32mEventLoop.scala\u001b[39m:\u001b[32m49\u001b[39m)\n  org.apache.spark.scheduler.DAGScheduler.runJob(\u001b[32mDAGScheduler.scala\u001b[39m:\u001b[32m737\u001b[39m)\n  org.apache.spark.SparkContext.runJob(\u001b[32mSparkContext.scala\u001b[39m:\u001b[32m2061\u001b[39m)\n  org.apache.spark.SparkContext.runJob(\u001b[32mSparkContext.scala\u001b[39m:\u001b[32m2082\u001b[39m)\n  org.apache.spark.SparkContext.runJob(\u001b[32mSparkContext.scala\u001b[39m:\u001b[32m2101\u001b[39m)\n  org.apache.spark.sql.execution.SparkPlan.executeTake(\u001b[32mSparkPlan.scala\u001b[39m:\u001b[32m365\u001b[39m)\n  org.apache.spark.sql.execution.CollectLimitExec.executeCollect(\u001b[32mlimit.scala\u001b[39m:\u001b[32m38\u001b[39m)\n  org.apache.spark.sql.Dataset.org$apache$spark$sql$Dataset$$collectFromPlan(\u001b[32mDataset.scala\u001b[39m:\u001b[32m3384\u001b[39m)\n  org.apache.spark.sql.Dataset$$anonfun$head$1.apply(\u001b[32mDataset.scala\u001b[39m:\u001b[32m2545\u001b[39m)\n  org.apache.spark.sql.Dataset$$anonfun$head$1.apply(\u001b[32mDataset.scala\u001b[39m:\u001b[32m2545\u001b[39m)\n  org.apache.spark.sql.Dataset$$anonfun$53.apply(\u001b[32mDataset.scala\u001b[39m:\u001b[32m3365\u001b[39m)\n  org.apache.spark.sql.execution.SQLExecution$$anonfun$withNewExecutionId$1.apply(\u001b[32mSQLExecution.scala\u001b[39m:\u001b[32m78\u001b[39m)\n  org.apache.spark.sql.execution.SQLExecution$.withSQLConfPropagated(\u001b[32mSQLExecution.scala\u001b[39m:\u001b[32m125\u001b[39m)\n  org.apache.spark.sql.execution.SQLExecution$.withNewExecutionId(\u001b[32mSQLExecution.scala\u001b[39m:\u001b[32m73\u001b[39m)\n  org.apache.spark.sql.Dataset.withAction(\u001b[32mDataset.scala\u001b[39m:\u001b[32m3364\u001b[39m)\n  org.apache.spark.sql.Dataset.head(\u001b[32mDataset.scala\u001b[39m:\u001b[32m2545\u001b[39m)\n  org.apache.spark.sql.Dataset.take(\u001b[32mDataset.scala\u001b[39m:\u001b[32m2759\u001b[39m)\n  org.apache.spark.sql.execution.datasources.csv.TextInputCSVDataSource$.infer(\u001b[32mCSVDataSource.scala\u001b[39m:\u001b[32m232\u001b[39m)\n  org.apache.spark.sql.execution.datasources.csv.CSVDataSource.inferSchema(\u001b[32mCSVDataSource.scala\u001b[39m:\u001b[32m68\u001b[39m)\n  org.apache.spark.sql.execution.datasources.csv.CSVFileFormat.inferSchema(\u001b[32mCSVFileFormat.scala\u001b[39m:\u001b[32m63\u001b[39m)\n  org.apache.spark.sql.execution.datasources.DataSource$$anonfun$6.apply(\u001b[32mDataSource.scala\u001b[39m:\u001b[32m180\u001b[39m)\n  org.apache.spark.sql.execution.datasources.DataSource$$anonfun$6.apply(\u001b[32mDataSource.scala\u001b[39m:\u001b[32m180\u001b[39m)\n  scala.Option.orElse(\u001b[32mOption.scala\u001b[39m:\u001b[32m289\u001b[39m)\n  org.apache.spark.sql.execution.datasources.DataSource.getOrInferFileFormatSchema(\u001b[32mDataSource.scala\u001b[39m:\u001b[32m179\u001b[39m)\n  org.apache.spark.sql.execution.datasources.DataSource.resolveRelation(\u001b[32mDataSource.scala\u001b[39m:\u001b[32m373\u001b[39m)\n  org.apache.spark.sql.DataFrameReader.loadV1Source(\u001b[32mDataFrameReader.scala\u001b[39m:\u001b[32m223\u001b[39m)\n  org.apache.spark.sql.DataFrameReader.load(\u001b[32mDataFrameReader.scala\u001b[39m:\u001b[32m211\u001b[39m)\n  org.apache.spark.sql.DataFrameReader.csv(\u001b[32mDataFrameReader.scala\u001b[39m:\u001b[32m617\u001b[39m)\n  org.apache.spark.sql.DataFrameReader.csv(\u001b[32mDataFrameReader.scala\u001b[39m:\u001b[32m468\u001b[39m)\n  ammonite.$sess.cmd5$Helper.<init>(\u001b[32mcmd5.sc\u001b[39m:\u001b[32m1\u001b[39m)\n  ammonite.$sess.cmd5$.<init>(\u001b[32mcmd5.sc\u001b[39m:\u001b[32m7\u001b[39m)\n  ammonite.$sess.cmd5$.<clinit>(\u001b[32mcmd5.sc\u001b[39m:\u001b[32m-1\u001b[39m)\n\u001b[31mjava.io.IOException: No space left on device\u001b[39m\n  java.io.FileOutputStream.writeBytes(\u001b[32mNative Method\u001b[39m)\n  java.io.FileOutputStream.write(\u001b[32mFileOutputStream.java\u001b[39m:\u001b[32m326\u001b[39m)\n  org.apache.spark.util.Utils$$anonfun$copyStream$1.apply$mcJ$sp(\u001b[32mUtils.scala\u001b[39m:\u001b[32m363\u001b[39m)\n  org.apache.spark.util.Utils$$anonfun$copyStream$1.apply(\u001b[32mUtils.scala\u001b[39m:\u001b[32m348\u001b[39m)\n  org.apache.spark.util.Utils$$anonfun$copyStream$1.apply(\u001b[32mUtils.scala\u001b[39m:\u001b[32m348\u001b[39m)\n  org.apache.spark.util.Utils$.tryWithSafeFinally(\u001b[32mUtils.scala\u001b[39m:\u001b[32m1360\u001b[39m)\n  org.apache.spark.util.Utils$.copyStream(\u001b[32mUtils.scala\u001b[39m:\u001b[32m369\u001b[39m)\n  org.apache.spark.util.Utils$.downloadFile(\u001b[32mUtils.scala\u001b[39m:\u001b[32m565\u001b[39m)\n  org.apache.spark.util.Utils$.doFetchFile(\u001b[32mUtils.scala\u001b[39m:\u001b[32m695\u001b[39m)\n  org.apache.spark.util.Utils$.fetchFile(\u001b[32mUtils.scala\u001b[39m:\u001b[32m509\u001b[39m)\n  org.apache.spark.executor.Executor$$anonfun$org$apache$spark$executor$Executor$$updateDependencies$5.apply(\u001b[32mExecutor.scala\u001b[39m:\u001b[32m805\u001b[39m)\n  org.apache.spark.executor.Executor$$anonfun$org$apache$spark$executor$Executor$$updateDependencies$5.apply(\u001b[32mExecutor.scala\u001b[39m:\u001b[32m797\u001b[39m)\n  scala.collection.TraversableLike$WithFilter$$anonfun$foreach$1.apply(\u001b[32mTraversableLike.scala\u001b[39m:\u001b[32m733\u001b[39m)\n  scala.collection.mutable.HashMap$$anonfun$foreach$1.apply(\u001b[32mHashMap.scala\u001b[39m:\u001b[32m130\u001b[39m)\n  scala.collection.mutable.HashMap$$anonfun$foreach$1.apply(\u001b[32mHashMap.scala\u001b[39m:\u001b[32m130\u001b[39m)\n  scala.collection.mutable.HashTable$class.foreachEntry(\u001b[32mHashTable.scala\u001b[39m:\u001b[32m236\u001b[39m)\n  scala.collection.mutable.HashMap.foreachEntry(\u001b[32mHashMap.scala\u001b[39m:\u001b[32m40\u001b[39m)\n  scala.collection.mutable.HashMap.foreach(\u001b[32mHashMap.scala\u001b[39m:\u001b[32m130\u001b[39m)\n  scala.collection.TraversableLike$WithFilter.foreach(\u001b[32mTraversableLike.scala\u001b[39m:\u001b[32m732\u001b[39m)\n  org.apache.spark.executor.Executor.org$apache$spark$executor$Executor$$updateDependencies(\u001b[32mExecutor.scala\u001b[39m:\u001b[32m797\u001b[39m)\n  org.apache.spark.executor.Executor$TaskRunner.run(\u001b[32mExecutor.scala\u001b[39m:\u001b[32m369\u001b[39m)\n  java.util.concurrent.ThreadPoolExecutor.runWorker(\u001b[32mThreadPoolExecutor.java\u001b[39m:\u001b[32m1149\u001b[39m)\n  java.util.concurrent.ThreadPoolExecutor$Worker.run(\u001b[32mThreadPoolExecutor.java\u001b[39m:\u001b[32m624\u001b[39m)\n  java.lang.Thread.run(\u001b[32mThread.java\u001b[39m:\u001b[32m748\u001b[39m)"
     ]
    }
   ],
   "source": [
    "val geopandas = spark.read.option(\"header\", \"false\").option(\"delimiter\", \"\\t\").csv(s\"${path}/${state}_geopandas_test.tsv\")\n",
    "    .repartition(1).toDF(\"pandas\").orderBy(\"pandas\")\n",
    "geopandas.show()\n",
    "geopandas.count()"
   ]
  },
  {
   "cell_type": "markdown",
   "metadata": {},
   "source": [
    "### Reading results from geospark implementation..."
   ]
  },
  {
   "cell_type": "code",
   "execution_count": null,
   "metadata": {},
   "outputs": [],
   "source": [
    "val geospark = spark.read.option(\"header\", \"false\").option(\"delimiter\", \"\\t\").csv(s\"${path}/${state}_geospark_test.tsv\")\n",
    "    .repartition(1).toDF(\"spark\").orderBy(\"spark\")\n",
    "geospark.show()\n",
    "geospark.count()"
   ]
  },
  {
   "cell_type": "markdown",
   "metadata": {},
   "source": [
    "### Merging both result sets..."
   ]
  },
  {
   "cell_type": "code",
   "execution_count": null,
   "metadata": {},
   "outputs": [],
   "source": [
    "val popPandas = geopandas.rdd.map(_.getString(0).toDouble).sortBy(f => f)\n",
    "val popSpark  = geospark.rdd.map(_.getString(0).toDouble).sortBy(f => f)\n",
    "\n",
    "import org.apache.spark.sql.functions._\n",
    "val pops = popPandas.zip(popSpark)\n",
    "\n",
    "pops.toDF(\"pandas\", \"spark\")\n",
    "    .withColumn(\"diff\", abs($\"pandas\" - $\"spark\"))\n",
    "    .orderBy(desc(\"diff\"))\n",
    "    .show(50, truncate = false)"
   ]
  },
  {
   "cell_type": "markdown",
   "metadata": {},
   "source": [
    "### Running some metrics to test similarity..."
   ]
  },
  {
   "cell_type": "code",
   "execution_count": null,
   "metadata": {},
   "outputs": [],
   "source": [
    "val reg = new RegressionMetrics(pops)\n",
    "println(s\"R\\u00B2:   ${reg.r2}\")\n",
    "println(s\"MAE:  ${reg.meanAbsoluteError}\")\n",
    "println(s\"MSE:  ${reg.meanSquaredError}\")\n",
    "println(s\"RMSE: ${reg.rootMeanSquaredError}\")"
   ]
  },
  {
   "cell_type": "code",
   "execution_count": null,
   "metadata": {},
   "outputs": [],
   "source": [
    "pops"
   ]
  },
  {
   "cell_type": "code",
   "execution_count": null,
   "metadata": {},
   "outputs": [],
   "source": []
  }
 ],
 "metadata": {
  "kernelspec": {
   "display_name": "Scala",
   "language": "scala",
   "name": "scala"
  },
  "language_info": {
   "codemirror_mode": "text/x-scala",
   "file_extension": ".scala",
   "mimetype": "text/x-scala",
   "name": "scala",
   "nbconvert_exporter": "script",
   "version": "2.11.12"
  }
 },
 "nbformat": 4,
 "nbformat_minor": 2
}
