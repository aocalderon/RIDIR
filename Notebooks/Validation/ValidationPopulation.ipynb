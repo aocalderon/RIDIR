{
 "cells": [
  {
   "cell_type": "code",
   "execution_count": 80,
   "metadata": {},
   "outputs": [
    {
     "name": "stdout",
     "output_type": "stream",
     "text": [
      "Creating SparkSession\n"
     ]
    },
    {
     "data": {
      "text/plain": [
       "\u001b[32mimport \u001b[39m\u001b[36m$ivy.$                                   // Or use any other 2.x version here\n",
       "\u001b[39m\n",
       "\u001b[32mimport \u001b[39m\u001b[36m$ivy.$                                    \n",
       "\u001b[39m\n",
       "\u001b[32mimport \u001b[39m\u001b[36m$ivy.$                                \n",
       "\u001b[39m\n",
       "\u001b[32mimport \u001b[39m\u001b[36m$ivy.$                              \n",
       "\n",
       "\u001b[39m\n",
       "\u001b[32mimport \u001b[39m\u001b[36morg.apache.spark.serializer.KryoSerializer\n",
       "\u001b[39m\n",
       "\u001b[32mimport \u001b[39m\u001b[36morg.apache.spark.storage.StorageLevel\n",
       "\u001b[39m\n",
       "\u001b[32mimport \u001b[39m\u001b[36morg.apache.spark.mllib.evaluation.RegressionMetrics\n",
       "\u001b[39m\n",
       "\u001b[32mimport \u001b[39m\u001b[36morg.apache.spark.rdd.RDD\n",
       "\u001b[39m\n",
       "\u001b[32mimport \u001b[39m\u001b[36morg.datasyslab.geospark.enums.{GridType, IndexType}\n",
       "\u001b[39m\n",
       "\u001b[32mimport \u001b[39m\u001b[36morg.datasyslab.geospark.spatialOperator.JoinQuery\n",
       "\u001b[39m\n",
       "\u001b[32mimport \u001b[39m\u001b[36morg.datasyslab.geospark.formatMapper.shapefileParser.ShapefileReader\n",
       "\u001b[39m\n",
       "\u001b[32mimport \u001b[39m\u001b[36mscala.collection.JavaConverters._\n",
       "\u001b[39m\n",
       "\u001b[32mimport \u001b[39m\u001b[36mjava.io._\n",
       "\u001b[39m\n",
       "\u001b[32mimport \u001b[39m\u001b[36morg.apache.log4j.{Level, Logger}\n",
       "\u001b[39m\n",
       "\u001b[32mimport \u001b[39m\u001b[36morg.apache.spark.sql._\n",
       "\n",
       "\u001b[39m\n",
       "\u001b[36mspark\u001b[39m: \u001b[32mSparkSession\u001b[39m = org.apache.spark.sql.SparkSession@3832e54c\n",
       "\u001b[32mimport \u001b[39m\u001b[36mspark.implicits._\n",
       "\u001b[39m\n",
       "\u001b[36mappID\u001b[39m: \u001b[32mString\u001b[39m = \u001b[32m\"local-1557362230978\"\u001b[39m"
      ]
     },
     "execution_count": 80,
     "metadata": {},
     "output_type": "execute_result"
    }
   ],
   "source": [
    "import $ivy.`org.apache.spark::spark-sql:2.4.0` // Or use any other 2.x version here\n",
    "import $ivy.`org.apache.spark::spark-mllib:2.4.0`\n",
    "import $ivy.`sh.almond::ammonite-spark:0.4.0`\n",
    "import $ivy.`org.datasyslab:geospark:1.2.0`\n",
    "\n",
    "import org.apache.spark.serializer.KryoSerializer\n",
    "import org.apache.spark.storage.StorageLevel\n",
    "import org.apache.spark.mllib.evaluation.RegressionMetrics\n",
    "import org.apache.spark.rdd.RDD\n",
    "import org.datasyslab.geospark.enums.{GridType, IndexType}\n",
    "import org.datasyslab.geospark.spatialOperator.JoinQuery\n",
    "import org.datasyslab.geospark.formatMapper.shapefileParser.ShapefileReader\n",
    "import scala.collection.JavaConverters._\n",
    "import java.io._\n",
    "import org.apache.log4j.{Level, Logger}\n",
    "Logger.getLogger(\"org\").setLevel(Level.OFF)\n",
    "\n",
    "import org.apache.spark.sql._\n",
    "\n",
    "val spark = AmmoniteSparkSession.builder()\n",
    "    .master(\"local[*]\").appName(\"Validator\")\n",
    "    .getOrCreate()\n",
    "import spark.implicits._\n",
    "val appID = spark.sparkContext.applicationId"
   ]
  },
  {
   "cell_type": "markdown",
   "metadata": {},
   "source": [
    "### Collecting datasets...\n",
    "Polygons from several states were collected for both source and target in WKT format. They are available at: https://github.com/aocalderon/RIDIR/tree/master/Datasets/AreaInterpolateValidation."
   ]
  },
  {
   "cell_type": "code",
   "execution_count": 81,
   "metadata": {},
   "outputs": [
    {
     "name": "stdout",
     "output_type": "stream",
     "text": [
      "-rw-rw-r-- 1 acald013 acald013  14M May  8 18:47 CA_source.wkt\n",
      "-rw-rw-r-- 1 acald013 acald013  18M May  8 18:47 CA_target.wkt\n",
      "-rw-rw-r-- 1 acald013 acald013 1.3M May  8 12:00 MD_source.wkt\n",
      "-rw-rw-r-- 1 acald013 acald013 1.6M May  8 12:00 MD_target.wkt\n",
      "-rw-rw-r-- 1 acald013 acald013 2.3M May  8 18:34 NY_source.wkt\n",
      "-rw-rw-r-- 1 acald013 acald013 4.5M May  8 18:34 NY_target.wkt\n",
      "-rw-rw-r-- 1 acald013 acald013 4.6M May  8 19:24 PA_source.wkt\n",
      "-rw-rw-r-- 1 acald013 acald013 7.4M May  8 19:24 PA_target.wkt\n",
      "-rw-rw-r-- 1 acald013 acald013  12M May  8 19:33 TX_source.wkt\n",
      "-rw-rw-r-- 1 acald013 acald013  20M May  8 19:33 TX_target.wkt\n"
     ]
    },
    {
     "data": {
      "text/plain": [
       "\u001b[32mimport \u001b[39m\u001b[36msys.process._\n",
       "\n",
       "\u001b[39m\n",
       "\u001b[36mpath\u001b[39m: \u001b[32mString\u001b[39m = \u001b[32m\"/home/acald013/RIDIR/Datasets/AreaInterpolateValidation\"\u001b[39m\n",
       "\u001b[36mres80_2\u001b[39m: \u001b[32mInt\u001b[39m = \u001b[32m0\u001b[39m"
      ]
     },
     "execution_count": 81,
     "metadata": {},
     "output_type": "execute_result"
    }
   ],
   "source": [
    "import sys.process._\n",
    "\n",
    "val path = \"/home/acald013/RIDIR/Datasets/AreaInterpolateValidation\"\n",
    "s\"ls -lah ${path}\" #| \"grep wkt\" !"
   ]
  },
  {
   "cell_type": "markdown",
   "metadata": {},
   "source": [
    "For each set of source & target, we run the corresponding script:\n",
    "\n",
    "* For GeoPandas implementation: https://github.com/aocalderon/RIDIR/blob/master/Code/Validation/GeoPandas_interpolate_table_tester.py\n",
    "* For GeoSpark implementation: https://github.com/aocalderon/RIDIR/blob/master/Code/Areal/src/main/scala/GeoSpark_area_interpolate_tester.scala\n",
    "\n",
    "Each script save the results to disk for further analysis (files are also available in the same repo)."
   ]
  },
  {
   "cell_type": "code",
   "execution_count": 82,
   "metadata": {},
   "outputs": [
    {
     "name": "stdout",
     "output_type": "stream",
     "text": [
      "-rw-rw-r-- 1 acald013 acald013 105K May  8 19:01 CA_geopandas_test.tsv\n",
      "-rw-rw-r-- 1 acald013 acald013 105K May  8 18:49 CA_geospark_test.tsv\n",
      "-rw-rw-r-- 1 acald013 acald013  13K May  8 17:13 MD_geopandas_test.tsv\n",
      "-rw-rw-r-- 1 acald013 acald013  13K May  8 17:05 MD_geospark_test.tsv\n",
      "-rw-rw-r-- 1 acald013 acald013  30K May  8 18:37 NY_geopandas_test.tsv\n",
      "-rw-rw-r-- 1 acald013 acald013  30K May  8 18:43 NY_geospark_test.tsv\n",
      "-rw-rw-r-- 1 acald013 acald013  37K May  8 19:30 PA_geopandas_test.tsv\n",
      "-rw-rw-r-- 1 acald013 acald013  37K May  8 19:26 PA_geospark_test.tsv\n",
      "-rw-rw-r-- 1 acald013 acald013  69K May  8 19:44 TX_geopandas_test.tsv\n",
      "-rw-rw-r-- 1 acald013 acald013  69K May  8 19:35 TX_geospark_test.tsv\n"
     ]
    },
    {
     "data": {
      "text/plain": [
       "\u001b[36mpath\u001b[39m: \u001b[32mString\u001b[39m = \u001b[32m\"/home/acald013/RIDIR/Datasets/AreaInterpolateValidation\"\u001b[39m\n",
       "\u001b[36mres81_1\u001b[39m: \u001b[32mInt\u001b[39m = \u001b[32m0\u001b[39m"
      ]
     },
     "execution_count": 82,
     "metadata": {},
     "output_type": "execute_result"
    }
   ],
   "source": [
    "val path = \"/home/acald013/RIDIR/Datasets/AreaInterpolateValidation\"\n",
    "s\"ls -lah ${path}\" #| \"grep tsv\" !"
   ]
  },
  {
   "cell_type": "markdown",
   "metadata": {},
   "source": [
    "### Set a particular state to run the validation..."
   ]
  },
  {
   "cell_type": "code",
   "execution_count": 83,
   "metadata": {},
   "outputs": [
    {
     "data": {
      "text/plain": [
       "\u001b[36mstate\u001b[39m: \u001b[32mString\u001b[39m = \u001b[32m\"TX\"\u001b[39m"
      ]
     },
     "execution_count": 83,
     "metadata": {},
     "output_type": "execute_result"
    }
   ],
   "source": [
    "val state = \"TX\""
   ]
  },
  {
   "cell_type": "markdown",
   "metadata": {},
   "source": [
    "### Reading results from geopandas implementation..."
   ]
  },
  {
   "cell_type": "code",
   "execution_count": 84,
   "metadata": {},
   "outputs": [
    {
     "name": "stdout",
     "output_type": "stream",
     "text": [
      "+--------------------+\n",
      "|              pandas|\n",
      "+--------------------+\n",
      "|0.000476079421227...|\n",
      "|0.000563932359796...|\n",
      "|0.000896799723312...|\n",
      "|0.001385847179852...|\n",
      "|0.001410064041914...|\n",
      "|0.001533656258423...|\n",
      "|0.002412955666533...|\n",
      "|0.002422142098462...|\n",
      "|0.002456665434444205|\n",
      "|0.002610379311994...|\n",
      "|0.005572083978785185|\n",
      "|0.006011155024625339|\n",
      "|0.010913706279911804|\n",
      "| 0.01324190605209407|\n",
      "| 0.01346655366362276|\n",
      "|0.014593566667149829|\n",
      "|0.015896933429055075|\n",
      "|0.020840455733341787|\n",
      "|0.021429709116567837|\n",
      "|0.022633093861060563|\n",
      "+--------------------+\n",
      "only showing top 20 rows\n",
      "\n"
     ]
    },
    {
     "data": {
      "text/plain": [
       "\u001b[36mgeopandas\u001b[39m: \u001b[32mDataset\u001b[39m[\u001b[32mRow\u001b[39m] = [pandas: string]\n",
       "\u001b[36mres83_2\u001b[39m: \u001b[32mLong\u001b[39m = \u001b[32m3816L\u001b[39m"
      ]
     },
     "execution_count": 84,
     "metadata": {},
     "output_type": "execute_result"
    }
   ],
   "source": [
    "val geopandas = spark.read.option(\"header\", \"false\").option(\"delimiter\", \"\\t\").csv(s\"${path}/${state}_geopandas_test.tsv\")\n",
    "    .repartition(1).toDF(\"pandas\").orderBy(\"pandas\")\n",
    "geopandas.show()\n",
    "geopandas.count()"
   ]
  },
  {
   "cell_type": "markdown",
   "metadata": {},
   "source": [
    "### Reading results from geospark implementation..."
   ]
  },
  {
   "cell_type": "code",
   "execution_count": 85,
   "metadata": {},
   "outputs": [
    {
     "name": "stdout",
     "output_type": "stream",
     "text": [
      "+--------------------+\n",
      "|               spark|\n",
      "+--------------------+\n",
      "|0.001385847179852...|\n",
      "|0.001410064041914...|\n",
      "|0.001533656258423...|\n",
      "|0.002412955666533939|\n",
      "|0.002422139852092...|\n",
      "|0.002456665434444...|\n",
      "|0.002610379311994...|\n",
      "|0.005566232568193...|\n",
      "|0.006011155024625326|\n",
      "|0.010913706279911806|\n",
      "|0.013241906052094026|\n",
      "|0.013474764977294182|\n",
      "| 0.01459356666714996|\n",
      "|0.015902872572923107|\n",
      "| 0.02084045573334167|\n",
      "|0.021429709116568343|\n",
      "|0.022633093861060955|\n",
      "|0.024338736848408732|\n",
      "|0.024918913495777243|\n",
      "|  0.0278524967657295|\n",
      "+--------------------+\n",
      "only showing top 20 rows\n",
      "\n"
     ]
    },
    {
     "data": {
      "text/plain": [
       "\u001b[36mgeospark\u001b[39m: \u001b[32mDataset\u001b[39m[\u001b[32mRow\u001b[39m] = [spark: string]\n",
       "\u001b[36mres84_2\u001b[39m: \u001b[32mLong\u001b[39m = \u001b[32m3816L\u001b[39m"
      ]
     },
     "execution_count": 85,
     "metadata": {},
     "output_type": "execute_result"
    }
   ],
   "source": [
    "val geospark = spark.read.option(\"header\", \"false\").option(\"delimiter\", \"\\t\").csv(s\"${path}/${state}_geospark_test.tsv\")\n",
    "    .repartition(1).toDF(\"spark\").orderBy(\"spark\")\n",
    "geospark.show()\n",
    "geospark.count()"
   ]
  },
  {
   "cell_type": "markdown",
   "metadata": {},
   "source": [
    "### Merging both result sets..."
   ]
  },
  {
   "cell_type": "code",
   "execution_count": 86,
   "metadata": {},
   "outputs": [
    {
     "name": "stdout",
     "output_type": "stream",
     "text": [
      "+------------------+------------------+------------------+\n",
      "|pandas            |spark             |diff              |\n",
      "+------------------+------------------+------------------+\n",
      "|14868.94954038966 |14753.26688174401 |115.68265864565001|\n",
      "|16660.553521568356|16551.84360581831 |108.70991575004518|\n",
      "|25898.22571552311 |25797.12682158911 |101.09889393399862|\n",
      "|20389.57960944831 |20301.894996666073|87.68461278223549 |\n",
      "|16076.09052618457 |16159.399258853131|83.30873266856179 |\n",
      "|11636.785158459279|11716.888642641963|80.10348418268404 |\n",
      "|15597.522378113714|15523.920374786803|73.60200332691056 |\n",
      "|10860.188767826672|10911.093048933839|50.90428110716675 |\n",
      "|15645.484865502869|15597.522378113734|47.962487389135276|\n",
      "|11492.45899176329 |11540.365293284292|47.906301521003115|\n",
      "|11229.512726131841|11276.965251504811|47.45252537296983 |\n",
      "|10754.81366116398 |10796.289439325381|41.47577816140074 |\n",
      "|14753.26688174398 |14712.842769753795|40.42411199018534 |\n",
      "|11737.64975006734 |11777.541684696786|39.89193462944604 |\n",
      "|10991.383271445073|11030.645336835818|39.26206539074519 |\n",
      "|11077.507260915667|11115.903799712896|38.39653879722937 |\n",
      "|16159.399258852583|16197.528688833314|38.12942998073049 |\n",
      "|10911.093048933875|10946.829336276784|35.73628734290833 |\n",
      "|10567.681235717935|10602.591705581804|34.910469863869366|\n",
      "|10506.097144983005|10540.548179413829|34.45103443082371 |\n",
      "|10193.87483670819 |10226.126993347414|32.25215663922427 |\n",
      "|11450.221802004331|11481.695311614965|31.47350961063421 |\n",
      "|10226.126993347456|10256.822069631338|30.695076283882372|\n",
      "|11348.899805659688|11377.646190668806|28.746385009117148|\n",
      "|8080.7054792150875|8108.825925185621 |28.120445970533183|\n",
      "|15999.841270932888|15972.426148547278|27.41512238560972 |\n",
      "|14896.102080737932|14868.949540389653|27.152540348279217|\n",
      "|214.24006381604738|240.66075874739005|26.420694931342666|\n",
      "|11568.690204636016|11594.76748101238 |26.077276376365262|\n",
      "|8642.220336910108 |8667.762607886438 |25.542270976329746|\n",
      "|8726.944696199747 |8751.195733469516 |24.251037269768858|\n",
      "|10967.572750636024|10991.383271445433|23.810520809409354|\n",
      "|8042.483709473537 |8066.211878327579 |23.72816885404245 |\n",
      "|11276.965251504127|11300.463220072286|23.497968568159195|\n",
      "|7365.115050238795 |7388.602496508007 |23.487446269211432|\n",
      "|10126.663264957451|10149.465524594561|22.802259637110183|\n",
      "|12634.679676843594|12657.068904638962|22.389227795367333|\n",
      "|11126.333824053185|11148.607142370201|22.273318317016674|\n",
      "|8694.37305486279  |8716.08337434463  |21.71031948183918 |\n",
      "|7392.363686628607 |7413.480200509078 |21.116513880470848|\n",
      "|9220.20941661925  |9199.226298697191 |20.983117922058227|\n",
      "|7371.90813060684  |7392.70394829005  |20.79581768320986 |\n",
      "|11716.88864264181 |11737.649750067107|20.76110742529636 |\n",
      "|4150.2606949434685|4171.013026076466 |20.752331132997824|\n",
      "|11201.510993136988|11222.234990461573|20.72399732458507 |\n",
      "|14461.012537916167|14440.554289024842|20.45824889132564 |\n",
      "|11547.337182857094|11567.712718303063|20.375535445968126|\n",
      "|11046.904608309997|11067.07308827225 |20.168479962252604|\n",
      "|5836.240107738792 |5856.141696677144 |19.90158893835178 |\n",
      "|10840.374507227853|10860.188767826707|19.814260598854162|\n",
      "+------------------+------------------+------------------+\n",
      "only showing top 50 rows\n",
      "\n"
     ]
    },
    {
     "data": {
      "text/plain": [
       "\u001b[36mpopPandas\u001b[39m: \u001b[32mRDD\u001b[39m[\u001b[32mDouble\u001b[39m] = MapPartitionsRDD[1252] at sortBy at cmd85.sc:1\n",
       "\u001b[36mpopSpark\u001b[39m: \u001b[32mRDD\u001b[39m[\u001b[32mDouble\u001b[39m] = MapPartitionsRDD[1271] at sortBy at cmd85.sc:2\n",
       "\u001b[32mimport \u001b[39m\u001b[36morg.apache.spark.sql.functions._\n",
       "\u001b[39m\n",
       "\u001b[36mpops\u001b[39m: \u001b[32mRDD\u001b[39m[(\u001b[32mDouble\u001b[39m, \u001b[32mDouble\u001b[39m)] = ZippedPartitionsRDD2[1272] at zip at cmd85.sc:5"
      ]
     },
     "execution_count": 86,
     "metadata": {},
     "output_type": "execute_result"
    }
   ],
   "source": [
    "val popPandas = geopandas.rdd.map(_.getString(0).toDouble).sortBy(f => f)\n",
    "val popSpark  = geospark.rdd.map(_.getString(0).toDouble).sortBy(f => f)\n",
    "\n",
    "import org.apache.spark.sql.functions._\n",
    "val pops = popPandas.zip(popSpark)\n",
    "\n",
    "pops.toDF(\"pandas\", \"spark\")\n",
    "    .withColumn(\"diff\", abs($\"pandas\" - $\"spark\"))\n",
    "    .orderBy(desc(\"diff\"))\n",
    "    .show(50, truncate = false)"
   ]
  },
  {
   "cell_type": "markdown",
   "metadata": {},
   "source": [
    "### Running some metrics to test similarity..."
   ]
  },
  {
   "cell_type": "code",
   "execution_count": 87,
   "metadata": {},
   "outputs": [
    {
     "name": "stdout",
     "output_type": "stream",
     "text": [
      "R²:   0.9999970388898133\n",
      "MAE:  3.3044751937679075\n",
      "MSE:  48.19765286541765\n",
      "RMSE: 6.942452942974669\n"
     ]
    },
    {
     "data": {
      "text/plain": [
       "\u001b[36mreg\u001b[39m: \u001b[32mRegressionMetrics\u001b[39m = org.apache.spark.mllib.evaluation.RegressionMetrics@1a438ae4"
      ]
     },
     "execution_count": 87,
     "metadata": {},
     "output_type": "execute_result"
    }
   ],
   "source": [
    "val reg = new RegressionMetrics(pops)\n",
    "println(s\"R\\u00B2:   ${reg.r2}\")\n",
    "println(s\"MAE:  ${reg.meanAbsoluteError}\")\n",
    "println(s\"MSE:  ${reg.meanSquaredError}\")\n",
    "println(s\"RMSE: ${reg.rootMeanSquaredError}\")"
   ]
  },
  {
   "cell_type": "code",
   "execution_count": null,
   "metadata": {},
   "outputs": [],
   "source": []
  }
 ],
 "metadata": {
  "kernelspec": {
   "display_name": "Scala",
   "language": "scala",
   "name": "scala"
  },
  "language_info": {
   "codemirror_mode": "text/x-scala",
   "file_extension": ".scala",
   "mimetype": "text/x-scala",
   "name": "scala",
   "nbconvert_exporter": "script",
   "version": "2.11.12"
  }
 },
 "nbformat": 4,
 "nbformat_minor": 2
}
