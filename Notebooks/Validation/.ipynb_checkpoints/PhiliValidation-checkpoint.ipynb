{
 "cells": [
  {
   "cell_type": "code",
   "execution_count": 1,
   "metadata": {},
   "outputs": [
    {
     "name": "stderr",
     "output_type": "stream",
     "text": [
      "Registered S3 methods overwritten by 'ggplot2':\n",
      "  method         from \n",
      "  [.quosures     rlang\n",
      "  c.quosures     rlang\n",
      "  print.quosures rlang\n",
      "Registered S3 method overwritten by 'rvest':\n",
      "  method            from\n",
      "  read_xml.response xml2\n",
      "── Attaching packages ─────────────────────────────────────── tidyverse 1.2.1 ──\n",
      "✔ ggplot2 3.1.0       ✔ purrr   0.3.2  \n",
      "✔ tibble  2.1.1       ✔ dplyr   0.8.0.1\n",
      "✔ tidyr   0.8.3       ✔ stringr 1.4.0  \n",
      "✔ readr   1.3.1       ✔ forcats 0.4.0  \n",
      "── Conflicts ────────────────────────────────────────── tidyverse_conflicts() ──\n",
      "✖ dplyr::filter() masks stats::filter()\n",
      "✖ dplyr::lag()    masks stats::lag()\n"
     ]
    }
   ],
   "source": [
    "library(tidyverse)"
   ]
  },
  {
   "cell_type": "code",
   "execution_count": 21,
   "metadata": {},
   "outputs": [
    {
     "name": "stderr",
     "output_type": "stream",
     "text": [
      "Parsed with column specification:\n",
      "cols(\n",
      "  SID = col_double(),\n",
      "  TID = col_double(),\n",
      "  pandas = col_double()\n",
      ")\n"
     ]
    },
    {
     "data": {
      "text/html": [
       "<table>\n",
       "<thead><tr><th scope=col>SID</th><th scope=col>TID</th><th scope=col>pandas</th></tr></thead>\n",
       "<tbody>\n",
       "\t<tr><td>S42101000100</td><td>T42101000001</td><td>7.105410e-05</td></tr>\n",
       "\t<tr><td>S42101000100</td><td>T42101000127</td><td>2.569501e-07</td></tr>\n",
       "\t<tr><td>S42101000100</td><td>T42101000128</td><td>7.765014e-07</td></tr>\n",
       "\t<tr><td>S42101000100</td><td>T42101000129</td><td>6.323971e-07</td></tr>\n",
       "\t<tr><td>S42101000100</td><td>T42101000366</td><td>2.480105e-06</td></tr>\n",
       "\t<tr><td>S42101000200</td><td>T42101000001</td><td>1.360001e-06</td></tr>\n",
       "</tbody>\n",
       "</table>\n"
      ],
      "text/latex": [
       "\\begin{tabular}{r|lll}\n",
       " SID & TID & pandas\\\\\n",
       "\\hline\n",
       "\t S42101000100 & T42101000001 & 7.105410e-05\\\\\n",
       "\t S42101000100 & T42101000127 & 2.569501e-07\\\\\n",
       "\t S42101000100 & T42101000128 & 7.765014e-07\\\\\n",
       "\t S42101000100 & T42101000129 & 6.323971e-07\\\\\n",
       "\t S42101000100 & T42101000366 & 2.480105e-06\\\\\n",
       "\t S42101000200 & T42101000001 & 1.360001e-06\\\\\n",
       "\\end{tabular}\n"
      ],
      "text/markdown": [
       "\n",
       "SID | TID | pandas | \n",
       "|---|---|---|---|---|---|\n",
       "| S42101000100 | T42101000001 | 7.105410e-05 | \n",
       "| S42101000100 | T42101000127 | 2.569501e-07 | \n",
       "| S42101000100 | T42101000128 | 7.765014e-07 | \n",
       "| S42101000100 | T42101000129 | 6.323971e-07 | \n",
       "| S42101000100 | T42101000366 | 2.480105e-06 | \n",
       "| S42101000200 | T42101000001 | 1.360001e-06 | \n",
       "\n",
       "\n"
      ],
      "text/plain": [
       "  SID          TID          pandas      \n",
       "1 S42101000100 T42101000001 7.105410e-05\n",
       "2 S42101000100 T42101000127 2.569501e-07\n",
       "3 S42101000100 T42101000128 7.765014e-07\n",
       "4 S42101000100 T42101000129 6.323971e-07\n",
       "5 S42101000100 T42101000366 2.480105e-06\n",
       "6 S42101000200 T42101000001 1.360001e-06"
      ]
     },
     "metadata": {},
     "output_type": "display_data"
    },
    {
     "data": {
      "text/html": [
       "1576"
      ],
      "text/latex": [
       "1576"
      ],
      "text/markdown": [
       "1576"
      ],
      "text/plain": [
       "[1] 1576"
      ]
     },
     "metadata": {},
     "output_type": "display_data"
    }
   ],
   "source": [
    "pandas = read_tsv(\"~/RIDIR/Datasets/AreaTablesValidation/geopandas_area_table.tsv\", col_names = c(\"SID\", \"TID\", \"pandas\")) %>%\n",
    "    mutate(SID = paste0(\"S\",SID), TID = paste0(\"T\", TID)) \n",
    "head(pandas)\n",
    "nrow(pandas)"
   ]
  },
  {
   "cell_type": "code",
   "execution_count": 20,
   "metadata": {},
   "outputs": [
    {
     "name": "stderr",
     "output_type": "stream",
     "text": [
      "Parsed with column specification:\n",
      "cols(\n",
      "  SID = col_character(),\n",
      "  TID = col_character(),\n",
      "  spark = col_double()\n",
      ")\n"
     ]
    },
    {
     "data": {
      "text/html": [
       "<table>\n",
       "<thead><tr><th scope=col>SID</th><th scope=col>TID</th><th scope=col>spark</th></tr></thead>\n",
       "<tbody>\n",
       "\t<tr><td>S42101030800</td><td>T42101000310</td><td>2.072108e-06</td></tr>\n",
       "\t<tr><td>S42101030800</td><td>T42101000338</td><td>3.364890e-06</td></tr>\n",
       "\t<tr><td>S42101030800</td><td>T42101000308</td><td>7.854957e-05</td></tr>\n",
       "\t<tr><td>S42101016100</td><td>T42101000179</td><td>1.977193e-07</td></tr>\n",
       "\t<tr><td>S42101016100</td><td>T42101000177</td><td>4.253465e-08</td></tr>\n",
       "\t<tr><td>S42101016100</td><td>T42101000162</td><td>3.141155e-07</td></tr>\n",
       "</tbody>\n",
       "</table>\n"
      ],
      "text/latex": [
       "\\begin{tabular}{r|lll}\n",
       " SID & TID & spark\\\\\n",
       "\\hline\n",
       "\t S42101030800 & T42101000310 & 2.072108e-06\\\\\n",
       "\t S42101030800 & T42101000338 & 3.364890e-06\\\\\n",
       "\t S42101030800 & T42101000308 & 7.854957e-05\\\\\n",
       "\t S42101016100 & T42101000179 & 1.977193e-07\\\\\n",
       "\t S42101016100 & T42101000177 & 4.253465e-08\\\\\n",
       "\t S42101016100 & T42101000162 & 3.141155e-07\\\\\n",
       "\\end{tabular}\n"
      ],
      "text/markdown": [
       "\n",
       "SID | TID | spark | \n",
       "|---|---|---|---|---|---|\n",
       "| S42101030800 | T42101000310 | 2.072108e-06 | \n",
       "| S42101030800 | T42101000338 | 3.364890e-06 | \n",
       "| S42101030800 | T42101000308 | 7.854957e-05 | \n",
       "| S42101016100 | T42101000179 | 1.977193e-07 | \n",
       "| S42101016100 | T42101000177 | 4.253465e-08 | \n",
       "| S42101016100 | T42101000162 | 3.141155e-07 | \n",
       "\n",
       "\n"
      ],
      "text/plain": [
       "  SID          TID          spark       \n",
       "1 S42101030800 T42101000310 2.072108e-06\n",
       "2 S42101030800 T42101000338 3.364890e-06\n",
       "3 S42101030800 T42101000308 7.854957e-05\n",
       "4 S42101016100 T42101000179 1.977193e-07\n",
       "5 S42101016100 T42101000177 4.253465e-08\n",
       "6 S42101016100 T42101000162 3.141155e-07"
      ]
     },
     "metadata": {},
     "output_type": "display_data"
    },
    {
     "data": {
      "text/html": [
       "1671"
      ],
      "text/latex": [
       "1671"
      ],
      "text/markdown": [
       "1671"
      ],
      "text/plain": [
       "[1] 1671"
      ]
     },
     "metadata": {},
     "output_type": "display_data"
    }
   ],
   "source": [
    "spark = read_tsv(\"~/RIDIR/Datasets/AreaTablesValidation/geospark_area_table.tsv\", col_names = c(\"SID\", \"TID\", \"spark\"))\n",
    "head(spark)\n",
    "nrow(spark)"
   ]
  },
  {
   "cell_type": "code",
   "execution_count": 22,
   "metadata": {},
   "outputs": [
    {
     "data": {
      "text/html": [
       "<table>\n",
       "<thead><tr><th scope=col>SID</th><th scope=col>TID</th><th scope=col>spark</th><th scope=col>pandas</th></tr></thead>\n",
       "<tbody>\n",
       "\t<tr><td>S42101030800</td><td>T42101000310</td><td>2.072108e-06</td><td>2.252847e-06</td></tr>\n",
       "\t<tr><td>S42101030800</td><td>T42101000338</td><td>3.364890e-06</td><td>2.774692e-06</td></tr>\n",
       "\t<tr><td>S42101030800</td><td>T42101000308</td><td>7.854957e-05</td><td>7.836246e-05</td></tr>\n",
       "\t<tr><td>S42101016100</td><td>T42101000179</td><td>1.977193e-07</td><td>7.107576e-07</td></tr>\n",
       "\t<tr><td>S42101016100</td><td>T42101000177</td><td>4.253465e-08</td><td>          NA</td></tr>\n",
       "\t<tr><td>S42101016100</td><td>T42101000162</td><td>3.141155e-07</td><td>          NA</td></tr>\n",
       "</tbody>\n",
       "</table>\n"
      ],
      "text/latex": [
       "\\begin{tabular}{r|llll}\n",
       " SID & TID & spark & pandas\\\\\n",
       "\\hline\n",
       "\t S42101030800 & T42101000310 & 2.072108e-06 & 2.252847e-06\\\\\n",
       "\t S42101030800 & T42101000338 & 3.364890e-06 & 2.774692e-06\\\\\n",
       "\t S42101030800 & T42101000308 & 7.854957e-05 & 7.836246e-05\\\\\n",
       "\t S42101016100 & T42101000179 & 1.977193e-07 & 7.107576e-07\\\\\n",
       "\t S42101016100 & T42101000177 & 4.253465e-08 &           NA\\\\\n",
       "\t S42101016100 & T42101000162 & 3.141155e-07 &           NA\\\\\n",
       "\\end{tabular}\n"
      ],
      "text/markdown": [
       "\n",
       "SID | TID | spark | pandas | \n",
       "|---|---|---|---|---|---|\n",
       "| S42101030800 | T42101000310 | 2.072108e-06 | 2.252847e-06 | \n",
       "| S42101030800 | T42101000338 | 3.364890e-06 | 2.774692e-06 | \n",
       "| S42101030800 | T42101000308 | 7.854957e-05 | 7.836246e-05 | \n",
       "| S42101016100 | T42101000179 | 1.977193e-07 | 7.107576e-07 | \n",
       "| S42101016100 | T42101000177 | 4.253465e-08 |           NA | \n",
       "| S42101016100 | T42101000162 | 3.141155e-07 |           NA | \n",
       "\n",
       "\n"
      ],
      "text/plain": [
       "  SID          TID          spark        pandas      \n",
       "1 S42101030800 T42101000310 2.072108e-06 2.252847e-06\n",
       "2 S42101030800 T42101000338 3.364890e-06 2.774692e-06\n",
       "3 S42101030800 T42101000308 7.854957e-05 7.836246e-05\n",
       "4 S42101016100 T42101000179 1.977193e-07 7.107576e-07\n",
       "5 S42101016100 T42101000177 4.253465e-08           NA\n",
       "6 S42101016100 T42101000162 3.141155e-07           NA"
      ]
     },
     "metadata": {},
     "output_type": "display_data"
    }
   ],
   "source": [
    "table = spark %>% left_join(pandas, by = c(\"SID\", \"TID\"))\n",
    "head(table)\n"
   ]
  },
  {
   "cell_type": "code",
   "execution_count": 26,
   "metadata": {},
   "outputs": [
    {
     "data": {
      "text/html": [
       "<table>\n",
       "<thead><tr><th scope=col>SID</th><th scope=col>TID</th><th scope=col>spark</th><th scope=col>pandas</th></tr></thead>\n",
       "<tbody>\n",
       "\t<tr><td>S42101016100</td><td>T42101000177</td><td>4.253465e-08</td><td>NA          </td></tr>\n",
       "\t<tr><td>S42101016100</td><td>T42101000162</td><td>3.141155e-07</td><td>NA          </td></tr>\n",
       "\t<tr><td>S42101016100</td><td>T42101000157</td><td>1.561973e-07</td><td>NA          </td></tr>\n",
       "\t<tr><td>S42101016100</td><td>T42101000163</td><td>1.792324e-06</td><td>NA          </td></tr>\n",
       "\t<tr><td>S42101028500</td><td>T42101000282</td><td>1.371014e-08</td><td>NA          </td></tr>\n",
       "\t<tr><td>S42101034600</td><td>T42101000345</td><td>2.700547e-09</td><td>NA          </td></tr>\n",
       "</tbody>\n",
       "</table>\n"
      ],
      "text/latex": [
       "\\begin{tabular}{r|llll}\n",
       " SID & TID & spark & pandas\\\\\n",
       "\\hline\n",
       "\t S42101016100 & T42101000177 & 4.253465e-08 & NA          \\\\\n",
       "\t S42101016100 & T42101000162 & 3.141155e-07 & NA          \\\\\n",
       "\t S42101016100 & T42101000157 & 1.561973e-07 & NA          \\\\\n",
       "\t S42101016100 & T42101000163 & 1.792324e-06 & NA          \\\\\n",
       "\t S42101028500 & T42101000282 & 1.371014e-08 & NA          \\\\\n",
       "\t S42101034600 & T42101000345 & 2.700547e-09 & NA          \\\\\n",
       "\\end{tabular}\n"
      ],
      "text/markdown": [
       "\n",
       "SID | TID | spark | pandas | \n",
       "|---|---|---|---|---|---|\n",
       "| S42101016100 | T42101000177 | 4.253465e-08 | NA           | \n",
       "| S42101016100 | T42101000162 | 3.141155e-07 | NA           | \n",
       "| S42101016100 | T42101000157 | 1.561973e-07 | NA           | \n",
       "| S42101016100 | T42101000163 | 1.792324e-06 | NA           | \n",
       "| S42101028500 | T42101000282 | 1.371014e-08 | NA           | \n",
       "| S42101034600 | T42101000345 | 2.700547e-09 | NA           | \n",
       "\n",
       "\n"
      ],
      "text/plain": [
       "  SID          TID          spark        pandas\n",
       "1 S42101016100 T42101000177 4.253465e-08 NA    \n",
       "2 S42101016100 T42101000162 3.141155e-07 NA    \n",
       "3 S42101016100 T42101000157 1.561973e-07 NA    \n",
       "4 S42101016100 T42101000163 1.792324e-06 NA    \n",
       "5 S42101028500 T42101000282 1.371014e-08 NA    \n",
       "6 S42101034600 T42101000345 2.700547e-09 NA    "
      ]
     },
     "metadata": {},
     "output_type": "display_data"
    }
   ],
   "source": [
    "head(table %>% filter(is.na(pandas)))"
   ]
  },
  {
   "cell_type": "code",
   "execution_count": 31,
   "metadata": {},
   "outputs": [
    {
     "data": {
      "text/html": [
       "<table>\n",
       "<thead><tr><th scope=col>SID</th><th scope=col>TID</th><th scope=col>spark</th><th scope=col>pandas</th><th scope=col>diff</th></tr></thead>\n",
       "<tbody>\n",
       "\t<tr><td>S42101030800</td><td>T42101000310</td><td>2.072108e-06</td><td>2.252847e-06</td><td>1.807383e-07</td></tr>\n",
       "\t<tr><td>S42101030800</td><td>T42101000338</td><td>3.364890e-06</td><td>2.774692e-06</td><td>5.901978e-07</td></tr>\n",
       "\t<tr><td>S42101030800</td><td>T42101000308</td><td>7.854957e-05</td><td>7.836246e-05</td><td>1.871065e-07</td></tr>\n",
       "\t<tr><td>S42101016100</td><td>T42101000179</td><td>1.977193e-07</td><td>7.107576e-07</td><td>5.130383e-07</td></tr>\n",
       "\t<tr><td>S42101016100</td><td>T42101000178</td><td>1.036240e-06</td><td>1.739071e-06</td><td>7.028311e-07</td></tr>\n",
       "\t<tr><td>S42101016100</td><td>T42101000161</td><td>7.108852e-05</td><td>6.949292e-05</td><td>1.595604e-06</td></tr>\n",
       "</tbody>\n",
       "</table>\n"
      ],
      "text/latex": [
       "\\begin{tabular}{r|lllll}\n",
       " SID & TID & spark & pandas & diff\\\\\n",
       "\\hline\n",
       "\t S42101030800 & T42101000310 & 2.072108e-06 & 2.252847e-06 & 1.807383e-07\\\\\n",
       "\t S42101030800 & T42101000338 & 3.364890e-06 & 2.774692e-06 & 5.901978e-07\\\\\n",
       "\t S42101030800 & T42101000308 & 7.854957e-05 & 7.836246e-05 & 1.871065e-07\\\\\n",
       "\t S42101016100 & T42101000179 & 1.977193e-07 & 7.107576e-07 & 5.130383e-07\\\\\n",
       "\t S42101016100 & T42101000178 & 1.036240e-06 & 1.739071e-06 & 7.028311e-07\\\\\n",
       "\t S42101016100 & T42101000161 & 7.108852e-05 & 6.949292e-05 & 1.595604e-06\\\\\n",
       "\\end{tabular}\n"
      ],
      "text/markdown": [
       "\n",
       "SID | TID | spark | pandas | diff | \n",
       "|---|---|---|---|---|---|\n",
       "| S42101030800 | T42101000310 | 2.072108e-06 | 2.252847e-06 | 1.807383e-07 | \n",
       "| S42101030800 | T42101000338 | 3.364890e-06 | 2.774692e-06 | 5.901978e-07 | \n",
       "| S42101030800 | T42101000308 | 7.854957e-05 | 7.836246e-05 | 1.871065e-07 | \n",
       "| S42101016100 | T42101000179 | 1.977193e-07 | 7.107576e-07 | 5.130383e-07 | \n",
       "| S42101016100 | T42101000178 | 1.036240e-06 | 1.739071e-06 | 7.028311e-07 | \n",
       "| S42101016100 | T42101000161 | 7.108852e-05 | 6.949292e-05 | 1.595604e-06 | \n",
       "\n",
       "\n"
      ],
      "text/plain": [
       "  SID          TID          spark        pandas       diff        \n",
       "1 S42101030800 T42101000310 2.072108e-06 2.252847e-06 1.807383e-07\n",
       "2 S42101030800 T42101000338 3.364890e-06 2.774692e-06 5.901978e-07\n",
       "3 S42101030800 T42101000308 7.854957e-05 7.836246e-05 1.871065e-07\n",
       "4 S42101016100 T42101000179 1.977193e-07 7.107576e-07 5.130383e-07\n",
       "5 S42101016100 T42101000178 1.036240e-06 1.739071e-06 7.028311e-07\n",
       "6 S42101016100 T42101000161 7.108852e-05 6.949292e-05 1.595604e-06"
      ]
     },
     "metadata": {},
     "output_type": "display_data"
    },
    {
     "data": {
      "text/html": [
       "951"
      ],
      "text/latex": [
       "951"
      ],
      "text/markdown": [
       "951"
      ],
      "text/plain": [
       "[1] 951"
      ]
     },
     "metadata": {},
     "output_type": "display_data"
    }
   ],
   "source": [
    "table = spark %>% inner_join(pandas, by = c(\"SID\", \"TID\")) %>% \n",
    "    mutate(diff = abs(pandas - spark))\n",
    "head(table)\n",
    "nrow(table)"
   ]
  },
  {
   "cell_type": "code",
   "execution_count": 30,
   "metadata": {},
   "outputs": [
    {
     "data": {
      "text/html": [
       "951"
      ],
      "text/latex": [
       "951"
      ],
      "text/markdown": [
       "951"
      ],
      "text/plain": [
       "[1] 951"
      ]
     },
     "metadata": {},
     "output_type": "display_data"
    }
   ],
   "source": []
  },
  {
   "cell_type": "code",
   "execution_count": null,
   "metadata": {},
   "outputs": [],
   "source": [
    "ggplot(data = table, aes(x = ))"
   ]
  }
 ],
 "metadata": {
  "kernelspec": {
   "display_name": "R",
   "language": "R",
   "name": "ir"
  },
  "language_info": {
   "codemirror_mode": "r",
   "file_extension": ".r",
   "mimetype": "text/x-r-source",
   "name": "R",
   "pygments_lexer": "r",
   "version": "3.6.0"
  }
 },
 "nbformat": 4,
 "nbformat_minor": 2
}
