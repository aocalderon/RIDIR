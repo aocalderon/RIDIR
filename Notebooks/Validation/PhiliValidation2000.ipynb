{
 "cells": [
  {
   "cell_type": "code",
   "execution_count": 9,
   "metadata": {},
   "outputs": [],
   "source": [
    "library(tidyverse)\n",
    "library(MLmetrics)"
   ]
  },
  {
   "cell_type": "code",
   "execution_count": 10,
   "metadata": {},
   "outputs": [
    {
     "name": "stderr",
     "output_type": "stream",
     "text": [
      "Parsed with column specification:\n",
      "cols(\n",
      "  TID = col_character(),\n",
      "  pandas = col_double()\n",
      ")\n"
     ]
    },
    {
     "data": {
      "text/html": [
       "<table>\n",
       "<thead><tr><th scope=col>TID</th><th scope=col>pandas</th></tr></thead>\n",
       "<tbody>\n",
       "\t<tr><td>T42101000324</td><td>38.12638    </td></tr>\n",
       "\t<tr><td>T42101000159</td><td>21.81991    </td></tr>\n",
       "\t<tr><td>T42101000160</td><td>21.62135    </td></tr>\n",
       "\t<tr><td>T42101000330</td><td>20.78395    </td></tr>\n",
       "\t<tr><td>T42101000229</td><td>20.62140    </td></tr>\n",
       "\t<tr><td>T42101000184</td><td>20.56308    </td></tr>\n",
       "</tbody>\n",
       "</table>\n"
      ],
      "text/latex": [
       "\\begin{tabular}{r|ll}\n",
       " TID & pandas\\\\\n",
       "\\hline\n",
       "\t T42101000324 & 38.12638    \\\\\n",
       "\t T42101000159 & 21.81991    \\\\\n",
       "\t T42101000160 & 21.62135    \\\\\n",
       "\t T42101000330 & 20.78395    \\\\\n",
       "\t T42101000229 & 20.62140    \\\\\n",
       "\t T42101000184 & 20.56308    \\\\\n",
       "\\end{tabular}\n"
      ],
      "text/markdown": [
       "\n",
       "TID | pandas | \n",
       "|---|---|---|---|---|---|\n",
       "| T42101000324 | 38.12638     | \n",
       "| T42101000159 | 21.81991     | \n",
       "| T42101000160 | 21.62135     | \n",
       "| T42101000330 | 20.78395     | \n",
       "| T42101000229 | 20.62140     | \n",
       "| T42101000184 | 20.56308     | \n",
       "\n",
       "\n"
      ],
      "text/plain": [
       "  TID          pandas  \n",
       "1 T42101000324 38.12638\n",
       "2 T42101000159 21.81991\n",
       "3 T42101000160 21.62135\n",
       "4 T42101000330 20.78395\n",
       "5 T42101000229 20.62140\n",
       "6 T42101000184 20.56308"
      ]
     },
     "metadata": {},
     "output_type": "display_data"
    },
    {
     "data": {
      "text/html": [
       "367"
      ],
      "text/latex": [
       "367"
      ],
      "text/markdown": [
       "367"
      ],
      "text/plain": [
       "[1] 367"
      ]
     },
     "metadata": {},
     "output_type": "display_data"
    }
   ],
   "source": [
    "pandas = read_tsv(\"~/RIDIR/Datasets/AreaInterpolateValidation/geopandas_intensive2000.tsv\", col_names = c(\"TID\", \"pandas\")) %>%\n",
    "    arrange(desc(pandas))\n",
    "head(pandas)\n",
    "nrow(pandas)"
   ]
  },
  {
   "cell_type": "code",
   "execution_count": 11,
   "metadata": {},
   "outputs": [
    {
     "name": "stderr",
     "output_type": "stream",
     "text": [
      "Parsed with column specification:\n",
      "cols(\n",
      "  TID = col_character(),\n",
      "  spark = col_double()\n",
      ")\n"
     ]
    },
    {
     "data": {
      "text/html": [
       "<table>\n",
       "<thead><tr><th scope=col>TID</th><th scope=col>spark</th></tr></thead>\n",
       "<tbody>\n",
       "\t<tr><td>T42101000324</td><td>38.12638    </td></tr>\n",
       "\t<tr><td>T42101000159</td><td>21.81991    </td></tr>\n",
       "\t<tr><td>T42101000160</td><td>21.62135    </td></tr>\n",
       "\t<tr><td>T42101000330</td><td>20.78395    </td></tr>\n",
       "\t<tr><td>T42101000229</td><td>20.62140    </td></tr>\n",
       "\t<tr><td>T42101000184</td><td>20.56308    </td></tr>\n",
       "</tbody>\n",
       "</table>\n"
      ],
      "text/latex": [
       "\\begin{tabular}{r|ll}\n",
       " TID & spark\\\\\n",
       "\\hline\n",
       "\t T42101000324 & 38.12638    \\\\\n",
       "\t T42101000159 & 21.81991    \\\\\n",
       "\t T42101000160 & 21.62135    \\\\\n",
       "\t T42101000330 & 20.78395    \\\\\n",
       "\t T42101000229 & 20.62140    \\\\\n",
       "\t T42101000184 & 20.56308    \\\\\n",
       "\\end{tabular}\n"
      ],
      "text/markdown": [
       "\n",
       "TID | spark | \n",
       "|---|---|---|---|---|---|\n",
       "| T42101000324 | 38.12638     | \n",
       "| T42101000159 | 21.81991     | \n",
       "| T42101000160 | 21.62135     | \n",
       "| T42101000330 | 20.78395     | \n",
       "| T42101000229 | 20.62140     | \n",
       "| T42101000184 | 20.56308     | \n",
       "\n",
       "\n"
      ],
      "text/plain": [
       "  TID          spark   \n",
       "1 T42101000324 38.12638\n",
       "2 T42101000159 21.81991\n",
       "3 T42101000160 21.62135\n",
       "4 T42101000330 20.78395\n",
       "5 T42101000229 20.62140\n",
       "6 T42101000184 20.56308"
      ]
     },
     "metadata": {},
     "output_type": "display_data"
    },
    {
     "data": {
      "text/html": [
       "367"
      ],
      "text/latex": [
       "367"
      ],
      "text/markdown": [
       "367"
      ],
      "text/plain": [
       "[1] 367"
      ]
     },
     "metadata": {},
     "output_type": "display_data"
    }
   ],
   "source": [
    "spark = read_tsv(\"~/RIDIR/Datasets/AreaInterpolateValidation/geospark_intensive2000.tsv\", col_names = c(\"TID\", \"spark\")) %>%\n",
    "    arrange(desc(spark))\n",
    "head(spark)\n",
    "nrow(spark)"
   ]
  },
  {
   "cell_type": "code",
   "execution_count": 12,
   "metadata": {},
   "outputs": [
    {
     "data": {
      "text/html": [
       "<table>\n",
       "<thead><tr><th scope=col>TID</th><th scope=col>pandas</th><th scope=col>spark</th></tr></thead>\n",
       "<tbody>\n",
       "\t<tr><td>T42101000324</td><td>38.12638    </td><td>38.12638    </td></tr>\n",
       "\t<tr><td>T42101000159</td><td>21.81991    </td><td>21.81991    </td></tr>\n",
       "\t<tr><td>T42101000160</td><td>21.62135    </td><td>21.62135    </td></tr>\n",
       "\t<tr><td>T42101000330</td><td>20.78395    </td><td>20.78395    </td></tr>\n",
       "\t<tr><td>T42101000229</td><td>20.62140    </td><td>20.62140    </td></tr>\n",
       "\t<tr><td>T42101000184</td><td>20.56308    </td><td>20.56308    </td></tr>\n",
       "</tbody>\n",
       "</table>\n"
      ],
      "text/latex": [
       "\\begin{tabular}{r|lll}\n",
       " TID & pandas & spark\\\\\n",
       "\\hline\n",
       "\t T42101000324 & 38.12638     & 38.12638    \\\\\n",
       "\t T42101000159 & 21.81991     & 21.81991    \\\\\n",
       "\t T42101000160 & 21.62135     & 21.62135    \\\\\n",
       "\t T42101000330 & 20.78395     & 20.78395    \\\\\n",
       "\t T42101000229 & 20.62140     & 20.62140    \\\\\n",
       "\t T42101000184 & 20.56308     & 20.56308    \\\\\n",
       "\\end{tabular}\n"
      ],
      "text/markdown": [
       "\n",
       "TID | pandas | spark | \n",
       "|---|---|---|---|---|---|\n",
       "| T42101000324 | 38.12638     | 38.12638     | \n",
       "| T42101000159 | 21.81991     | 21.81991     | \n",
       "| T42101000160 | 21.62135     | 21.62135     | \n",
       "| T42101000330 | 20.78395     | 20.78395     | \n",
       "| T42101000229 | 20.62140     | 20.62140     | \n",
       "| T42101000184 | 20.56308     | 20.56308     | \n",
       "\n",
       "\n"
      ],
      "text/plain": [
       "  TID          pandas   spark   \n",
       "1 T42101000324 38.12638 38.12638\n",
       "2 T42101000159 21.81991 21.81991\n",
       "3 T42101000160 21.62135 21.62135\n",
       "4 T42101000330 20.78395 20.78395\n",
       "5 T42101000229 20.62140 20.62140\n",
       "6 T42101000184 20.56308 20.56308"
      ]
     },
     "metadata": {},
     "output_type": "display_data"
    },
    {
     "data": {
      "text/html": [
       "367"
      ],
      "text/latex": [
       "367"
      ],
      "text/markdown": [
       "367"
      ],
      "text/plain": [
       "[1] 367"
      ]
     },
     "metadata": {},
     "output_type": "display_data"
    }
   ],
   "source": [
    "table = pandas %>% left_join(spark, by = c(\"TID\"))\n",
    "head(table)\n",
    "nrow(table)"
   ]
  },
  {
   "cell_type": "code",
   "execution_count": 13,
   "metadata": {},
   "outputs": [
    {
     "data": {
      "text/html": [
       "<table>\n",
       "<thead><tr><th scope=col>TID</th><th scope=col>pandas</th><th scope=col>spark</th></tr></thead>\n",
       "<tbody>\n",
       "</tbody>\n",
       "</table>\n"
      ],
      "text/latex": [
       "\\begin{tabular}{r|lll}\n",
       " TID & pandas & spark\\\\\n",
       "\\hline\n",
       "\\end{tabular}\n"
      ],
      "text/markdown": [
       "\n",
       "TID | pandas | spark | \n",
       "||\n",
       "\n",
       "\n"
      ],
      "text/plain": [
       "     TID pandas spark"
      ]
     },
     "metadata": {},
     "output_type": "display_data"
    }
   ],
   "source": [
    "head(table %>% filter(is.na(spark)))"
   ]
  },
  {
   "cell_type": "code",
   "execution_count": 14,
   "metadata": {},
   "outputs": [
    {
     "data": {
      "text/html": [
       "<table>\n",
       "<thead><tr><th scope=col>TID</th><th scope=col>spark</th><th scope=col>pandas</th><th scope=col>diff</th></tr></thead>\n",
       "<tbody>\n",
       "\t<tr><td>T42101000043</td><td>0.27199356  </td><td>13.9425301  </td><td>13.6705365  </td></tr>\n",
       "\t<tr><td>T42101000026</td><td>0.22256543  </td><td> 8.0385688  </td><td> 7.8160034  </td></tr>\n",
       "\t<tr><td>T42101000049</td><td>0.05456310  </td><td> 5.8729646  </td><td> 5.8184015  </td></tr>\n",
       "\t<tr><td>T42101000058</td><td>0.03402696  </td><td> 4.3351213  </td><td> 4.3010943  </td></tr>\n",
       "\t<tr><td>T42101000059</td><td>0.32093933  </td><td> 3.6506121  </td><td> 3.3296728  </td></tr>\n",
       "\t<tr><td>T42101000057</td><td>0.01016124  </td><td> 0.5974146  </td><td> 0.5872534  </td></tr>\n",
       "</tbody>\n",
       "</table>\n"
      ],
      "text/latex": [
       "\\begin{tabular}{r|llll}\n",
       " TID & spark & pandas & diff\\\\\n",
       "\\hline\n",
       "\t T42101000043 & 0.27199356   & 13.9425301   & 13.6705365  \\\\\n",
       "\t T42101000026 & 0.22256543   &  8.0385688   &  7.8160034  \\\\\n",
       "\t T42101000049 & 0.05456310   &  5.8729646   &  5.8184015  \\\\\n",
       "\t T42101000058 & 0.03402696   &  4.3351213   &  4.3010943  \\\\\n",
       "\t T42101000059 & 0.32093933   &  3.6506121   &  3.3296728  \\\\\n",
       "\t T42101000057 & 0.01016124   &  0.5974146   &  0.5872534  \\\\\n",
       "\\end{tabular}\n"
      ],
      "text/markdown": [
       "\n",
       "TID | spark | pandas | diff | \n",
       "|---|---|---|---|---|---|\n",
       "| T42101000043 | 0.27199356   | 13.9425301   | 13.6705365   | \n",
       "| T42101000026 | 0.22256543   |  8.0385688   |  7.8160034   | \n",
       "| T42101000049 | 0.05456310   |  5.8729646   |  5.8184015   | \n",
       "| T42101000058 | 0.03402696   |  4.3351213   |  4.3010943   | \n",
       "| T42101000059 | 0.32093933   |  3.6506121   |  3.3296728   | \n",
       "| T42101000057 | 0.01016124   |  0.5974146   |  0.5872534   | \n",
       "\n",
       "\n"
      ],
      "text/plain": [
       "  TID          spark      pandas     diff      \n",
       "1 T42101000043 0.27199356 13.9425301 13.6705365\n",
       "2 T42101000026 0.22256543  8.0385688  7.8160034\n",
       "3 T42101000049 0.05456310  5.8729646  5.8184015\n",
       "4 T42101000058 0.03402696  4.3351213  4.3010943\n",
       "5 T42101000059 0.32093933  3.6506121  3.3296728\n",
       "6 T42101000057 0.01016124  0.5974146  0.5872534"
      ]
     },
     "metadata": {},
     "output_type": "display_data"
    },
    {
     "data": {
      "text/html": [
       "367"
      ],
      "text/latex": [
       "367"
      ],
      "text/markdown": [
       "367"
      ],
      "text/plain": [
       "[1] 367"
      ]
     },
     "metadata": {},
     "output_type": "display_data"
    }
   ],
   "source": [
    "table = spark %>% inner_join(pandas, by = c(\"TID\")) %>% \n",
    "    mutate(diff = abs(pandas - spark)) %>%\n",
    "    arrange(desc(diff))\n",
    "head(table)\n",
    "nrow(table)"
   ]
  },
  {
   "cell_type": "code",
   "execution_count": 15,
   "metadata": {},
   "outputs": [
    {
     "data": {
      "image/png": "[encoded data removed]",
      "text/plain": [
       "plot without title"
      ]
     },
     "metadata": {},
     "output_type": "display_data"
    }
   ],
   "source": [
    "ggplot(data = table, aes(x = pandas, y = spark)) + geom_point()"
   ]
  },
  {
   "cell_type": "code",
   "execution_count": 16,
   "metadata": {},
   "outputs": [
    {
     "name": "stdout",
     "output_type": "stream",
     "text": [
      "[1] \"R2:    0.980118231636545\"\n",
      "[1] \"MAE:   0.101665425721096\"\n",
      "[1] \"MSE:   0.8506322289569\"\n",
      "[1] \"RMSE:  0.922297256288286\"\n",
      "[1] \"RAE:   0.0180316340581742\"\n",
      "[1] \"MAPE:  NaN\"\n"
     ]
    }
   ],
   "source": [
    "print(paste(\"R2:   \", R2_Score(table$spark, table$pandas)))\n",
    "print(paste(\"MAE:  \",      MAE(table$spark, table$pandas)))\n",
    "print(paste(\"MSE:  \",      MSE(table$spark, table$pandas)))\n",
    "print(paste(\"RMSE: \",     RMSE(table$spark, table$pandas)))\n",
    "print(paste(\"RAE:  \",      RAE(table$spark, table$pandas)))\n",
    "print(paste(\"MAPE: \",     MAPE(table$spark, table$pandas)))\n"
   ]
  },
  {
   "cell_type": "code",
   "execution_count": null,
   "metadata": {},
   "outputs": [],
   "source": []
  }
 ],
 "metadata": {
  "kernelspec": {
   "display_name": "R",
   "language": "R",
   "name": "ir"
  },
  "language_info": {
   "codemirror_mode": "r",
   "file_extension": ".r",
   "mimetype": "text/x-r-source",
   "name": "R",
   "pygments_lexer": "r",
   "version": "3.6.0"
  }
 },
 "nbformat": 4,
 "nbformat_minor": 2
}
