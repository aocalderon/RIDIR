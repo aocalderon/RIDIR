{
 "cells": [
  {
   "cell_type": "code",
   "execution_count": 8,
   "metadata": {},
   "outputs": [],
   "source": [
    "library(tidyverse)\n",
    "library(MLmetrics)"
   ]
  },
  {
   "cell_type": "code",
   "execution_count": 9,
   "metadata": {},
   "outputs": [
    {
     "name": "stderr",
     "output_type": "stream",
     "text": [
      "Parsed with column specification:\n",
      "cols(\n",
      "  TID = col_character(),\n",
      "  pandas = col_double()\n",
      ")\n"
     ]
    },
    {
     "data": {
      "text/html": [
       "<table>\n",
       "<thead><tr><th scope=col>TID</th><th scope=col>pandas</th></tr></thead>\n",
       "<tbody>\n",
       "\t<tr><td>T42101000332</td><td>19.19754    </td></tr>\n",
       "\t<tr><td>T42101000365</td><td>16.92458    </td></tr>\n",
       "\t<tr><td>T42101000331</td><td>16.64821    </td></tr>\n",
       "\t<tr><td>T42101000315</td><td>16.09803    </td></tr>\n",
       "\t<tr><td>T42101003898</td><td>15.26946    </td></tr>\n",
       "\t<tr><td>T42101000221</td><td>15.17521    </td></tr>\n",
       "</tbody>\n",
       "</table>\n"
      ],
      "text/latex": [
       "\\begin{tabular}{r|ll}\n",
       " TID & pandas\\\\\n",
       "\\hline\n",
       "\t T42101000332 & 19.19754    \\\\\n",
       "\t T42101000365 & 16.92458    \\\\\n",
       "\t T42101000331 & 16.64821    \\\\\n",
       "\t T42101000315 & 16.09803    \\\\\n",
       "\t T42101003898 & 15.26946    \\\\\n",
       "\t T42101000221 & 15.17521    \\\\\n",
       "\\end{tabular}\n"
      ],
      "text/markdown": [
       "\n",
       "TID | pandas | \n",
       "|---|---|---|---|---|---|\n",
       "| T42101000332 | 19.19754     | \n",
       "| T42101000365 | 16.92458     | \n",
       "| T42101000331 | 16.64821     | \n",
       "| T42101000315 | 16.09803     | \n",
       "| T42101003898 | 15.26946     | \n",
       "| T42101000221 | 15.17521     | \n",
       "\n",
       "\n"
      ],
      "text/plain": [
       "  TID          pandas  \n",
       "1 T42101000332 19.19754\n",
       "2 T42101000365 16.92458\n",
       "3 T42101000331 16.64821\n",
       "4 T42101000315 16.09803\n",
       "5 T42101003898 15.26946\n",
       "6 T42101000221 15.17521"
      ]
     },
     "metadata": {},
     "output_type": "display_data"
    },
    {
     "data": {
      "text/html": [
       "367"
      ],
      "text/latex": [
       "367"
      ],
      "text/markdown": [
       "367"
      ],
      "text/plain": [
       "[1] 367"
      ]
     },
     "metadata": {},
     "output_type": "display_data"
    }
   ],
   "source": [
    "pandas = read_tsv(\"~/RIDIR/Datasets/AreaInterpolateValidation/geopandas_intensive2000.tsv\", col_names = c(\"TID\", \"pandas\")) %>%\n",
    "    arrange(desc(pandas))\n",
    "head(pandas)\n",
    "nrow(pandas)"
   ]
  },
  {
   "cell_type": "code",
   "execution_count": 10,
   "metadata": {},
   "outputs": [
    {
     "name": "stderr",
     "output_type": "stream",
     "text": [
      "Parsed with column specification:\n",
      "cols(\n",
      "  TID = col_character(),\n",
      "  spark = col_double()\n",
      ")\n"
     ]
    },
    {
     "data": {
      "text/html": [
       "<table>\n",
       "<thead><tr><th scope=col>TID</th><th scope=col>spark</th></tr></thead>\n",
       "<tbody>\n",
       "\t<tr><td>T42101000324</td><td>38.12638    </td></tr>\n",
       "\t<tr><td>T42101000159</td><td>21.81991    </td></tr>\n",
       "\t<tr><td>T42101000160</td><td>21.62135    </td></tr>\n",
       "\t<tr><td>T42101000330</td><td>20.78395    </td></tr>\n",
       "\t<tr><td>T42101000229</td><td>20.62140    </td></tr>\n",
       "\t<tr><td>T42101000184</td><td>20.56308    </td></tr>\n",
       "</tbody>\n",
       "</table>\n"
      ],
      "text/latex": [
       "\\begin{tabular}{r|ll}\n",
       " TID & spark\\\\\n",
       "\\hline\n",
       "\t T42101000324 & 38.12638    \\\\\n",
       "\t T42101000159 & 21.81991    \\\\\n",
       "\t T42101000160 & 21.62135    \\\\\n",
       "\t T42101000330 & 20.78395    \\\\\n",
       "\t T42101000229 & 20.62140    \\\\\n",
       "\t T42101000184 & 20.56308    \\\\\n",
       "\\end{tabular}\n"
      ],
      "text/markdown": [
       "\n",
       "TID | spark | \n",
       "|---|---|---|---|---|---|\n",
       "| T42101000324 | 38.12638     | \n",
       "| T42101000159 | 21.81991     | \n",
       "| T42101000160 | 21.62135     | \n",
       "| T42101000330 | 20.78395     | \n",
       "| T42101000229 | 20.62140     | \n",
       "| T42101000184 | 20.56308     | \n",
       "\n",
       "\n"
      ],
      "text/plain": [
       "  TID          spark   \n",
       "1 T42101000324 38.12638\n",
       "2 T42101000159 21.81991\n",
       "3 T42101000160 21.62135\n",
       "4 T42101000330 20.78395\n",
       "5 T42101000229 20.62140\n",
       "6 T42101000184 20.56308"
      ]
     },
     "metadata": {},
     "output_type": "display_data"
    },
    {
     "data": {
      "text/html": [
       "367"
      ],
      "text/latex": [
       "367"
      ],
      "text/markdown": [
       "367"
      ],
      "text/plain": [
       "[1] 367"
      ]
     },
     "metadata": {},
     "output_type": "display_data"
    }
   ],
   "source": [
    "spark = read_tsv(\"~/RIDIR/Datasets/AreaInterpolateValidation/geospark_intensive2000.tsv\", col_names = c(\"TID\", \"spark\")) %>%\n",
    "    arrange(desc(spark))\n",
    "head(spark)\n",
    "nrow(spark)"
   ]
  },
  {
   "cell_type": "code",
   "execution_count": 4,
   "metadata": {},
   "outputs": [
    {
     "data": {
      "text/html": [
       "<table>\n",
       "<thead><tr><th scope=col>TID</th><th scope=col>pandas</th><th scope=col>spark</th></tr></thead>\n",
       "<tbody>\n",
       "\t<tr><td>T42101000332</td><td>19.19754    </td><td>16.99748    </td></tr>\n",
       "\t<tr><td>T42101000365</td><td>16.92458    </td><td>16.29531    </td></tr>\n",
       "\t<tr><td>T42101000331</td><td>16.64821    </td><td>18.11994    </td></tr>\n",
       "\t<tr><td>T42101000315</td><td>16.09803    </td><td>19.90660    </td></tr>\n",
       "\t<tr><td>T42101003898</td><td>15.26946    </td><td>12.69345    </td></tr>\n",
       "\t<tr><td>T42101000221</td><td>15.17521    </td><td>14.21019    </td></tr>\n",
       "</tbody>\n",
       "</table>\n"
      ],
      "text/latex": [
       "\\begin{tabular}{r|lll}\n",
       " TID & pandas & spark\\\\\n",
       "\\hline\n",
       "\t T42101000332 & 19.19754     & 16.99748    \\\\\n",
       "\t T42101000365 & 16.92458     & 16.29531    \\\\\n",
       "\t T42101000331 & 16.64821     & 18.11994    \\\\\n",
       "\t T42101000315 & 16.09803     & 19.90660    \\\\\n",
       "\t T42101003898 & 15.26946     & 12.69345    \\\\\n",
       "\t T42101000221 & 15.17521     & 14.21019    \\\\\n",
       "\\end{tabular}\n"
      ],
      "text/markdown": [
       "\n",
       "TID | pandas | spark | \n",
       "|---|---|---|---|---|---|\n",
       "| T42101000332 | 19.19754     | 16.99748     | \n",
       "| T42101000365 | 16.92458     | 16.29531     | \n",
       "| T42101000331 | 16.64821     | 18.11994     | \n",
       "| T42101000315 | 16.09803     | 19.90660     | \n",
       "| T42101003898 | 15.26946     | 12.69345     | \n",
       "| T42101000221 | 15.17521     | 14.21019     | \n",
       "\n",
       "\n"
      ],
      "text/plain": [
       "  TID          pandas   spark   \n",
       "1 T42101000332 19.19754 16.99748\n",
       "2 T42101000365 16.92458 16.29531\n",
       "3 T42101000331 16.64821 18.11994\n",
       "4 T42101000315 16.09803 19.90660\n",
       "5 T42101003898 15.26946 12.69345\n",
       "6 T42101000221 15.17521 14.21019"
      ]
     },
     "metadata": {},
     "output_type": "display_data"
    },
    {
     "data": {
      "text/html": [
       "367"
      ],
      "text/latex": [
       "367"
      ],
      "text/markdown": [
       "367"
      ],
      "text/plain": [
       "[1] 367"
      ]
     },
     "metadata": {},
     "output_type": "display_data"
    }
   ],
   "source": [
    "table = pandas %>% left_join(spark, by = c(\"TID\"))\n",
    "head(table)\n",
    "nrow(table)"
   ]
  },
  {
   "cell_type": "code",
   "execution_count": 5,
   "metadata": {},
   "outputs": [
    {
     "data": {
      "text/html": [
       "<table>\n",
       "<thead><tr><th scope=col>TID</th><th scope=col>pandas</th><th scope=col>spark</th></tr></thead>\n",
       "<tbody>\n",
       "</tbody>\n",
       "</table>\n"
      ],
      "text/latex": [
       "\\begin{tabular}{r|lll}\n",
       " TID & pandas & spark\\\\\n",
       "\\hline\n",
       "\\end{tabular}\n"
      ],
      "text/markdown": [
       "\n",
       "TID | pandas | spark | \n",
       "||\n",
       "\n",
       "\n"
      ],
      "text/plain": [
       "     TID pandas spark"
      ]
     },
     "metadata": {},
     "output_type": "display_data"
    }
   ],
   "source": [
    "head(table %>% filter(is.na(spark)))"
   ]
  },
  {
   "cell_type": "code",
   "execution_count": 6,
   "metadata": {},
   "outputs": [
    {
     "data": {
      "text/html": [
       "<table>\n",
       "<thead><tr><th scope=col>TID</th><th scope=col>spark</th><th scope=col>pandas</th><th scope=col>diff</th></tr></thead>\n",
       "<tbody>\n",
       "\t<tr><td>T42101000324</td><td>38.12638    </td><td>9.2120424   </td><td>28.91434    </td></tr>\n",
       "\t<tr><td>T42101000319</td><td>19.14920    </td><td>4.7112466   </td><td>14.43795    </td></tr>\n",
       "\t<tr><td>T42101000343</td><td>14.74989    </td><td>0.7165072   </td><td>14.03339    </td></tr>\n",
       "\t<tr><td>T42101000159</td><td>21.81991    </td><td>8.3445499   </td><td>13.47536    </td></tr>\n",
       "\t<tr><td>T42101000317</td><td>16.56036    </td><td>3.4084088   </td><td>13.15195    </td></tr>\n",
       "\t<tr><td>T42101000302</td><td>13.28585    </td><td>0.5018743   </td><td>12.78397    </td></tr>\n",
       "</tbody>\n",
       "</table>\n"
      ],
      "text/latex": [
       "\\begin{tabular}{r|llll}\n",
       " TID & spark & pandas & diff\\\\\n",
       "\\hline\n",
       "\t T42101000324 & 38.12638     & 9.2120424    & 28.91434    \\\\\n",
       "\t T42101000319 & 19.14920     & 4.7112466    & 14.43795    \\\\\n",
       "\t T42101000343 & 14.74989     & 0.7165072    & 14.03339    \\\\\n",
       "\t T42101000159 & 21.81991     & 8.3445499    & 13.47536    \\\\\n",
       "\t T42101000317 & 16.56036     & 3.4084088    & 13.15195    \\\\\n",
       "\t T42101000302 & 13.28585     & 0.5018743    & 12.78397    \\\\\n",
       "\\end{tabular}\n"
      ],
      "text/markdown": [
       "\n",
       "TID | spark | pandas | diff | \n",
       "|---|---|---|---|---|---|\n",
       "| T42101000324 | 38.12638     | 9.2120424    | 28.91434     | \n",
       "| T42101000319 | 19.14920     | 4.7112466    | 14.43795     | \n",
       "| T42101000343 | 14.74989     | 0.7165072    | 14.03339     | \n",
       "| T42101000159 | 21.81991     | 8.3445499    | 13.47536     | \n",
       "| T42101000317 | 16.56036     | 3.4084088    | 13.15195     | \n",
       "| T42101000302 | 13.28585     | 0.5018743    | 12.78397     | \n",
       "\n",
       "\n"
      ],
      "text/plain": [
       "  TID          spark    pandas    diff    \n",
       "1 T42101000324 38.12638 9.2120424 28.91434\n",
       "2 T42101000319 19.14920 4.7112466 14.43795\n",
       "3 T42101000343 14.74989 0.7165072 14.03339\n",
       "4 T42101000159 21.81991 8.3445499 13.47536\n",
       "5 T42101000317 16.56036 3.4084088 13.15195\n",
       "6 T42101000302 13.28585 0.5018743 12.78397"
      ]
     },
     "metadata": {},
     "output_type": "display_data"
    },
    {
     "data": {
      "text/html": [
       "367"
      ],
      "text/latex": [
       "367"
      ],
      "text/markdown": [
       "367"
      ],
      "text/plain": [
       "[1] 367"
      ]
     },
     "metadata": {},
     "output_type": "display_data"
    }
   ],
   "source": [
    "table = spark %>% inner_join(pandas, by = c(\"TID\")) %>% \n",
    "    mutate(diff = abs(pandas - spark)) %>%\n",
    "    arrange(desc(diff))\n",
    "head(table)\n",
    "nrow(table)"
   ]
  },
  {
   "cell_type": "code",
   "execution_count": 7,
   "metadata": {},
   "outputs": [
    {
     "data": {
      "image/png": "[encoded data removed]",
      "text/plain": [
       "plot without title"
      ]
     },
     "metadata": {},
     "output_type": "display_data"
    }
   ],
   "source": [
    "ggplot(data = table, aes(x = pandas, y = spark)) + geom_point()"
   ]
  },
  {
   "cell_type": "code",
   "execution_count": 33,
   "metadata": {},
   "outputs": [
    {
     "name": "stdout",
     "output_type": "stream",
     "text": [
      "[1] \"R2:    1\"\n",
      "[1] \"MAE:   5.65396621446102e-16\"\n",
      "[1] \"MSE:   1.78826492581888e-30\"\n",
      "[1] \"RMSE:  1.33726023115132e-15\"\n",
      "[1] \"RAE:   1.00231690589527e-16\"\n"
     ]
    }
   ],
   "source": [
    "print(paste(\"R2:   \", R2_Score(table$spark, table$pandas)))\n",
    "print(paste(\"MAE:  \",      MAE(table$spark, table$pandas)))\n",
    "print(paste(\"MSE:  \",      MSE(table$spark, table$pandas)))\n",
    "print(paste(\"RMSE: \",     RMSE(table$spark, table$pandas)))\n",
    "print(paste(\"RAE:  \",      RAE(table$spark, table$pandas)))\n"
   ]
  },
  {
   "cell_type": "code",
   "execution_count": null,
   "metadata": {},
   "outputs": [],
   "source": []
  }
 ],
 "metadata": {
  "kernelspec": {
   "display_name": "R",
   "language": "R",
   "name": "ir"
  },
  "language_info": {
   "codemirror_mode": "r",
   "file_extension": ".r",
   "mimetype": "text/x-r-source",
   "name": "R",
   "pygments_lexer": "r",
   "version": "3.6.0"
  }
 },
 "nbformat": 4,
 "nbformat_minor": 2
}
