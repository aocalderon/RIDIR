{
 "cells": [
  {
   "cell_type": "code",
   "execution_count": 1,
   "metadata": {},
   "outputs": [
    {
     "name": "stderr",
     "output_type": "stream",
     "text": [
      "Registered S3 methods overwritten by 'ggplot2':\n",
      "  method         from \n",
      "  [.quosures     rlang\n",
      "  c.quosures     rlang\n",
      "  print.quosures rlang\n",
      "Registered S3 method overwritten by 'rvest':\n",
      "  method            from\n",
      "  read_xml.response xml2\n",
      "── Attaching packages ─────────────────────────────────────── tidyverse 1.2.1 ──\n",
      "✔ ggplot2 3.1.0       ✔ purrr   0.3.2  \n",
      "✔ tibble  2.1.1       ✔ dplyr   0.8.0.1\n",
      "✔ tidyr   0.8.3       ✔ stringr 1.4.0  \n",
      "✔ readr   1.3.1       ✔ forcats 0.4.0  \n",
      "── Conflicts ────────────────────────────────────────── tidyverse_conflicts() ──\n",
      "✖ dplyr::filter() masks stats::filter()\n",
      "✖ dplyr::lag()    masks stats::lag()\n",
      "\n",
      "Attaching package: ‘MLmetrics’\n",
      "\n",
      "The following object is masked from ‘package:base’:\n",
      "\n",
      "    Recall\n",
      "\n"
     ]
    }
   ],
   "source": [
    "library(tidyverse)\n",
    "library(MLmetrics)"
   ]
  },
  {
   "cell_type": "code",
   "execution_count": 15,
   "metadata": {},
   "outputs": [
    {
     "name": "stderr",
     "output_type": "stream",
     "text": [
      "Parsed with column specification:\n",
      "cols(\n",
      "  SID = col_double(),\n",
      "  TID = col_double(),\n",
      "  pandas = col_double()\n",
      ")\n"
     ]
    },
    {
     "data": {
      "text/html": [
       "<table>\n",
       "<thead><tr><th scope=col>SID</th><th scope=col>TID</th><th scope=col>pandas</th></tr></thead>\n",
       "<tbody>\n",
       "\t<tr><td>S42101005200</td><td>T42101000052</td><td>0.0010725117</td></tr>\n",
       "\t<tr><td>S42101005000</td><td>T42101000050</td><td>0.0007968057</td></tr>\n",
       "\t<tr><td>S42101035400</td><td>T42101000354</td><td>0.0007944619</td></tr>\n",
       "\t<tr><td>S42101012300</td><td>T42101000123</td><td>0.0006089372</td></tr>\n",
       "\t<tr><td>S42101022300</td><td>T42101000223</td><td>0.0005563056</td></tr>\n",
       "\t<tr><td>S42101034300</td><td>T42101000343</td><td>0.0005395094</td></tr>\n",
       "</tbody>\n",
       "</table>\n"
      ],
      "text/latex": [
       "\\begin{tabular}{r|lll}\n",
       " SID & TID & pandas\\\\\n",
       "\\hline\n",
       "\t S42101005200 & T42101000052 & 0.0010725117\\\\\n",
       "\t S42101005000 & T42101000050 & 0.0007968057\\\\\n",
       "\t S42101035400 & T42101000354 & 0.0007944619\\\\\n",
       "\t S42101012300 & T42101000123 & 0.0006089372\\\\\n",
       "\t S42101022300 & T42101000223 & 0.0005563056\\\\\n",
       "\t S42101034300 & T42101000343 & 0.0005395094\\\\\n",
       "\\end{tabular}\n"
      ],
      "text/markdown": [
       "\n",
       "SID | TID | pandas | \n",
       "|---|---|---|---|---|---|\n",
       "| S42101005200 | T42101000052 | 0.0010725117 | \n",
       "| S42101005000 | T42101000050 | 0.0007968057 | \n",
       "| S42101035400 | T42101000354 | 0.0007944619 | \n",
       "| S42101012300 | T42101000123 | 0.0006089372 | \n",
       "| S42101022300 | T42101000223 | 0.0005563056 | \n",
       "| S42101034300 | T42101000343 | 0.0005395094 | \n",
       "\n",
       "\n"
      ],
      "text/plain": [
       "  SID          TID          pandas      \n",
       "1 S42101005200 T42101000052 0.0010725117\n",
       "2 S42101005000 T42101000050 0.0007968057\n",
       "3 S42101035400 T42101000354 0.0007944619\n",
       "4 S42101012300 T42101000123 0.0006089372\n",
       "5 S42101022300 T42101000223 0.0005563056\n",
       "6 S42101034300 T42101000343 0.0005395094"
      ]
     },
     "metadata": {},
     "output_type": "display_data"
    },
    {
     "data": {
      "text/html": [
       "1576"
      ],
      "text/latex": [
       "1576"
      ],
      "text/markdown": [
       "1576"
      ],
      "text/plain": [
       "[1] 1576"
      ]
     },
     "metadata": {},
     "output_type": "display_data"
    }
   ],
   "source": [
    "pandas = read_tsv(\"~/RIDIR/Datasets/AreaTablesValidation/geopandas_area_table.tsv\", col_names = c(\"SID\", \"TID\", \"pandas\")) %>%\n",
    "    mutate(SID = paste0(\"S\",SID), TID = paste0(\"T\", TID)) %>%\n",
    "    arrange(desc(pandas))\n",
    "head(pandas)\n",
    "nrow(pandas)"
   ]
  },
  {
   "cell_type": "code",
   "execution_count": 14,
   "metadata": {},
   "outputs": [
    {
     "name": "stderr",
     "output_type": "stream",
     "text": [
      "Parsed with column specification:\n",
      "cols(\n",
      "  SID = col_character(),\n",
      "  TID = col_character(),\n",
      "  spark = col_double()\n",
      ")\n"
     ]
    },
    {
     "data": {
      "text/html": [
       "<table>\n",
       "<thead><tr><th scope=col>SID</th><th scope=col>TID</th><th scope=col>spark</th></tr></thead>\n",
       "<tbody>\n",
       "\t<tr><td>S42101005200</td><td>T42101000052</td><td>0.0010725117</td></tr>\n",
       "\t<tr><td>S42101035400</td><td>T42101000354</td><td>0.0007944619</td></tr>\n",
       "\t<tr><td>S42101012300</td><td>T42101000123</td><td>0.0006089372</td></tr>\n",
       "\t<tr><td>S42101022300</td><td>T42101000223</td><td>0.0005563056</td></tr>\n",
       "\t<tr><td>S42101034300</td><td>T42101000343</td><td>0.0005395094</td></tr>\n",
       "\t<tr><td>S42101036400</td><td>T42101000364</td><td>0.0004507524</td></tr>\n",
       "</tbody>\n",
       "</table>\n"
      ],
      "text/latex": [
       "\\begin{tabular}{r|lll}\n",
       " SID & TID & spark\\\\\n",
       "\\hline\n",
       "\t S42101005200 & T42101000052 & 0.0010725117\\\\\n",
       "\t S42101035400 & T42101000354 & 0.0007944619\\\\\n",
       "\t S42101012300 & T42101000123 & 0.0006089372\\\\\n",
       "\t S42101022300 & T42101000223 & 0.0005563056\\\\\n",
       "\t S42101034300 & T42101000343 & 0.0005395094\\\\\n",
       "\t S42101036400 & T42101000364 & 0.0004507524\\\\\n",
       "\\end{tabular}\n"
      ],
      "text/markdown": [
       "\n",
       "SID | TID | spark | \n",
       "|---|---|---|---|---|---|\n",
       "| S42101005200 | T42101000052 | 0.0010725117 | \n",
       "| S42101035400 | T42101000354 | 0.0007944619 | \n",
       "| S42101012300 | T42101000123 | 0.0006089372 | \n",
       "| S42101022300 | T42101000223 | 0.0005563056 | \n",
       "| S42101034300 | T42101000343 | 0.0005395094 | \n",
       "| S42101036400 | T42101000364 | 0.0004507524 | \n",
       "\n",
       "\n"
      ],
      "text/plain": [
       "  SID          TID          spark       \n",
       "1 S42101005200 T42101000052 0.0010725117\n",
       "2 S42101035400 T42101000354 0.0007944619\n",
       "3 S42101012300 T42101000123 0.0006089372\n",
       "4 S42101022300 T42101000223 0.0005563056\n",
       "5 S42101034300 T42101000343 0.0005395094\n",
       "6 S42101036400 T42101000364 0.0004507524"
      ]
     },
     "metadata": {},
     "output_type": "display_data"
    },
    {
     "data": {
      "text/html": [
       "1535"
      ],
      "text/latex": [
       "1535"
      ],
      "text/markdown": [
       "1535"
      ],
      "text/plain": [
       "[1] 1535"
      ]
     },
     "metadata": {},
     "output_type": "display_data"
    }
   ],
   "source": [
    "spark = read_tsv(\"~/RIDIR/Datasets/AreaTablesValidation/geospark_area_table.tsv\", col_names = c(\"SID\", \"TID\", \"spark\")) %>%\n",
    "    arrange(desc(spark))\n",
    "head(spark)\n",
    "nrow(spark)"
   ]
  },
  {
   "cell_type": "code",
   "execution_count": 9,
   "metadata": {},
   "outputs": [
    {
     "data": {
      "text/html": [
       "<table>\n",
       "<thead><tr><th scope=col>SID</th><th scope=col>TID</th><th scope=col>pandas</th><th scope=col>spark</th></tr></thead>\n",
       "<tbody>\n",
       "\t<tr><td>S42101000100</td><td>T42101000001</td><td>7.105410e-05</td><td>7.105410e-05</td></tr>\n",
       "\t<tr><td>S42101000100</td><td>T42101000127</td><td>2.569501e-07</td><td>2.569501e-07</td></tr>\n",
       "\t<tr><td>S42101000100</td><td>T42101000128</td><td>7.765014e-07</td><td>7.765014e-07</td></tr>\n",
       "\t<tr><td>S42101000100</td><td>T42101000129</td><td>6.323971e-07</td><td>6.323971e-07</td></tr>\n",
       "\t<tr><td>S42101000100</td><td>T42101000366</td><td>2.480105e-06</td><td>2.480105e-06</td></tr>\n",
       "\t<tr><td>S42101000200</td><td>T42101000001</td><td>1.360001e-06</td><td>1.360001e-06</td></tr>\n",
       "</tbody>\n",
       "</table>\n"
      ],
      "text/latex": [
       "\\begin{tabular}{r|llll}\n",
       " SID & TID & pandas & spark\\\\\n",
       "\\hline\n",
       "\t S42101000100 & T42101000001 & 7.105410e-05 & 7.105410e-05\\\\\n",
       "\t S42101000100 & T42101000127 & 2.569501e-07 & 2.569501e-07\\\\\n",
       "\t S42101000100 & T42101000128 & 7.765014e-07 & 7.765014e-07\\\\\n",
       "\t S42101000100 & T42101000129 & 6.323971e-07 & 6.323971e-07\\\\\n",
       "\t S42101000100 & T42101000366 & 2.480105e-06 & 2.480105e-06\\\\\n",
       "\t S42101000200 & T42101000001 & 1.360001e-06 & 1.360001e-06\\\\\n",
       "\\end{tabular}\n"
      ],
      "text/markdown": [
       "\n",
       "SID | TID | pandas | spark | \n",
       "|---|---|---|---|---|---|\n",
       "| S42101000100 | T42101000001 | 7.105410e-05 | 7.105410e-05 | \n",
       "| S42101000100 | T42101000127 | 2.569501e-07 | 2.569501e-07 | \n",
       "| S42101000100 | T42101000128 | 7.765014e-07 | 7.765014e-07 | \n",
       "| S42101000100 | T42101000129 | 6.323971e-07 | 6.323971e-07 | \n",
       "| S42101000100 | T42101000366 | 2.480105e-06 | 2.480105e-06 | \n",
       "| S42101000200 | T42101000001 | 1.360001e-06 | 1.360001e-06 | \n",
       "\n",
       "\n"
      ],
      "text/plain": [
       "  SID          TID          pandas       spark       \n",
       "1 S42101000100 T42101000001 7.105410e-05 7.105410e-05\n",
       "2 S42101000100 T42101000127 2.569501e-07 2.569501e-07\n",
       "3 S42101000100 T42101000128 7.765014e-07 7.765014e-07\n",
       "4 S42101000100 T42101000129 6.323971e-07 6.323971e-07\n",
       "5 S42101000100 T42101000366 2.480105e-06 2.480105e-06\n",
       "6 S42101000200 T42101000001 1.360001e-06 1.360001e-06"
      ]
     },
     "metadata": {},
     "output_type": "display_data"
    }
   ],
   "source": [
    "table = pandas %>% left_join(spark, by = c(\"SID\", \"TID\"))\n",
    "head(table)\n"
   ]
  },
  {
   "cell_type": "code",
   "execution_count": 11,
   "metadata": {},
   "outputs": [
    {
     "data": {
      "text/html": [
       "<table>\n",
       "<thead><tr><th scope=col>SID</th><th scope=col>TID</th><th scope=col>pandas</th><th scope=col>spark</th></tr></thead>\n",
       "<tbody>\n",
       "\t<tr><td>S42101002600</td><td>T42101000026</td><td>7.851250e-05</td><td>NA          </td></tr>\n",
       "\t<tr><td>S42101002600</td><td>T42101000366</td><td>1.384659e-06</td><td>NA          </td></tr>\n",
       "\t<tr><td>S42101004300</td><td>T42101000026</td><td>2.224740e-06</td><td>NA          </td></tr>\n",
       "\t<tr><td>S42101004300</td><td>T42101000043</td><td>2.742320e-04</td><td>NA          </td></tr>\n",
       "\t<tr><td>S42101004900</td><td>T42101000043</td><td>3.448204e-06</td><td>NA          </td></tr>\n",
       "\t<tr><td>S42101004900</td><td>T42101000044</td><td>2.281183e-06</td><td>NA          </td></tr>\n",
       "</tbody>\n",
       "</table>\n"
      ],
      "text/latex": [
       "\\begin{tabular}{r|llll}\n",
       " SID & TID & pandas & spark\\\\\n",
       "\\hline\n",
       "\t S42101002600 & T42101000026 & 7.851250e-05 & NA          \\\\\n",
       "\t S42101002600 & T42101000366 & 1.384659e-06 & NA          \\\\\n",
       "\t S42101004300 & T42101000026 & 2.224740e-06 & NA          \\\\\n",
       "\t S42101004300 & T42101000043 & 2.742320e-04 & NA          \\\\\n",
       "\t S42101004900 & T42101000043 & 3.448204e-06 & NA          \\\\\n",
       "\t S42101004900 & T42101000044 & 2.281183e-06 & NA          \\\\\n",
       "\\end{tabular}\n"
      ],
      "text/markdown": [
       "\n",
       "SID | TID | pandas | spark | \n",
       "|---|---|---|---|---|---|\n",
       "| S42101002600 | T42101000026 | 7.851250e-05 | NA           | \n",
       "| S42101002600 | T42101000366 | 1.384659e-06 | NA           | \n",
       "| S42101004300 | T42101000026 | 2.224740e-06 | NA           | \n",
       "| S42101004300 | T42101000043 | 2.742320e-04 | NA           | \n",
       "| S42101004900 | T42101000043 | 3.448204e-06 | NA           | \n",
       "| S42101004900 | T42101000044 | 2.281183e-06 | NA           | \n",
       "\n",
       "\n"
      ],
      "text/plain": [
       "  SID          TID          pandas       spark\n",
       "1 S42101002600 T42101000026 7.851250e-05 NA   \n",
       "2 S42101002600 T42101000366 1.384659e-06 NA   \n",
       "3 S42101004300 T42101000026 2.224740e-06 NA   \n",
       "4 S42101004300 T42101000043 2.742320e-04 NA   \n",
       "5 S42101004900 T42101000043 3.448204e-06 NA   \n",
       "6 S42101004900 T42101000044 2.281183e-06 NA   "
      ]
     },
     "metadata": {},
     "output_type": "display_data"
    }
   ],
   "source": [
    "head(table %>% filter(is.na(spark)))"
   ]
  },
  {
   "cell_type": "code",
   "execution_count": 12,
   "metadata": {},
   "outputs": [
    {
     "data": {
      "text/html": [
       "<table>\n",
       "<thead><tr><th scope=col>SID</th><th scope=col>TID</th><th scope=col>spark</th><th scope=col>pandas</th><th scope=col>diff</th></tr></thead>\n",
       "<tbody>\n",
       "\t<tr><td>S42101032400</td><td>T42101000327</td><td>4.135117e-06</td><td>4.135117e-06</td><td>0           </td></tr>\n",
       "\t<tr><td>S42101032400</td><td>T42101000324</td><td>1.274564e-04</td><td>1.274564e-04</td><td>0           </td></tr>\n",
       "\t<tr><td>S42101014000</td><td>T42101000147</td><td>1.209101e-06</td><td>1.209101e-06</td><td>0           </td></tr>\n",
       "\t<tr><td>S42101014000</td><td>T42101000146</td><td>5.519013e-07</td><td>5.519013e-07</td><td>0           </td></tr>\n",
       "\t<tr><td>S42101014000</td><td>T42101000140</td><td>4.206096e-05</td><td>4.206096e-05</td><td>0           </td></tr>\n",
       "\t<tr><td>S42101014000</td><td>T42101000141</td><td>1.432142e-06</td><td>1.432142e-06</td><td>0           </td></tr>\n",
       "</tbody>\n",
       "</table>\n"
      ],
      "text/latex": [
       "\\begin{tabular}{r|lllll}\n",
       " SID & TID & spark & pandas & diff\\\\\n",
       "\\hline\n",
       "\t S42101032400 & T42101000327 & 4.135117e-06 & 4.135117e-06 & 0           \\\\\n",
       "\t S42101032400 & T42101000324 & 1.274564e-04 & 1.274564e-04 & 0           \\\\\n",
       "\t S42101014000 & T42101000147 & 1.209101e-06 & 1.209101e-06 & 0           \\\\\n",
       "\t S42101014000 & T42101000146 & 5.519013e-07 & 5.519013e-07 & 0           \\\\\n",
       "\t S42101014000 & T42101000140 & 4.206096e-05 & 4.206096e-05 & 0           \\\\\n",
       "\t S42101014000 & T42101000141 & 1.432142e-06 & 1.432142e-06 & 0           \\\\\n",
       "\\end{tabular}\n"
      ],
      "text/markdown": [
       "\n",
       "SID | TID | spark | pandas | diff | \n",
       "|---|---|---|---|---|---|\n",
       "| S42101032400 | T42101000327 | 4.135117e-06 | 4.135117e-06 | 0            | \n",
       "| S42101032400 | T42101000324 | 1.274564e-04 | 1.274564e-04 | 0            | \n",
       "| S42101014000 | T42101000147 | 1.209101e-06 | 1.209101e-06 | 0            | \n",
       "| S42101014000 | T42101000146 | 5.519013e-07 | 5.519013e-07 | 0            | \n",
       "| S42101014000 | T42101000140 | 4.206096e-05 | 4.206096e-05 | 0            | \n",
       "| S42101014000 | T42101000141 | 1.432142e-06 | 1.432142e-06 | 0            | \n",
       "\n",
       "\n"
      ],
      "text/plain": [
       "  SID          TID          spark        pandas       diff\n",
       "1 S42101032400 T42101000327 4.135117e-06 4.135117e-06 0   \n",
       "2 S42101032400 T42101000324 1.274564e-04 1.274564e-04 0   \n",
       "3 S42101014000 T42101000147 1.209101e-06 1.209101e-06 0   \n",
       "4 S42101014000 T42101000146 5.519013e-07 5.519013e-07 0   \n",
       "5 S42101014000 T42101000140 4.206096e-05 4.206096e-05 0   \n",
       "6 S42101014000 T42101000141 1.432142e-06 1.432142e-06 0   "
      ]
     },
     "metadata": {},
     "output_type": "display_data"
    },
    {
     "data": {
      "text/html": [
       "1535"
      ],
      "text/latex": [
       "1535"
      ],
      "text/markdown": [
       "1535"
      ],
      "text/plain": [
       "[1] 1535"
      ]
     },
     "metadata": {},
     "output_type": "display_data"
    }
   ],
   "source": [
    "table = spark %>% inner_join(pandas, by = c(\"SID\", \"TID\")) %>% \n",
    "    mutate(diff = abs(pandas - spark))\n",
    "head(table)\n",
    "nrow(table)"
   ]
  },
  {
   "cell_type": "code",
   "execution_count": 13,
   "metadata": {},
   "outputs": [
    {
     "data": {
      "image/png": "[encoded data removed]",
      "text/plain": [
       "plot without title"
      ]
     },
     "metadata": {},
     "output_type": "display_data"
    }
   ],
   "source": [
    "ggplot(data = table, aes(x = spark, y = pandas)) + geom_point()"
   ]
  },
  {
   "cell_type": "code",
   "execution_count": 8,
   "metadata": {},
   "outputs": [
    {
     "name": "stdout",
     "output_type": "stream",
     "text": [
      "[1] \"R2:    1\"\n",
      "[1] \"MAE:   1.64695836278361e-23\"\n",
      "[1] \"MSE:   5.64115177666031e-44\"\n",
      "[1] \"RMSE:  2.37511089776042e-22\"\n",
      "[1] \"RAE:   4.91499517530793e-19\"\n",
      "[1] \"MAPE:  1.70539285779528e-17\"\n"
     ]
    }
   ],
   "source": [
    "print(paste(\"R2:   \", R2_Score(table$spark, table$pandas)))\n",
    "print(paste(\"MAE:  \",      MAE(table$spark, table$pandas)))\n",
    "print(paste(\"MSE:  \",      MSE(table$spark, table$pandas)))\n",
    "print(paste(\"RMSE: \",     RMSE(table$spark, table$pandas)))\n",
    "print(paste(\"RAE:  \",      RAE(table$spark, table$pandas)))\n",
    "print(paste(\"MAPE: \",     MAPE(table$spark, table$pandas)))\n"
   ]
  },
  {
   "cell_type": "code",
   "execution_count": null,
   "metadata": {},
   "outputs": [],
   "source": []
  }
 ],
 "metadata": {
  "kernelspec": {
   "display_name": "R",
   "language": "R",
   "name": "ir"
  },
  "language_info": {
   "codemirror_mode": "r",
   "file_extension": ".r",
   "mimetype": "text/x-r-source",
   "name": "R",
   "pygments_lexer": "r",
   "version": "3.6.0"
  }
 },
 "nbformat": 4,
 "nbformat_minor": 2
}
