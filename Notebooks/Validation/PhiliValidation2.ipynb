{
 "cells": [
  {
   "cell_type": "code",
   "execution_count": 1,
   "metadata": {},
   "outputs": [
    {
     "name": "stderr",
     "output_type": "stream",
     "text": [
      "Registered S3 methods overwritten by 'ggplot2':\n",
      "  method         from \n",
      "  [.quosures     rlang\n",
      "  c.quosures     rlang\n",
      "  print.quosures rlang\n",
      "Registered S3 method overwritten by 'rvest':\n",
      "  method            from\n",
      "  read_xml.response xml2\n",
      "── Attaching packages ─────────────────────────────────────── tidyverse 1.2.1 ──\n",
      "✔ ggplot2 3.1.0       ✔ purrr   0.3.2  \n",
      "✔ tibble  2.1.1       ✔ dplyr   0.8.0.1\n",
      "✔ tidyr   0.8.3       ✔ stringr 1.4.0  \n",
      "✔ readr   1.3.1       ✔ forcats 0.4.0  \n",
      "── Conflicts ────────────────────────────────────────── tidyverse_conflicts() ──\n",
      "✖ dplyr::filter() masks stats::filter()\n",
      "✖ dplyr::lag()    masks stats::lag()\n",
      "\n",
      "Attaching package: ‘MLmetrics’\n",
      "\n",
      "The following object is masked from ‘package:base’:\n",
      "\n",
      "    Recall\n",
      "\n"
     ]
    }
   ],
   "source": [
    "library(tidyverse)\n",
    "library(MLmetrics)"
   ]
  },
  {
   "cell_type": "code",
   "execution_count": 2,
   "metadata": {},
   "outputs": [
    {
     "name": "stderr",
     "output_type": "stream",
     "text": [
      "Parsed with column specification:\n",
      "cols(\n",
      "  TID = col_character(),\n",
      "  pandas = col_double()\n",
      ")\n"
     ]
    },
    {
     "data": {
      "text/html": [
       "<table>\n",
       "<thead><tr><th scope=col>TID</th><th scope=col>pandas</th></tr></thead>\n",
       "<tbody>\n",
       "\t<tr><td>T42101000324</td><td>38.12638    </td></tr>\n",
       "\t<tr><td>T42101000159</td><td>21.81991    </td></tr>\n",
       "\t<tr><td>T42101000160</td><td>21.62135    </td></tr>\n",
       "\t<tr><td>T42101000330</td><td>20.78395    </td></tr>\n",
       "\t<tr><td>T42101000229</td><td>20.62140    </td></tr>\n",
       "\t<tr><td>T42101000184</td><td>20.56308    </td></tr>\n",
       "</tbody>\n",
       "</table>\n"
      ],
      "text/latex": [
       "\\begin{tabular}{r|ll}\n",
       " TID & pandas\\\\\n",
       "\\hline\n",
       "\t T42101000324 & 38.12638    \\\\\n",
       "\t T42101000159 & 21.81991    \\\\\n",
       "\t T42101000160 & 21.62135    \\\\\n",
       "\t T42101000330 & 20.78395    \\\\\n",
       "\t T42101000229 & 20.62140    \\\\\n",
       "\t T42101000184 & 20.56308    \\\\\n",
       "\\end{tabular}\n"
      ],
      "text/markdown": [
       "\n",
       "TID | pandas | \n",
       "|---|---|---|---|---|---|\n",
       "| T42101000324 | 38.12638     | \n",
       "| T42101000159 | 21.81991     | \n",
       "| T42101000160 | 21.62135     | \n",
       "| T42101000330 | 20.78395     | \n",
       "| T42101000229 | 20.62140     | \n",
       "| T42101000184 | 20.56308     | \n",
       "\n",
       "\n"
      ],
      "text/plain": [
       "  TID          pandas  \n",
       "1 T42101000324 38.12638\n",
       "2 T42101000159 21.81991\n",
       "3 T42101000160 21.62135\n",
       "4 T42101000330 20.78395\n",
       "5 T42101000229 20.62140\n",
       "6 T42101000184 20.56308"
      ]
     },
     "metadata": {},
     "output_type": "display_data"
    },
    {
     "data": {
      "text/html": [
       "367"
      ],
      "text/latex": [
       "367"
      ],
      "text/markdown": [
       "367"
      ],
      "text/plain": [
       "[1] 367"
      ]
     },
     "metadata": {},
     "output_type": "display_data"
    }
   ],
   "source": [
    "pandas = read_tsv(\"~/RIDIR/Datasets/AreaInterpolateValidation/geopandas_intensive2000a.tsv\", col_names = c(\"TID\", \"pandas\")) %>%\n",
    "    arrange(desc(pandas))\n",
    "head(pandas)\n",
    "nrow(pandas)"
   ]
  },
  {
   "cell_type": "code",
   "execution_count": 4,
   "metadata": {},
   "outputs": [
    {
     "name": "stderr",
     "output_type": "stream",
     "text": [
      "Parsed with column specification:\n",
      "cols(\n",
      "  TID = col_character(),\n",
      "  spark = col_double()\n",
      ")\n"
     ]
    },
    {
     "data": {
      "text/html": [
       "<table>\n",
       "<thead><tr><th scope=col>TID</th><th scope=col>spark</th></tr></thead>\n",
       "<tbody>\n",
       "\t<tr><td>T42101000324</td><td>38.11749    </td></tr>\n",
       "\t<tr><td>T42101000159</td><td>21.81991    </td></tr>\n",
       "\t<tr><td>T42101000160</td><td>21.62135    </td></tr>\n",
       "\t<tr><td>T42101000330</td><td>20.78395    </td></tr>\n",
       "\t<tr><td>T42101000229</td><td>20.62140    </td></tr>\n",
       "\t<tr><td>T42101000184</td><td>20.56308    </td></tr>\n",
       "</tbody>\n",
       "</table>\n"
      ],
      "text/latex": [
       "\\begin{tabular}{r|ll}\n",
       " TID & spark\\\\\n",
       "\\hline\n",
       "\t T42101000324 & 38.11749    \\\\\n",
       "\t T42101000159 & 21.81991    \\\\\n",
       "\t T42101000160 & 21.62135    \\\\\n",
       "\t T42101000330 & 20.78395    \\\\\n",
       "\t T42101000229 & 20.62140    \\\\\n",
       "\t T42101000184 & 20.56308    \\\\\n",
       "\\end{tabular}\n"
      ],
      "text/markdown": [
       "\n",
       "TID | spark | \n",
       "|---|---|---|---|---|---|\n",
       "| T42101000324 | 38.11749     | \n",
       "| T42101000159 | 21.81991     | \n",
       "| T42101000160 | 21.62135     | \n",
       "| T42101000330 | 20.78395     | \n",
       "| T42101000229 | 20.62140     | \n",
       "| T42101000184 | 20.56308     | \n",
       "\n",
       "\n"
      ],
      "text/plain": [
       "  TID          spark   \n",
       "1 T42101000324 38.11749\n",
       "2 T42101000159 21.81991\n",
       "3 T42101000160 21.62135\n",
       "4 T42101000330 20.78395\n",
       "5 T42101000229 20.62140\n",
       "6 T42101000184 20.56308"
      ]
     },
     "metadata": {},
     "output_type": "display_data"
    },
    {
     "data": {
      "text/html": [
       "366"
      ],
      "text/latex": [
       "366"
      ],
      "text/markdown": [
       "366"
      ],
      "text/plain": [
       "[1] 366"
      ]
     },
     "metadata": {},
     "output_type": "display_data"
    }
   ],
   "source": [
    "spark = read_tsv(\"~/RIDIR/Datasets/AreaInterpolateValidation/geospark_intensive2000.tsv\", col_names = c(\"TID\", \"spark\")) %>%\n",
    "    arrange(desc(spark))\n",
    "head(spark)\n",
    "nrow(spark)"
   ]
  },
  {
   "cell_type": "code",
   "execution_count": 5,
   "metadata": {},
   "outputs": [
    {
     "data": {
      "text/html": [
       "<table>\n",
       "<thead><tr><th scope=col>TID</th><th scope=col>pandas</th><th scope=col>spark</th></tr></thead>\n",
       "<tbody>\n",
       "\t<tr><td>T42101000324</td><td>38.12638    </td><td>38.11749    </td></tr>\n",
       "\t<tr><td>T42101000159</td><td>21.81991    </td><td>21.81991    </td></tr>\n",
       "\t<tr><td>T42101000160</td><td>21.62135    </td><td>21.62135    </td></tr>\n",
       "\t<tr><td>T42101000330</td><td>20.78395    </td><td>20.78395    </td></tr>\n",
       "\t<tr><td>T42101000229</td><td>20.62140    </td><td>20.62140    </td></tr>\n",
       "\t<tr><td>T42101000184</td><td>20.56308    </td><td>20.56308    </td></tr>\n",
       "</tbody>\n",
       "</table>\n"
      ],
      "text/latex": [
       "\\begin{tabular}{r|lll}\n",
       " TID & pandas & spark\\\\\n",
       "\\hline\n",
       "\t T42101000324 & 38.12638     & 38.11749    \\\\\n",
       "\t T42101000159 & 21.81991     & 21.81991    \\\\\n",
       "\t T42101000160 & 21.62135     & 21.62135    \\\\\n",
       "\t T42101000330 & 20.78395     & 20.78395    \\\\\n",
       "\t T42101000229 & 20.62140     & 20.62140    \\\\\n",
       "\t T42101000184 & 20.56308     & 20.56308    \\\\\n",
       "\\end{tabular}\n"
      ],
      "text/markdown": [
       "\n",
       "TID | pandas | spark | \n",
       "|---|---|---|---|---|---|\n",
       "| T42101000324 | 38.12638     | 38.11749     | \n",
       "| T42101000159 | 21.81991     | 21.81991     | \n",
       "| T42101000160 | 21.62135     | 21.62135     | \n",
       "| T42101000330 | 20.78395     | 20.78395     | \n",
       "| T42101000229 | 20.62140     | 20.62140     | \n",
       "| T42101000184 | 20.56308     | 20.56308     | \n",
       "\n",
       "\n"
      ],
      "text/plain": [
       "  TID          pandas   spark   \n",
       "1 T42101000324 38.12638 38.11749\n",
       "2 T42101000159 21.81991 21.81991\n",
       "3 T42101000160 21.62135 21.62135\n",
       "4 T42101000330 20.78395 20.78395\n",
       "5 T42101000229 20.62140 20.62140\n",
       "6 T42101000184 20.56308 20.56308"
      ]
     },
     "metadata": {},
     "output_type": "display_data"
    },
    {
     "data": {
      "text/html": [
       "367"
      ],
      "text/latex": [
       "367"
      ],
      "text/markdown": [
       "367"
      ],
      "text/plain": [
       "[1] 367"
      ]
     },
     "metadata": {},
     "output_type": "display_data"
    }
   ],
   "source": [
    "table = pandas %>% left_join(spark, by = c(\"TID\"))\n",
    "head(table)\n",
    "nrow(table)"
   ]
  },
  {
   "cell_type": "code",
   "execution_count": 6,
   "metadata": {},
   "outputs": [
    {
     "data": {
      "text/html": [
       "<table>\n",
       "<thead><tr><th scope=col>TID</th><th scope=col>pandas</th><th scope=col>spark</th></tr></thead>\n",
       "<tbody>\n",
       "\t<tr><td>T42101005099</td><td>0           </td><td>NA          </td></tr>\n",
       "</tbody>\n",
       "</table>\n"
      ],
      "text/latex": [
       "\\begin{tabular}{r|lll}\n",
       " TID & pandas & spark\\\\\n",
       "\\hline\n",
       "\t T42101005099 & 0            & NA          \\\\\n",
       "\\end{tabular}\n"
      ],
      "text/markdown": [
       "\n",
       "TID | pandas | spark | \n",
       "|---|\n",
       "| T42101005099 | 0            | NA           | \n",
       "\n",
       "\n"
      ],
      "text/plain": [
       "  TID          pandas spark\n",
       "1 T42101005099 0      NA   "
      ]
     },
     "metadata": {},
     "output_type": "display_data"
    }
   ],
   "source": [
    "head(table %>% filter(is.na(spark)))"
   ]
  },
  {
   "cell_type": "code",
   "execution_count": 7,
   "metadata": {},
   "outputs": [
    {
     "data": {
      "text/html": [
       "<table>\n",
       "<thead><tr><th scope=col>TID</th><th scope=col>spark</th><th scope=col>pandas</th><th scope=col>diff</th></tr></thead>\n",
       "<tbody>\n",
       "\t<tr><td>T42101000043</td><td> 0.27199356 </td><td>13.942530   </td><td>13.6705365  </td></tr>\n",
       "\t<tr><td>T42101000026</td><td> 0.22256543 </td><td> 8.038569   </td><td> 7.8160034  </td></tr>\n",
       "\t<tr><td>T42101000049</td><td> 0.05456310 </td><td> 5.872965   </td><td> 5.8184015  </td></tr>\n",
       "\t<tr><td>T42101000058</td><td> 0.03402696 </td><td> 4.335121   </td><td> 4.3010943  </td></tr>\n",
       "\t<tr><td>T42101000059</td><td> 0.32093933 </td><td> 3.650612   </td><td> 3.3296728  </td></tr>\n",
       "\t<tr><td>T42101000209</td><td>11.59267598 </td><td>12.231093   </td><td> 0.6384174  </td></tr>\n",
       "</tbody>\n",
       "</table>\n"
      ],
      "text/latex": [
       "\\begin{tabular}{r|llll}\n",
       " TID & spark & pandas & diff\\\\\n",
       "\\hline\n",
       "\t T42101000043 &  0.27199356  & 13.942530    & 13.6705365  \\\\\n",
       "\t T42101000026 &  0.22256543  &  8.038569    &  7.8160034  \\\\\n",
       "\t T42101000049 &  0.05456310  &  5.872965    &  5.8184015  \\\\\n",
       "\t T42101000058 &  0.03402696  &  4.335121    &  4.3010943  \\\\\n",
       "\t T42101000059 &  0.32093933  &  3.650612    &  3.3296728  \\\\\n",
       "\t T42101000209 & 11.59267598  & 12.231093    &  0.6384174  \\\\\n",
       "\\end{tabular}\n"
      ],
      "text/markdown": [
       "\n",
       "TID | spark | pandas | diff | \n",
       "|---|---|---|---|---|---|\n",
       "| T42101000043 |  0.27199356  | 13.942530    | 13.6705365   | \n",
       "| T42101000026 |  0.22256543  |  8.038569    |  7.8160034   | \n",
       "| T42101000049 |  0.05456310  |  5.872965    |  5.8184015   | \n",
       "| T42101000058 |  0.03402696  |  4.335121    |  4.3010943   | \n",
       "| T42101000059 |  0.32093933  |  3.650612    |  3.3296728   | \n",
       "| T42101000209 | 11.59267598  | 12.231093    |  0.6384174   | \n",
       "\n",
       "\n"
      ],
      "text/plain": [
       "  TID          spark       pandas    diff      \n",
       "1 T42101000043  0.27199356 13.942530 13.6705365\n",
       "2 T42101000026  0.22256543  8.038569  7.8160034\n",
       "3 T42101000049  0.05456310  5.872965  5.8184015\n",
       "4 T42101000058  0.03402696  4.335121  4.3010943\n",
       "5 T42101000059  0.32093933  3.650612  3.3296728\n",
       "6 T42101000209 11.59267598 12.231093  0.6384174"
      ]
     },
     "metadata": {},
     "output_type": "display_data"
    },
    {
     "data": {
      "text/html": [
       "366"
      ],
      "text/latex": [
       "366"
      ],
      "text/markdown": [
       "366"
      ],
      "text/plain": [
       "[1] 366"
      ]
     },
     "metadata": {},
     "output_type": "display_data"
    }
   ],
   "source": [
    "table = spark %>% inner_join(pandas, by = c(\"TID\")) %>% \n",
    "    mutate(diff = abs(pandas - spark)) %>%\n",
    "    arrange(desc(diff))\n",
    "head(table)\n",
    "nrow(table)"
   ]
  },
  {
   "cell_type": "code",
   "execution_count": 8,
   "metadata": {},
   "outputs": [
    {
     "data": {
      "image/png": "[encoded data removed]",
      "text/plain": [
       "plot without title"
      ]
     },
     "metadata": {},
     "output_type": "display_data"
    }
   ],
   "source": [
    "ggplot(data = table, aes(x = pandas, y = spark)) + geom_point()"
   ]
  },
  {
   "cell_type": "code",
   "execution_count": 9,
   "metadata": {},
   "outputs": [
    {
     "name": "stdout",
     "output_type": "stream",
     "text": [
      "[1] \"R2:    0.979943719396579\"\n",
      "[1] \"MAE:   0.119453175632082\"\n",
      "[1] \"MSE:   0.858532333550596\"\n",
      "[1] \"RMSE:  0.926570198932923\"\n",
      "[1] \"RAE:   0.0211762739389356\"\n",
      "[1] \"MAPE:  0.026530126011736\"\n"
     ]
    }
   ],
   "source": [
    "print(paste(\"R2:   \", R2_Score(table$spark, table$pandas)))\n",
    "print(paste(\"MAE:  \",      MAE(table$spark, table$pandas)))\n",
    "print(paste(\"MSE:  \",      MSE(table$spark, table$pandas)))\n",
    "print(paste(\"RMSE: \",     RMSE(table$spark, table$pandas)))\n",
    "print(paste(\"RAE:  \",      RAE(table$spark, table$pandas)))\n",
    "print(paste(\"MAPE: \",     MAPE(table$spark, table$pandas)))\n"
   ]
  },
  {
   "cell_type": "code",
   "execution_count": null,
   "metadata": {},
   "outputs": [],
   "source": []
  }
 ],
 "metadata": {
  "kernelspec": {
   "display_name": "R",
   "language": "R",
   "name": "ir"
  },
  "language_info": {
   "codemirror_mode": "r",
   "file_extension": ".r",
   "mimetype": "text/x-r-source",
   "name": "R",
   "pygments_lexer": "r",
   "version": "3.6.0"
  }
 },
 "nbformat": 4,
 "nbformat_minor": 2
}
