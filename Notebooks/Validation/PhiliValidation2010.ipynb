{
 "cells": [
  {
   "cell_type": "code",
   "execution_count": 9,
   "metadata": {},
   "outputs": [],
   "source": [
    "library(tidyverse)\n",
    "library(MLmetrics)"
   ]
  },
  {
   "cell_type": "code",
   "execution_count": 2,
   "metadata": {},
   "outputs": [
    {
     "name": "stderr",
     "output_type": "stream",
     "text": [
      "Parsed with column specification:\n",
      "cols(\n",
      "  TID = col_character(),\n",
      "  pandas = col_double()\n",
      ")\n"
     ]
    },
    {
     "data": {
      "text/html": [
       "<table>\n",
       "<thead><tr><th scope=col>TID</th><th scope=col>pandas</th></tr></thead>\n",
       "<tbody>\n",
       "\t<tr><td>T42101000332</td><td>19.19754    </td></tr>\n",
       "\t<tr><td>T42101000365</td><td>16.92458    </td></tr>\n",
       "\t<tr><td>T42101000331</td><td>16.64821    </td></tr>\n",
       "\t<tr><td>T42101000315</td><td>16.09803    </td></tr>\n",
       "\t<tr><td>T42101003898</td><td>15.26946    </td></tr>\n",
       "\t<tr><td>T42101000221</td><td>15.17521    </td></tr>\n",
       "</tbody>\n",
       "</table>\n"
      ],
      "text/latex": [
       "\\begin{tabular}{r|ll}\n",
       " TID & pandas\\\\\n",
       "\\hline\n",
       "\t T42101000332 & 19.19754    \\\\\n",
       "\t T42101000365 & 16.92458    \\\\\n",
       "\t T42101000331 & 16.64821    \\\\\n",
       "\t T42101000315 & 16.09803    \\\\\n",
       "\t T42101003898 & 15.26946    \\\\\n",
       "\t T42101000221 & 15.17521    \\\\\n",
       "\\end{tabular}\n"
      ],
      "text/markdown": [
       "\n",
       "TID | pandas | \n",
       "|---|---|---|---|---|---|\n",
       "| T42101000332 | 19.19754     | \n",
       "| T42101000365 | 16.92458     | \n",
       "| T42101000331 | 16.64821     | \n",
       "| T42101000315 | 16.09803     | \n",
       "| T42101003898 | 15.26946     | \n",
       "| T42101000221 | 15.17521     | \n",
       "\n",
       "\n"
      ],
      "text/plain": [
       "  TID          pandas  \n",
       "1 T42101000332 19.19754\n",
       "2 T42101000365 16.92458\n",
       "3 T42101000331 16.64821\n",
       "4 T42101000315 16.09803\n",
       "5 T42101003898 15.26946\n",
       "6 T42101000221 15.17521"
      ]
     },
     "metadata": {},
     "output_type": "display_data"
    },
    {
     "data": {
      "text/html": [
       "367"
      ],
      "text/latex": [
       "367"
      ],
      "text/markdown": [
       "367"
      ],
      "text/plain": [
       "[1] 367"
      ]
     },
     "metadata": {},
     "output_type": "display_data"
    }
   ],
   "source": [
    "pandas = read_tsv(\"~/RIDIR/Datasets/AreaInterpolateValidation/geopandas_intensive2010.tsv\", col_names = c(\"TID\", \"pandas\")) %>%\n",
    "    arrange(desc(pandas))\n",
    "head(pandas)\n",
    "nrow(pandas)"
   ]
  },
  {
   "cell_type": "code",
   "execution_count": 3,
   "metadata": {},
   "outputs": [
    {
     "name": "stderr",
     "output_type": "stream",
     "text": [
      "Parsed with column specification:\n",
      "cols(\n",
      "  TID = col_character(),\n",
      "  spark = col_double()\n",
      ")\n"
     ]
    },
    {
     "data": {
      "text/html": [
       "<table>\n",
       "<thead><tr><th scope=col>TID</th><th scope=col>spark</th></tr></thead>\n",
       "<tbody>\n",
       "\t<tr><td>T42101000332</td><td>19.19754    </td></tr>\n",
       "\t<tr><td>T42101000365</td><td>16.92458    </td></tr>\n",
       "\t<tr><td>T42101000331</td><td>16.64821    </td></tr>\n",
       "\t<tr><td>T42101000315</td><td>16.09803    </td></tr>\n",
       "\t<tr><td>T42101003898</td><td>15.26946    </td></tr>\n",
       "\t<tr><td>T42101000221</td><td>15.17521    </td></tr>\n",
       "</tbody>\n",
       "</table>\n"
      ],
      "text/latex": [
       "\\begin{tabular}{r|ll}\n",
       " TID & spark\\\\\n",
       "\\hline\n",
       "\t T42101000332 & 19.19754    \\\\\n",
       "\t T42101000365 & 16.92458    \\\\\n",
       "\t T42101000331 & 16.64821    \\\\\n",
       "\t T42101000315 & 16.09803    \\\\\n",
       "\t T42101003898 & 15.26946    \\\\\n",
       "\t T42101000221 & 15.17521    \\\\\n",
       "\\end{tabular}\n"
      ],
      "text/markdown": [
       "\n",
       "TID | spark | \n",
       "|---|---|---|---|---|---|\n",
       "| T42101000332 | 19.19754     | \n",
       "| T42101000365 | 16.92458     | \n",
       "| T42101000331 | 16.64821     | \n",
       "| T42101000315 | 16.09803     | \n",
       "| T42101003898 | 15.26946     | \n",
       "| T42101000221 | 15.17521     | \n",
       "\n",
       "\n"
      ],
      "text/plain": [
       "  TID          spark   \n",
       "1 T42101000332 19.19754\n",
       "2 T42101000365 16.92458\n",
       "3 T42101000331 16.64821\n",
       "4 T42101000315 16.09803\n",
       "5 T42101003898 15.26946\n",
       "6 T42101000221 15.17521"
      ]
     },
     "metadata": {},
     "output_type": "display_data"
    },
    {
     "data": {
      "text/html": [
       "367"
      ],
      "text/latex": [
       "367"
      ],
      "text/markdown": [
       "367"
      ],
      "text/plain": [
       "[1] 367"
      ]
     },
     "metadata": {},
     "output_type": "display_data"
    }
   ],
   "source": [
    "spark = read_tsv(\"~/RIDIR/Datasets/AreaInterpolateValidation/geospark_intensive2010.tsv\", col_names = c(\"TID\", \"spark\")) %>%\n",
    "    arrange(desc(spark))\n",
    "head(spark)\n",
    "nrow(spark)"
   ]
  },
  {
   "cell_type": "code",
   "execution_count": 4,
   "metadata": {},
   "outputs": [
    {
     "data": {
      "text/html": [
       "<table>\n",
       "<thead><tr><th scope=col>TID</th><th scope=col>pandas</th><th scope=col>spark</th></tr></thead>\n",
       "<tbody>\n",
       "\t<tr><td>T42101000332</td><td>19.19754    </td><td>19.19754    </td></tr>\n",
       "\t<tr><td>T42101000365</td><td>16.92458    </td><td>16.92458    </td></tr>\n",
       "\t<tr><td>T42101000331</td><td>16.64821    </td><td>16.64821    </td></tr>\n",
       "\t<tr><td>T42101000315</td><td>16.09803    </td><td>16.09803    </td></tr>\n",
       "\t<tr><td>T42101003898</td><td>15.26946    </td><td>15.26946    </td></tr>\n",
       "\t<tr><td>T42101000221</td><td>15.17521    </td><td>15.17521    </td></tr>\n",
       "</tbody>\n",
       "</table>\n"
      ],
      "text/latex": [
       "\\begin{tabular}{r|lll}\n",
       " TID & pandas & spark\\\\\n",
       "\\hline\n",
       "\t T42101000332 & 19.19754     & 19.19754    \\\\\n",
       "\t T42101000365 & 16.92458     & 16.92458    \\\\\n",
       "\t T42101000331 & 16.64821     & 16.64821    \\\\\n",
       "\t T42101000315 & 16.09803     & 16.09803    \\\\\n",
       "\t T42101003898 & 15.26946     & 15.26946    \\\\\n",
       "\t T42101000221 & 15.17521     & 15.17521    \\\\\n",
       "\\end{tabular}\n"
      ],
      "text/markdown": [
       "\n",
       "TID | pandas | spark | \n",
       "|---|---|---|---|---|---|\n",
       "| T42101000332 | 19.19754     | 19.19754     | \n",
       "| T42101000365 | 16.92458     | 16.92458     | \n",
       "| T42101000331 | 16.64821     | 16.64821     | \n",
       "| T42101000315 | 16.09803     | 16.09803     | \n",
       "| T42101003898 | 15.26946     | 15.26946     | \n",
       "| T42101000221 | 15.17521     | 15.17521     | \n",
       "\n",
       "\n"
      ],
      "text/plain": [
       "  TID          pandas   spark   \n",
       "1 T42101000332 19.19754 19.19754\n",
       "2 T42101000365 16.92458 16.92458\n",
       "3 T42101000331 16.64821 16.64821\n",
       "4 T42101000315 16.09803 16.09803\n",
       "5 T42101003898 15.26946 15.26946\n",
       "6 T42101000221 15.17521 15.17521"
      ]
     },
     "metadata": {},
     "output_type": "display_data"
    },
    {
     "data": {
      "text/html": [
       "367"
      ],
      "text/latex": [
       "367"
      ],
      "text/markdown": [
       "367"
      ],
      "text/plain": [
       "[1] 367"
      ]
     },
     "metadata": {},
     "output_type": "display_data"
    }
   ],
   "source": [
    "table = pandas %>% left_join(spark, by = c(\"TID\"))\n",
    "head(table)\n",
    "nrow(table)"
   ]
  },
  {
   "cell_type": "code",
   "execution_count": 5,
   "metadata": {},
   "outputs": [
    {
     "data": {
      "text/html": [
       "<table>\n",
       "<thead><tr><th scope=col>TID</th><th scope=col>pandas</th><th scope=col>spark</th></tr></thead>\n",
       "<tbody>\n",
       "</tbody>\n",
       "</table>\n"
      ],
      "text/latex": [
       "\\begin{tabular}{r|lll}\n",
       " TID & pandas & spark\\\\\n",
       "\\hline\n",
       "\\end{tabular}\n"
      ],
      "text/markdown": [
       "\n",
       "TID | pandas | spark | \n",
       "||\n",
       "\n",
       "\n"
      ],
      "text/plain": [
       "     TID pandas spark"
      ]
     },
     "metadata": {},
     "output_type": "display_data"
    }
   ],
   "source": [
    "head(table %>% filter(is.na(spark)))"
   ]
  },
  {
   "cell_type": "code",
   "execution_count": 6,
   "metadata": {},
   "outputs": [
    {
     "data": {
      "text/html": [
       "<table>\n",
       "<thead><tr><th scope=col>TID</th><th scope=col>spark</th><th scope=col>pandas</th><th scope=col>diff</th></tr></thead>\n",
       "<tbody>\n",
       "\t<tr><td>T42101000362</td><td>13.816088   </td><td>13.816088   </td><td>5.329071e-15</td></tr>\n",
       "\t<tr><td>T42101000293</td><td> 2.022901   </td><td> 2.022901   </td><td>4.440892e-15</td></tr>\n",
       "\t<tr><td>T42101000331</td><td>16.648214   </td><td>16.648214   </td><td>3.552714e-15</td></tr>\n",
       "\t<tr><td>T42101000316</td><td>14.721355   </td><td>14.721355   </td><td>3.552714e-15</td></tr>\n",
       "\t<tr><td>T42101000184</td><td>12.239330   </td><td>12.239330   </td><td>3.552714e-15</td></tr>\n",
       "\t<tr><td>T42101000234</td><td>11.637166   </td><td>11.637166   </td><td>3.552714e-15</td></tr>\n",
       "</tbody>\n",
       "</table>\n"
      ],
      "text/latex": [
       "\\begin{tabular}{r|llll}\n",
       " TID & spark & pandas & diff\\\\\n",
       "\\hline\n",
       "\t T42101000362 & 13.816088    & 13.816088    & 5.329071e-15\\\\\n",
       "\t T42101000293 &  2.022901    &  2.022901    & 4.440892e-15\\\\\n",
       "\t T42101000331 & 16.648214    & 16.648214    & 3.552714e-15\\\\\n",
       "\t T42101000316 & 14.721355    & 14.721355    & 3.552714e-15\\\\\n",
       "\t T42101000184 & 12.239330    & 12.239330    & 3.552714e-15\\\\\n",
       "\t T42101000234 & 11.637166    & 11.637166    & 3.552714e-15\\\\\n",
       "\\end{tabular}\n"
      ],
      "text/markdown": [
       "\n",
       "TID | spark | pandas | diff | \n",
       "|---|---|---|---|---|---|\n",
       "| T42101000362 | 13.816088    | 13.816088    | 5.329071e-15 | \n",
       "| T42101000293 |  2.022901    |  2.022901    | 4.440892e-15 | \n",
       "| T42101000331 | 16.648214    | 16.648214    | 3.552714e-15 | \n",
       "| T42101000316 | 14.721355    | 14.721355    | 3.552714e-15 | \n",
       "| T42101000184 | 12.239330    | 12.239330    | 3.552714e-15 | \n",
       "| T42101000234 | 11.637166    | 11.637166    | 3.552714e-15 | \n",
       "\n",
       "\n"
      ],
      "text/plain": [
       "  TID          spark     pandas    diff        \n",
       "1 T42101000362 13.816088 13.816088 5.329071e-15\n",
       "2 T42101000293  2.022901  2.022901 4.440892e-15\n",
       "3 T42101000331 16.648214 16.648214 3.552714e-15\n",
       "4 T42101000316 14.721355 14.721355 3.552714e-15\n",
       "5 T42101000184 12.239330 12.239330 3.552714e-15\n",
       "6 T42101000234 11.637166 11.637166 3.552714e-15"
      ]
     },
     "metadata": {},
     "output_type": "display_data"
    },
    {
     "data": {
      "text/html": [
       "367"
      ],
      "text/latex": [
       "367"
      ],
      "text/markdown": [
       "367"
      ],
      "text/plain": [
       "[1] 367"
      ]
     },
     "metadata": {},
     "output_type": "display_data"
    }
   ],
   "source": [
    "table = spark %>% inner_join(pandas, by = c(\"TID\")) %>% \n",
    "    mutate(diff = abs(pandas - spark)) %>%\n",
    "    arrange(desc(diff))\n",
    "head(table)\n",
    "nrow(table)"
   ]
  },
  {
   "cell_type": "code",
   "execution_count": 7,
   "metadata": {},
   "outputs": [
    {
     "data": {
      "image/png": "[encoded data removed]",
      "text/plain": [
       "plot without title"
      ]
     },
     "metadata": {},
     "output_type": "display_data"
    }
   ],
   "source": [
    "ggplot(data = table, aes(x = pandas, y = spark)) + geom_point()"
   ]
  },
  {
   "cell_type": "code",
   "execution_count": 8,
   "metadata": {},
   "outputs": [
    {
     "name": "stdout",
     "output_type": "stream",
     "text": [
      "[1] \"R2:    1\"\n",
      "[1] \"MAE:   3.84957596597616e-16\"\n",
      "[1] \"MSE:   7.94549423346953e-31\"\n",
      "[1] \"RMSE:  8.91375018354763e-16\"\n",
      "[1] \"RAE:   1.01801250717404e-16\"\n"
     ]
    }
   ],
   "source": [
    "print(paste(\"R2:   \", R2_Score(table$spark, table$pandas)))\n",
    "print(paste(\"MAE:  \",      MAE(table$spark, table$pandas)))\n",
    "print(paste(\"MSE:  \",      MSE(table$spark, table$pandas)))\n",
    "print(paste(\"RMSE: \",     RMSE(table$spark, table$pandas)))\n",
    "print(paste(\"RAE:  \",      RAE(table$spark, table$pandas)))\n"
   ]
  },
  {
   "cell_type": "code",
   "execution_count": null,
   "metadata": {},
   "outputs": [],
   "source": []
  }
 ],
 "metadata": {
  "kernelspec": {
   "display_name": "R",
   "language": "R",
   "name": "ir"
  },
  "language_info": {
   "codemirror_mode": "r",
   "file_extension": ".r",
   "mimetype": "text/x-r-source",
   "name": "R",
   "pygments_lexer": "r",
   "version": "3.6.0"
  }
 },
 "nbformat": 4,
 "nbformat_minor": 2
}
